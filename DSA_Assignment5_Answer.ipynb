{
 "cells": [
  {
   "cell_type": "markdown",
   "id": "06e51cd3",
   "metadata": {},
   "source": [
    "<aside>\n",
    "💡 **Question 1**\n",
    "\n",
    "Convert 1D Array Into 2D Array\n",
    "\n",
    "You are given a **0-indexed** 1-dimensional (1D) integer array original, and two integers, m and n. You are tasked with creating a 2-dimensional (2D) array with  m rows and n columns using **all** the elements from original.\n",
    "\n",
    "The elements from indices 0 to n - 1 (**inclusive**) of original should form the first row of the constructed 2D array, the elements from indices n to 2 * n - 1 (**inclusive**) should form the second row of the constructed 2D array, and so on.\n",
    "\n",
    "Return *an* m x n *2D array constructed according to the above procedure, or an empty 2D array if it is impossible*.\n",
    "\n",
    "**Example 1:**\n",
    "\n",
    "    \n",
    "    \n",
    "<img src='https://pwskills.notion.site/image/https%3A%2F%2Fs3-us-west-2.amazonaws.com%2Fsecure.notion-static.com%2Fde7ec927-9e60-4545-9475-f3ee31116192%2FScreenshot_2023-05-29_004311.png?id=371a0653-5ed2-4a22-a9de-00d4d4c3479d&table=block&spaceId=6fae2e0f-dedc-48e9-bc59-af2654c78209&width=2000&userId=&cache=v2'>\n",
    "    \n",
    " **Input:** original = [1,2,3,4], m = 2, n = 2\n",
    "\n",
    "**Output:** [[1,2],[3,4]]\n",
    "\n",
    "**Explanation:** The constructed 2D array should contain 2 rows and 2 columns.\n",
    "\n",
    "The first group of n=2 elements in original, [1,2], becomes the first row in the constructed 2D array.\n",
    "\n",
    "The second group of n=2 elements in original, [3,4], becomes the second row in the constructed 2D array.   \n",
    "    \n",
    "</aside>"
   ]
  },
  {
   "cell_type": "code",
   "execution_count": 1,
   "id": "df3f9d7c",
   "metadata": {},
   "outputs": [
    {
     "name": "stdout",
     "output_type": "stream",
     "text": [
      "[[1, 2], [3, 4]]\n",
      "[]\n"
     ]
    }
   ],
   "source": [
    "def convert_1d_array_to_2d(original, m, n):\n",
    "    \"\"\"\n",
    "    Converts a 1D array into a 2D array with m rows and n columns.\n",
    "\n",
    "    Args:\n",
    "        original (list): The 1D array to be converted.\n",
    "        m (int): The number of rows in the desired 2D array.\n",
    "        n (int): The number of columns in the desired 2D array.\n",
    "\n",
    "    Returns:\n",
    "        list: The resulting 2D array if conversion is possible, otherwise an empty list.\n",
    "    \"\"\"\n",
    "\n",
    "    # Check if the length of the original array matches the desired dimensions\n",
    "    if len(original) != m * n:\n",
    "        return []\n",
    "\n",
    "    # Create an empty 2D array with m rows and n columns\n",
    "    result = [[0] * n for _ in range(m)]\n",
    "\n",
    "    # Iterate over the indices of the original array\n",
    "    for i in range(len(original)):\n",
    "        # Calculate the row and column indices in the 2D array\n",
    "        row = i // n\n",
    "        column = i % n\n",
    "\n",
    "        # Assign the value from the original array to the corresponding position in the 2D array\n",
    "        result[row][column] = original[i]\n",
    "\n",
    "    # Return the resulting 2D array\n",
    "    return result\n",
    "\n",
    "\n",
    "if __name__ == \"__main__\":\n",
    "    # test1\n",
    "    original1 = [1,2,3,4]\n",
    "    m1 = 2\n",
    "    n1 = 2\n",
    "    \n",
    "    # test2(not possible return empty list)\n",
    "    original2 = [1,2,3,4,5,6]\n",
    "    m2 = 2\n",
    "    n2 = 2   \n",
    "    \n",
    "    print(convert_1d_array_to_2d(original1, m1, n1))\n",
    "    print(convert_1d_array_to_2d(original2, m2, n2))\n",
    "    \n"
   ]
  },
  {
   "cell_type": "markdown",
   "id": "4f9c60a8",
   "metadata": {},
   "source": [
    "***************************************************************************************************************************"
   ]
  },
  {
   "cell_type": "markdown",
   "id": "16acc950",
   "metadata": {},
   "source": [
    "<aside>\n",
    "💡 **Question 2**\n",
    "\n",
    "You have n coins and you want to build a staircase with these coins. The staircase consists of k rows where the ith row has exactly i coins. The last row of the staircase **may be** incomplete.\n",
    "\n",
    "Given the integer n, return *the number of **complete rows** of the staircase you will build*.\n",
    "\n",
    "**Example 1:**\n",
    "\n",
    "<img src='https://pwskills.notion.site/image/https%3A%2F%2Fs3-us-west-2.amazonaws.com%2Fsecure.notion-static.com%2F0649438a-417e-4a97-ad4a-5d576ecbfee6%2FScreenshot_2023-05-29_004404.png?id=2e544f7d-a0ca-40c9-bedb-37e74d8f61ec&table=block&spaceId=6fae2e0f-dedc-48e9-bc59-af2654c78209&width=710&userId=&cache=v2'>   \n",
    "    \n",
    "**Input:** n = 5\n",
    "\n",
    "**Output:** 2\n",
    "\n",
    "**Explanation:** Because the 3rd row is incomplete, we return 2.    \n",
    "</aside>"
   ]
  },
  {
   "cell_type": "code",
   "execution_count": 2,
   "id": "cfa59496",
   "metadata": {},
   "outputs": [
    {
     "name": "stdout",
     "output_type": "stream",
     "text": [
      "2\n"
     ]
    }
   ],
   "source": [
    "def staircase_rows(n):\n",
    "    \"\"\"\n",
    "    Finds the number of complete rows of a staircase with n coins.\n",
    "  \n",
    "    Args:\n",
    "      n: The number of coins.\n",
    "  \n",
    "    Returns:\n",
    "      The number of complete rows.\n",
    "    \"\"\"\n",
    "    row = 0          # Number of complete rows\n",
    "    sum_coins = 0    # Sum of coins used\n",
    "\n",
    "    # Iterate until the sum of coins used becomes greater than n\n",
    "    while sum_coins <= n:\n",
    "        row += 1                # Increment the row count\n",
    "        sum_coins += row        # Add the current row's coins to the sum\n",
    "\n",
    "    return row - 1    # Subtract 1 to account for the last incomplete row\n",
    "\n",
    "\n",
    "if __name__ == \"__main__\":\n",
    "    n=5\n",
    "    \n",
    "    print(staircase_rows(n))"
   ]
  },
  {
   "cell_type": "markdown",
   "id": "b3a80820",
   "metadata": {},
   "source": [
    "***************************************************************************************************************************"
   ]
  },
  {
   "cell_type": "markdown",
   "id": "94975579",
   "metadata": {},
   "source": [
    "<aside>\n",
    "💡 **Question 3**\n",
    "\n",
    "Given an integer array nums sorted in **non-decreasing** order, return *an array of **the squares of each number** sorted in non-decreasing order*.\n",
    "\n",
    "**Example 1:**\n",
    "\n",
    "**Input:** nums = [-4,-1,0,3,10]\n",
    "\n",
    "**Output:** [0,1,9,16,100]\n",
    "\n",
    "**Explanation:** After squaring, the array becomes [16,1,0,9,100].\n",
    "\n",
    "After sorting, it becomes [0,1,9,16,100].\n",
    "\n",
    "</aside>"
   ]
  },
  {
   "cell_type": "code",
   "execution_count": 3,
   "id": "1fefcbae",
   "metadata": {},
   "outputs": [
    {
     "name": "stdout",
     "output_type": "stream",
     "text": [
      "[0, 1, 9, 16, 100]\n"
     ]
    }
   ],
   "source": [
    "def square_and_sort(nums):\n",
    "  \"\"\"\n",
    "  Squares each number in nums and sorts the resulting array in non-decreasing order.\n",
    "\n",
    "  Args:\n",
    "    nums: The input array.\n",
    "\n",
    "  Returns:\n",
    "    The array of squared numbers sorted in non-decreasing order.\n",
    "  \"\"\"\n",
    "\n",
    "  squared_nums = []\n",
    "  for num in nums:\n",
    "    squared_nums.append(num * num)\n",
    "\n",
    "  squared_nums.sort()\n",
    "\n",
    "  return squared_nums\n",
    "\n",
    "if __name__ == \"__main__\":\n",
    "    nums = [-4,-1,0,3,10]\n",
    "    \n",
    "    print(square_and_sort(nums))"
   ]
  },
  {
   "cell_type": "markdown",
   "id": "99583869",
   "metadata": {},
   "source": [
    "***************************************************************************************************************************"
   ]
  },
  {
   "cell_type": "markdown",
   "id": "34609778",
   "metadata": {},
   "source": [
    "<aside>\n",
    "💡 **Question 4**\n",
    "\n",
    "Given two **0-indexed** integer arrays nums1 and nums2, return *a list* answer *of size* 2 *where:*\n",
    "\n",
    "- answer[0] *is a list of all **distinct** integers in* nums1 *which are **not** present in* nums2*.*\n",
    "- answer[1] *is a list of all **distinct** integers in* nums2 *which are **not** present in* nums1.\n",
    "\n",
    "**Note** that the integers in the lists may be returned in **any** order.\n",
    "\n",
    "**Example 1:**\n",
    "\n",
    "**Input:** nums1 = [1,2,3], nums2 = [2,4,6]\n",
    "\n",
    "**Output:** [[1,3],[4,6]]\n",
    "\n",
    "**Explanation:**\n",
    "\n",
    "For nums1, nums1[1] = 2 is present at index 0 of nums2, whereas nums1[0] = 1 and nums1[2] = 3 are not present in nums2. Therefore, answer[0] = [1,3].\n",
    "\n",
    "For nums2, nums2[0] = 2 is present at index 1 of nums1, whereas nums2[1] = 4 and nums2[2] = 6 are not present in nums2. Therefore, answer[1] = [4,6].\n",
    "\n",
    "</aside>"
   ]
  },
  {
   "cell_type": "code",
   "execution_count": 4,
   "id": "5444dca4",
   "metadata": {},
   "outputs": [
    {
     "name": "stdout",
     "output_type": "stream",
     "text": [
      "[[1, 3], [4, 6]]\n"
     ]
    }
   ],
   "source": [
    "def find_distinct_numbers(nums1, nums2):\n",
    "    \"\"\"\n",
    "    Finds the distinct numbers in nums1 and nums2.\n",
    "  \n",
    "    Args:\n",
    "      nums1: The first array.\n",
    "      nums2: The second array.\n",
    "  \n",
    "    Returns:\n",
    "      A list of two lists, where the first list contains the distinct numbers in\n",
    "      nums1 that are not present in nums2, and the second list contains the distinct\n",
    "      numbers in nums2 that are not present in nums1.\n",
    "    \"\"\"\n",
    "    \n",
    "    # Create two sets to store dinstinct integers from num1 and nums2\n",
    "    \n",
    "    set1 = set(nums1)\n",
    "    set2 = set(nums2)\n",
    "    \n",
    "    #Store distinct integers not present\n",
    "    result1 = []\n",
    "    result2 = []\n",
    "    \n",
    "    # Iterate over nums1 and check for integers not present in nums2\n",
    "    for num in nums1:\n",
    "        if num not in set2:\n",
    "            result1.append(num)\n",
    "            \n",
    "    # Iterate over nums2 and check for integers not present in nums1        \n",
    "    for num in nums2:\n",
    "        if num not in set1:\n",
    "            result2.append(num)\n",
    "            \n",
    "    # Return the final answer as a list of lists        \n",
    "    return [result1, result2]\n",
    "    \n",
    "\n",
    "    \n",
    "if __name__ == \"__main__\":\n",
    "    \n",
    "    nums1 = [1, 2, 3]\n",
    "    nums2 = [2, 4, 6]\n",
    "    answer = find_distinct_numbers(nums1, nums2)\n",
    "    print(answer)    "
   ]
  },
  {
   "cell_type": "markdown",
   "id": "0730565f",
   "metadata": {},
   "source": [
    "***************************************************************************************************************************"
   ]
  },
  {
   "cell_type": "markdown",
   "id": "67927ad6",
   "metadata": {},
   "source": [
    "<aside>\n",
    "💡 **Question 5**\n",
    "\n",
    "Given two integer arrays arr1 and arr2, and the integer d, *return the distance value between the two arrays*.\n",
    "\n",
    "The distance value is defined as the number of elements arr1[i] such that there is not any element arr2[j] where |arr1[i]-arr2[j]| <= d.\n",
    "\n",
    "**Example 1:**\n",
    "\n",
    "**Input:** arr1 = [4,5,8], arr2 = [10,9,1,8], d = 2\n",
    "\n",
    "**Output:** 2\n",
    "\n",
    "**Explanation:**\n",
    "\n",
    "For arr1[0]=4 we have:\n",
    "\n",
    "|4-10|=6 > d=2\n",
    "\n",
    "|4-9|=5 > d=2\n",
    "\n",
    "|4-1|=3 > d=2\n",
    "\n",
    "|4-8|=4 > d=2\n",
    "\n",
    "For arr1[1]=5 we have:\n",
    "\n",
    "|5-10|=5 > d=2\n",
    "\n",
    "|5-9|=4 > d=2\n",
    "\n",
    "|5-1|=4 > d=2\n",
    "\n",
    "|5-8|=3 > d=2\n",
    "\n",
    "For arr1[2]=8 we have:\n",
    "\n",
    "**|8-10|=2 <= d=2**\n",
    "\n",
    "**|8-9|=1 <= d=2**\n",
    "\n",
    "|8-1|=7 > d=2\n",
    "\n",
    "**|8-8|=0 <= d=2**\n",
    "\n",
    "</aside>"
   ]
  },
  {
   "cell_type": "code",
   "execution_count": 5,
   "id": "95163dfc",
   "metadata": {},
   "outputs": [
    {
     "name": "stdout",
     "output_type": "stream",
     "text": [
      "2\n"
     ]
    }
   ],
   "source": [
    "def distanceValue(arr1, arr2, d):\n",
    "    \"\"\"\n",
    "    Calculates the distance value between two arrays.\n",
    "  \n",
    "    Args:\n",
    "      arr1: The first array.\n",
    "      arr2: The second array.\n",
    "      d: The maximum difference between two elements.\n",
    "  \n",
    "    Returns:\n",
    "      The distance value.\n",
    "    \"\"\"\n",
    "\n",
    "    # Initialize the count of elements that satisfy the condition to 0\n",
    "    count = 0\n",
    "\n",
    "    # Iterate over each element in arr1\n",
    "    for num1 in arr1:\n",
    "        # Flag to track if an element in arr2 is within distance d\n",
    "        found = False\n",
    "\n",
    "        # Iterate over each element in arr2\n",
    "        for num2 in arr2:\n",
    "            # Check if the absolute difference between num1 and num2 is <= d\n",
    "            if abs(num1 - num2) <= d:\n",
    "                # Set found to True if a close element is found\n",
    "                found = True\n",
    "                break\n",
    "\n",
    "        # Increment the count if no close element is found\n",
    "        if not found:\n",
    "            count += 1\n",
    "\n",
    "    # Return the distance value\n",
    "    return count\n",
    "\n",
    "\n",
    "if __name__ ==\"__main__\":\n",
    "    arr1 = [4,5,8]\n",
    "    arr2 = [10,9,1,8]\n",
    "    d = 2\n",
    "    \n",
    "    print(distanceValue(arr1, arr2, d))\n",
    "    "
   ]
  },
  {
   "cell_type": "markdown",
   "id": "02064d97",
   "metadata": {},
   "source": [
    "***************************************************************************************************************************"
   ]
  },
  {
   "cell_type": "markdown",
   "id": "9e2a5b15",
   "metadata": {},
   "source": [
    "<aside>\n",
    "💡 **Question 6**\n",
    "\n",
    "Given an integer array nums of length n where all the integers of nums are in the range [1, n] and each integer appears **once** or **twice**, return *an array of all the integers that appears **twice***.\n",
    "\n",
    "You must write an algorithm that runs in O(n) time and uses only constant extra space.\n",
    "\n",
    "**Example 1:**\n",
    "\n",
    "**Input:** nums = [4,3,2,7,8,2,3,1]\n",
    "\n",
    "**Output:**\n",
    "\n",
    "[2,3]\n",
    "\n",
    "</aside>"
   ]
  },
  {
   "cell_type": "code",
   "execution_count": 6,
   "id": "24a7bafc",
   "metadata": {},
   "outputs": [
    {
     "name": "stdout",
     "output_type": "stream",
     "text": [
      "[2, 3]\n"
     ]
    }
   ],
   "source": [
    "def findDuplicates(nums):\n",
    "    \"\"\"\n",
    "    Finds the integers that appear twice in the given array.\n",
    "\n",
    "    Args:\n",
    "        nums (list): The input array.\n",
    "\n",
    "    Returns:\n",
    "        list: The integers that appear twice.\n",
    "    \"\"\"\n",
    "\n",
    "    # Initialize an empty list to store the integers that appear twice\n",
    "    result = []\n",
    "\n",
    "    # Iterate over each element in nums\n",
    "    for num in nums:\n",
    "        # Calculate the index based on the element value\n",
    "        index = abs(num) - 1\n",
    "\n",
    "        # If the element at the index is positive, mark it as seen by negating its value\n",
    "        if nums[index] > 0:\n",
    "            nums[index] = -nums[index]\n",
    "        else:\n",
    "            # If the element is negative, it means we have seen it before and it appears twice\n",
    "            result.append(abs(num))\n",
    "\n",
    "    # Return the list of integers that appear twice\n",
    "    return result\n",
    "\n",
    "\n",
    "if __name__ ==\"__main__\":\n",
    "    nums = [4,3,2,7,8,2,3,1]\n",
    "    print(findDuplicates(nums))\n"
   ]
  },
  {
   "cell_type": "markdown",
   "id": "60ac7cb6",
   "metadata": {},
   "source": [
    "***************************************************************************************************************************"
   ]
  },
  {
   "cell_type": "markdown",
   "id": "f7d7c280",
   "metadata": {},
   "source": [
    "<aside>\n",
    "💡 **Question 7**\n",
    "\n",
    "Suppose an array of length n sorted in ascending order is **rotated** between 1 and n times. For example, the array nums = [0,1,2,4,5,6,7] might become:\n",
    "\n",
    "- [4,5,6,7,0,1,2] if it was rotated 4 times.\n",
    "- [0,1,2,4,5,6,7] if it was rotated 7 times.\n",
    "\n",
    "Notice that **rotating** an array [a[0], a[1], a[2], ..., a[n-1]] 1 time results in the array [a[n-1], a[0], a[1], a[2], ..., a[n-2]].\n",
    "\n",
    "Given the sorted rotated array nums of **unique** elements, return *the minimum element of this array*.\n",
    "\n",
    "You must write an algorithm that runs in O(log n) time.\n",
    "\n",
    "**Example 1:**\n",
    "\n",
    "**Input:** nums = [3,4,5,1,2]\n",
    "\n",
    "**Output:** 1\n",
    "\n",
    "**Explanation:**\n",
    "\n",
    "The original array was [1,2,3,4,5] rotated 3 times.\n",
    "\n",
    "</aside>"
   ]
  },
  {
   "cell_type": "code",
   "execution_count": 7,
   "id": "721e5ab7",
   "metadata": {},
   "outputs": [
    {
     "name": "stdout",
     "output_type": "stream",
     "text": [
      "Minimum element: 1\n",
      "Rotated sorted array: [1, 2, 3, 4, 5]\n"
     ]
    }
   ],
   "source": [
    "def findMin(nums):\n",
    "    \"\"\"\n",
    "    Finds the minimum element in a sorted rotated array of unique elements.\n",
    "\n",
    "    Args:\n",
    "        nums (list): The sorted rotated array.\n",
    "\n",
    "    Returns:\n",
    "        tuple: A tuple containing the minimum element and the rotated sorted array.\n",
    "    \"\"\"\n",
    "\n",
    "    # Initialize the left and right pointers\n",
    "    left = 0\n",
    "    right = len(nums) - 1\n",
    "\n",
    "    # Perform binary search to find the minimum element\n",
    "    while left < right:\n",
    "        # Calculate the middle index\n",
    "        mid = (left + right) // 2\n",
    "\n",
    "        # Compare the middle element with the first and last elements\n",
    "        if nums[mid] < nums[left] and nums[mid] < nums[right]:\n",
    "            right = mid\n",
    "        elif nums[mid] >= nums[left] and nums[mid] >= nums[right]:\n",
    "            left = mid + 1\n",
    "        else:\n",
    "            right = mid\n",
    "\n",
    "    # Return the minimum element and the rotated sorted array\n",
    "    return nums[left], nums[left:] + nums[:left]\n",
    "\n",
    "\n",
    "\n",
    "\n",
    "if __name__ == \"__main__\":\n",
    "    nums = [3,4,5,1,2]\n",
    "    min_element, rotated_array = findMin(nums)\n",
    "    print(\"Minimum element:\", min_element)\n",
    "    print(\"Rotated sorted array:\", rotated_array)"
   ]
  },
  {
   "cell_type": "markdown",
   "id": "f8a0c95e",
   "metadata": {},
   "source": [
    "***************************************************************************************************************************"
   ]
  },
  {
   "cell_type": "markdown",
   "id": "a5524acf",
   "metadata": {},
   "source": [
    "<aside>\n",
    "💡 **Question 8**\n",
    "\n",
    "An integer array original is transformed into a **doubled** array changed by appending **twice the value** of every element in original, and then randomly **shuffling** the resulting array.\n",
    "\n",
    "Given an array changed, return original *if* changed *is a **doubled** array. If* changed *is not a **doubled** array, return an empty array. The elements in* original *may be returned in **any** order*.\n",
    "\n",
    "**Example 1:**\n",
    "\n",
    "**Input:** changed = [1,3,4,2,6,8]\n",
    "\n",
    "**Output:** [1,3,4]\n",
    "\n",
    "**Explanation:** One possible original array could be [1,3,4]:\n",
    "\n",
    "- Twice the value of 1 is 1 * 2 = 2.\n",
    "- Twice the value of 3 is 3 * 2 = 6.\n",
    "- Twice the value of 4 is 4 * 2 = 8.\n",
    "\n",
    "Other original arrays could be [4,3,1] or [3,1,4].\n",
    "\n",
    "</aside>"
   ]
  },
  {
   "cell_type": "code",
   "execution_count": 8,
   "id": "718c102c",
   "metadata": {},
   "outputs": [
    {
     "name": "stdout",
     "output_type": "stream",
     "text": [
      "[1, 3, 4]\n"
     ]
    }
   ],
   "source": [
    "def findOriginalArray(changed):\n",
    "    \"\"\"\n",
    "    Finds the original array given a changed array that is a doubled array with random shuffling.\n",
    "\n",
    "    Args:\n",
    "        changed (list): The changed array.\n",
    "\n",
    "    Returns:\n",
    "        list: The original array if changed is a valid doubled array, otherwise an empty array.\n",
    "    \"\"\"\n",
    "\n",
    "    # Step 1: Initialize an empty frequency map\n",
    "    freq_map = {}\n",
    "    original = []\n",
    "\n",
    "    # Step 2: Populate the frequency map and construct the original array\n",
    "    for num in changed:\n",
    "        freq_map[num] = freq_map.get(num, 0) + 1\n",
    "\n",
    "    for num in changed:\n",
    "        # Check if the element is present in the frequency map\n",
    "        if freq_map.get(num, 0) > 0:\n",
    "            freq_map[num] -= 1\n",
    "            doubled_num = num * 2\n",
    "            # Check if the doubled value is present in the frequency map\n",
    "            if freq_map.get(doubled_num, 0) > 0:\n",
    "                freq_map[doubled_num] -= 1\n",
    "                original.append(num)\n",
    "            else:\n",
    "                return []\n",
    "    # Step 3: Return the original array\n",
    "    return original\n",
    "\n",
    "\n",
    "if __name__ == \"__main__\":\n",
    "    changed = [1, 3, 4, 2, 6, 8]\n",
    "    print(findOriginalArray(changed))\n"
   ]
  },
  {
   "cell_type": "code",
   "execution_count": null,
   "id": "c6e8ae18",
   "metadata": {},
   "outputs": [],
   "source": []
  }
 ],
 "metadata": {
  "kernelspec": {
   "display_name": "Python 3 (ipykernel)",
   "language": "python",
   "name": "python3"
  },
  "language_info": {
   "codemirror_mode": {
    "name": "ipython",
    "version": 3
   },
   "file_extension": ".py",
   "mimetype": "text/x-python",
   "name": "python",
   "nbconvert_exporter": "python",
   "pygments_lexer": "ipython3",
   "version": "3.10.9"
  }
 },
 "nbformat": 4,
 "nbformat_minor": 5
}
