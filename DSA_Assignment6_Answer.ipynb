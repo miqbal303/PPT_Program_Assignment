{
 "cells": [
  {
   "cell_type": "markdown",
   "id": "22444f7e",
   "metadata": {},
   "source": [
    "<aside>\n",
    "💡 **Question 1**\n",
    "\n",
    "A permutation perm of n + 1 integers of all the integers in the range [0, n] can be represented as a string s of length n where:\n",
    "\n",
    "- s[i] == 'I' if perm[i] < perm[i + 1], and\n",
    "- s[i] == 'D' if perm[i] > perm[i + 1].\n",
    "\n",
    "Given a string s, reconstruct the permutation perm and return it. If there are multiple valid permutations perm, return **any of them**.\n",
    "\n",
    "**Example 1:**\n",
    "\n",
    "**Input:** s = \"IDID\"\n",
    "\n",
    "**Output:**\n",
    "\n",
    "[0,4,1,3,2]\n",
    "\n",
    "</aside>"
   ]
  },
  {
   "cell_type": "code",
   "execution_count": null,
   "id": "e39acc8c",
   "metadata": {},
   "outputs": [],
   "source": []
  },
  {
   "cell_type": "markdown",
   "id": "c5140f32",
   "metadata": {},
   "source": [
    "***************************************************************************************************************************"
   ]
  },
  {
   "cell_type": "markdown",
   "id": "9cfd13bc",
   "metadata": {},
   "source": [
    "<aside>\n",
    "💡 **Question 2**\n",
    "\n",
    "You are given an m x n integer matrix matrix with the following two properties:\n",
    "\n",
    "- Each row is sorted in non-decreasing order.\n",
    "- The first integer of each row is greater than the last integer of the previous row.\n",
    "\n",
    "Given an integer target, return true *if* target *is in* matrix *or* false *otherwise*.\n",
    "\n",
    "You must write a solution in O(log(m * n)) time complexity.\n",
    "\n",
    "**Example 1:**\n",
    "\n",
    "    \n",
    "<img src='https://pwskills.notion.site/image/https%3A%2F%2Fs3-us-west-2.amazonaws.com%2Fsecure.notion-static.com%2Fe4b0271f-15f0-4744-826b-18500ccfcb75%2FScreenshot_2023-05-29_005303.png?id=18335e94-20ec-483d-96ef-563d86305ec3&table=block&spaceId=6fae2e0f-dedc-48e9-bc59-af2654c78209&width=840&userId=&cache=v2'>\n",
    "    \n",
    "    \n",
    "**Input:** matrix = [[1,3,5,7],[10,11,16,20],[23,30,34,60]], target = 3\n",
    "\n",
    "**Output:** true\n",
    "    \n",
    "</aside>"
   ]
  },
  {
   "cell_type": "code",
   "execution_count": null,
   "id": "e6529c1e",
   "metadata": {},
   "outputs": [],
   "source": []
  },
  {
   "cell_type": "markdown",
   "id": "3d25ae2b",
   "metadata": {},
   "source": [
    "***************************************************************************************************************************"
   ]
  },
  {
   "cell_type": "markdown",
   "id": "85f0c3e9",
   "metadata": {},
   "source": [
    "<aside>\n",
    "💡 **Question 3**\n",
    "\n",
    "Given an array of integers arr, return *true if and only if it is a valid mountain array*.\n",
    "\n",
    "Recall that arr is a mountain array if and only if:\n",
    "\n",
    "- arr.length >= 3\n",
    "- There exists some i with 0 < i < arr.length - 1 such that:\n",
    "    - arr[0] < arr[1] < ... < arr[i - 1] < arr[i]\n",
    "    - arr[i] > arr[i + 1] > ... > arr[arr.length - 1]\n",
    "    \n",
    "    \n",
    "<img src='https://pwskills.notion.site/image/https%3A%2F%2Fs3-us-west-2.amazonaws.com%2Fsecure.notion-static.com%2F5565e778-ac57-4ced-85a2-ccb13268bdf6%2FScreenshot_2023-05-29_005352.png?id=8965a667-69ac-4fdc-af94-ff9a6a42de08&table=block&spaceId=6fae2e0f-dedc-48e9-bc59-af2654c78209&width=1620&userId=&cache=v2'>\n",
    "    \n",
    "**Example 1:**\n",
    "\n",
    "**Input:** arr = [2,1]\n",
    "\n",
    "**Output:**\n",
    "\n",
    "false\n",
    "</aside>"
   ]
  },
  {
   "cell_type": "code",
   "execution_count": null,
   "id": "90b41f75",
   "metadata": {},
   "outputs": [],
   "source": []
  },
  {
   "cell_type": "markdown",
   "id": "17867f89",
   "metadata": {},
   "source": [
    "***************************************************************************************************************************"
   ]
  },
  {
   "cell_type": "markdown",
   "id": "48afc268",
   "metadata": {},
   "source": [
    "<aside>\n",
    "💡 **Question 4**\n",
    "\n",
    "Given a binary array nums, return *the maximum length of a contiguous subarray with an equal number of* 0 *and* 1.\n",
    "\n",
    "**Example 1:**\n",
    "\n",
    "**Input:** nums = [0,1]\n",
    "\n",
    "**Output:** 2\n",
    "\n",
    "**Explanation:**\n",
    "\n",
    "[0, 1] is the longest contiguous subarray with an equal number of 0 and 1.\n",
    "\n",
    "</aside>"
   ]
  },
  {
   "cell_type": "code",
   "execution_count": null,
   "id": "20aa0cf7",
   "metadata": {},
   "outputs": [],
   "source": []
  },
  {
   "cell_type": "markdown",
   "id": "856b010d",
   "metadata": {},
   "source": [
    "***************************************************************************************************************************"
   ]
  },
  {
   "cell_type": "markdown",
   "id": "f339da3c",
   "metadata": {},
   "source": [
    "<aside>\n",
    "💡 **Question 5**\n",
    "\n",
    "The **product sum** of two equal-length arrays a and b is equal to the sum of a[i] * b[i] for all 0 <= i < a.length (**0-indexed**).\n",
    "\n",
    "- For example, if a = [1,2,3,4] and b = [5,2,3,1], the **product sum** would be 1*5 + 2*2 + 3*3 + 4*1 = 22.\n",
    "\n",
    "Given two arrays nums1 and nums2 of length n, return *the **minimum product sum** if you are allowed to **rearrange** the **order** of the elements in* nums1.\n",
    "\n",
    "**Example 1:**\n",
    "\n",
    "**Input:** nums1 = [5,3,4,2], nums2 = [4,2,2,5]\n",
    "\n",
    "**Output:** 40\n",
    "\n",
    "**Explanation:**\n",
    "\n",
    "We can rearrange nums1 to become [3,5,4,2]. The product sum of [3,5,4,2] and [4,2,2,5] is 3*4 + 5*2 + 4*2 + 2*5 = 40.\n",
    "\n",
    "</aside>"
   ]
  },
  {
   "cell_type": "code",
   "execution_count": null,
   "id": "2d09105c",
   "metadata": {},
   "outputs": [],
   "source": []
  },
  {
   "cell_type": "markdown",
   "id": "0b5e3647",
   "metadata": {},
   "source": [
    "***************************************************************************************************************************"
   ]
  },
  {
   "cell_type": "markdown",
   "id": "23d9e13e",
   "metadata": {},
   "source": [
    "<aside>\n",
    "💡 **Question 6**\n",
    "\n",
    "An integer array original is transformed into a **doubled** array changed by appending **twice the value** of every element in original, and then randomly **shuffling** the resulting array.\n",
    "\n",
    "Given an array changed, return original *if* changed *is a **doubled** array. If* changed *is not a **doubled** array, return an empty array. The elements in* original *may be returned in **any** order*.\n",
    "\n",
    "**Example 1:**\n",
    "\n",
    "**Input:** changed = [1,3,4,2,6,8]\n",
    "\n",
    "**Output:** [1,3,4]\n",
    "\n",
    "**Explanation:** One possible original array could be [1,3,4]:\n",
    "\n",
    "- Twice the value of 1 is 1 * 2 = 2.\n",
    "- Twice the value of 3 is 3 * 2 = 6.\n",
    "- Twice the value of 4 is 4 * 2 = 8.\n",
    "\n",
    "Other original arrays could be [4,3,1] or [3,1,4].\n",
    "\n",
    "</aside>"
   ]
  },
  {
   "cell_type": "code",
   "execution_count": null,
   "id": "831eba88",
   "metadata": {},
   "outputs": [],
   "source": []
  },
  {
   "cell_type": "markdown",
   "id": "63927029",
   "metadata": {},
   "source": [
    "***************************************************************************************************************************"
   ]
  },
  {
   "cell_type": "markdown",
   "id": "fbfc179d",
   "metadata": {},
   "source": [
    "<aside>\n",
    "💡 **Question 7**\n",
    "\n",
    "Given a positive integer n, generate an n x n matrix filled with elements from 1 to n2 in spiral order.\n",
    "\n",
    "**Example 1:**\n",
    "<img src='https://pwskills.notion.site/image/https%3A%2F%2Fs3-us-west-2.amazonaws.com%2Fsecure.notion-static.com%2F00c8517f-7682-4e0b-bdd9-ce0e087f3f94%2FScreenshot_2023-05-29_005522.png?id=4c411eff-717a-4ce4-8727-1c101816bbad&table=block&spaceId=6fae2e0f-dedc-48e9-bc59-af2654c78209&width=670&userId=&cache=v2'>\n",
    "    \n",
    "**Input:** n = 3\n",
    "\n",
    "**Output:** [[1,2,3],[8,9,4],[7,6,5]]\n",
    "</aside>"
   ]
  },
  {
   "cell_type": "code",
   "execution_count": null,
   "id": "6acf6a62",
   "metadata": {},
   "outputs": [],
   "source": []
  },
  {
   "cell_type": "markdown",
   "id": "42d7da19",
   "metadata": {},
   "source": [
    "***************************************************************************************************************************"
   ]
  },
  {
   "cell_type": "markdown",
   "id": "d6101438",
   "metadata": {},
   "source": [
    "<aside>\n",
    "💡 **Question 8**\n",
    "\n",
    "Given two [sparse matrices](https://en.wikipedia.org/wiki/Sparse_matrix) mat1 of size m x k and mat2 of size k x n, return the result of mat1 x mat2. You may assume that multiplication is always possible.\n",
    "\n",
    "**Example 1:**\n",
    "<img src='https://pwskills.notion.site/image/https%3A%2F%2Fs3-us-west-2.amazonaws.com%2Fsecure.notion-static.com%2Fdf57e793-12bf-4104-a17b-4e6a88dc7955%2FScreenshot_2023-05-29_005557.png?id=bf7064e0-6a34-4089-bad4-dfd954e546c4&table=block&spaceId=6fae2e0f-dedc-48e9-bc59-af2654c78209&width=1320&userId=&cache=v2'>\n",
    "\n",
    "**Input:** mat1 = [[1,0,0],[-1,0,3]], mat2 = [[7,0,0],[0,0,0],[0,0,1]]\n",
    "\n",
    "**Output:**\n",
    "\n",
    "[[7,0,0],[-7,0,3]]\n",
    "\n",
    "</aside>"
   ]
  },
  {
   "cell_type": "code",
   "execution_count": null,
   "id": "5ba2e159",
   "metadata": {},
   "outputs": [],
   "source": []
  }
 ],
 "metadata": {
  "kernelspec": {
   "display_name": "Python 3 (ipykernel)",
   "language": "python",
   "name": "python3"
  },
  "language_info": {
   "codemirror_mode": {
    "name": "ipython",
    "version": 3
   },
   "file_extension": ".py",
   "mimetype": "text/x-python",
   "name": "python",
   "nbconvert_exporter": "python",
   "pygments_lexer": "ipython3",
   "version": "3.10.9"
  }
 },
 "nbformat": 4,
 "nbformat_minor": 5
}
