{
 "cells": [
  {
   "cell_type": "markdown",
   "id": "22444f7e",
   "metadata": {},
   "source": [
    "<aside>\n",
    "💡 **Question 1**\n",
    "\n",
    "A permutation perm of n + 1 integers of all the integers in the range [0, n] can be represented as a string s of length n where:\n",
    "\n",
    "- s[i] == 'I' if perm[i] < perm[i + 1], and\n",
    "- s[i] == 'D' if perm[i] > perm[i + 1].\n",
    "\n",
    "Given a string s, reconstruct the permutation perm and return it. If there are multiple valid permutations perm, return **any of them**.\n",
    "\n",
    "**Example 1:**\n",
    "\n",
    "**Input:** s = \"IDID\"\n",
    "\n",
    "**Output:**\n",
    "\n",
    "[0,4,1,3,2]\n",
    "\n",
    "</aside>"
   ]
  },
  {
   "cell_type": "code",
   "execution_count": 1,
   "id": "e39acc8c",
   "metadata": {},
   "outputs": [
    {
     "name": "stdout",
     "output_type": "stream",
     "text": [
      "[0, 4, 1, 3, 2]\n"
     ]
    }
   ],
   "source": [
    "def findPermutation(s):\n",
    "    \"\"\"\n",
    "    Reconstructs a permutation from a given string representation.\n",
    "\n",
    "    Args:\n",
    "        s (str): The string representation of the permutation.\n",
    "\n",
    "    Returns:\n",
    "        list: The reconstructed permutation.\n",
    "\n",
    "    Example:\n",
    "        Input: s = \"IDID\"\n",
    "        Output: [0, 4, 1, 3, 2]\n",
    "    \"\"\"\n",
    "\n",
    "    # Initialize an empty list to store the reconstructed permutation.\n",
    "    perm = []\n",
    "\n",
    "    # Get the length of the string s.\n",
    "    n = len(s)\n",
    "\n",
    "    # Initialize the lower and upper bounds for the remaining numbers.\n",
    "    low, high = 0, n\n",
    "\n",
    "    # Iterate over each character in the string s.\n",
    "    for ch in s:\n",
    "        # If the character is 'I', append the lower bound to perm and increment it.\n",
    "        if ch == 'I':\n",
    "            perm.append(low)\n",
    "            low += 1\n",
    "        # If the character is 'D', append the upper bound to perm and decrement it.\n",
    "        else:\n",
    "            perm.append(high)\n",
    "            high -= 1\n",
    "\n",
    "    # Append the remaining number (either low or high) to perm.\n",
    "    perm.append(low)  # or perm.append(high) since there will be one remaining number\n",
    "\n",
    "    # Return the reconstructed permutation.\n",
    "    return perm\n",
    "\n",
    "# Test\n",
    "if __name__ == \"__main__\":\n",
    "    s = \"IDID\"\n",
    "    print(findPermutation(s))"
   ]
  },
  {
   "cell_type": "markdown",
   "id": "c5140f32",
   "metadata": {},
   "source": [
    "***************************************************************************************************************************"
   ]
  },
  {
   "cell_type": "markdown",
   "id": "9cfd13bc",
   "metadata": {},
   "source": [
    "<aside>\n",
    "💡 **Question 2**\n",
    "\n",
    "You are given an m x n integer matrix matrix with the following two properties:\n",
    "\n",
    "- Each row is sorted in non-decreasing order.\n",
    "- The first integer of each row is greater than the last integer of the previous row.\n",
    "\n",
    "Given an integer target, return true *if* target *is in* matrix *or* false *otherwise*.\n",
    "\n",
    "You must write a solution in O(log(m * n)) time complexity.\n",
    "\n",
    "**Example 1:**\n",
    "\n",
    "    \n",
    "<img src='https://pwskills.notion.site/image/https%3A%2F%2Fs3-us-west-2.amazonaws.com%2Fsecure.notion-static.com%2Fe4b0271f-15f0-4744-826b-18500ccfcb75%2FScreenshot_2023-05-29_005303.png?id=18335e94-20ec-483d-96ef-563d86305ec3&table=block&spaceId=6fae2e0f-dedc-48e9-bc59-af2654c78209&width=840&userId=&cache=v2'>\n",
    "    \n",
    "    \n",
    "**Input:** matrix = [[1,3,5,7],[10,11,16,20],[23,30,34,60]], target = 3\n",
    "\n",
    "**Output:** true\n",
    "    \n",
    "</aside>"
   ]
  },
  {
   "cell_type": "code",
   "execution_count": 2,
   "id": "e6529c1e",
   "metadata": {},
   "outputs": [
    {
     "name": "stdout",
     "output_type": "stream",
     "text": [
      "True\n",
      "False\n"
     ]
    }
   ],
   "source": [
    "def searchMatrix(matrix, target):\n",
    "    \"\"\"\n",
    "    Searches for a target value in the given matrix using binary search.\n",
    "\n",
    "    Args:\n",
    "        matrix (List[List[int]]): The matrix to search in.\n",
    "        target (int): The value to search for in the matrix.\n",
    "\n",
    "    Returns:\n",
    "        bool: True if the target is found in the matrix, False otherwise.\n",
    "\n",
    "    \"\"\"\n",
    "\n",
    "    # Number of rows and columns in the matrix\n",
    "    m = len(matrix)\n",
    "    n = len(matrix[0])\n",
    "\n",
    "    # Initialize the left and right pointers\n",
    "    left = 0\n",
    "    right = m * n - 1\n",
    "\n",
    "    # Binary search on the matrix\n",
    "    while left <= right:\n",
    "        mid = (left + right) // 2\n",
    "        row = mid // n\n",
    "        col = mid % n\n",
    "\n",
    "        if matrix[row][col] == target:\n",
    "            return True\n",
    "        elif matrix[row][col] > target:\n",
    "            right = mid - 1\n",
    "        else:\n",
    "            left = mid + 1\n",
    "\n",
    "    return False\n",
    "\n",
    "\n",
    "\n",
    "if __name__ == \"__main__\":\n",
    "    matrix1 = [[1,3,5,7],[10,11,16,20],[23,30,34,60]]\n",
    "    target1 = 3\n",
    "    \n",
    "    matrix2 = [[1,3,5,7],[10,11,16,20],[23,30,34,60]]\n",
    "    target2 = 4\n",
    "    \n",
    "    print(searchMatrix(matrix1, target1))\n",
    "    print(searchMatrix(matrix2, target2))\n"
   ]
  },
  {
   "cell_type": "markdown",
   "id": "3d25ae2b",
   "metadata": {},
   "source": [
    "***************************************************************************************************************************"
   ]
  },
  {
   "cell_type": "markdown",
   "id": "85f0c3e9",
   "metadata": {},
   "source": [
    "<aside>\n",
    "💡 **Question 3**\n",
    "\n",
    "Given an array of integers arr, return *true if and only if it is a valid mountain array*.\n",
    "\n",
    "Recall that arr is a mountain array if and only if:\n",
    "\n",
    "- arr.length >= 3\n",
    "- There exists some i with 0 < i < arr.length - 1 such that:\n",
    "    - arr[0] < arr[1] < ... < arr[i - 1] < arr[i]\n",
    "    - arr[i] > arr[i + 1] > ... > arr[arr.length - 1]\n",
    "    \n",
    "    \n",
    "<img src='https://pwskills.notion.site/image/https%3A%2F%2Fs3-us-west-2.amazonaws.com%2Fsecure.notion-static.com%2F5565e778-ac57-4ced-85a2-ccb13268bdf6%2FScreenshot_2023-05-29_005352.png?id=8965a667-69ac-4fdc-af94-ff9a6a42de08&table=block&spaceId=6fae2e0f-dedc-48e9-bc59-af2654c78209&width=1620&userId=&cache=v2'>\n",
    "    \n",
    "**Example 1:**\n",
    "\n",
    "**Input:** arr = [2,1]\n",
    "\n",
    "**Output:**\n",
    "\n",
    "false\n",
    "</aside>"
   ]
  },
  {
   "cell_type": "code",
   "execution_count": 3,
   "id": "90b41f75",
   "metadata": {},
   "outputs": [
    {
     "name": "stdout",
     "output_type": "stream",
     "text": [
      "False\n",
      "False\n",
      "True\n",
      "False\n"
     ]
    }
   ],
   "source": [
    "def validMountainArray(arr):\n",
    "    \"\"\"\n",
    "    Checks if the given array is a valid mountain array.\n",
    "\n",
    "    Args:\n",
    "        arr (List[int]): The array to check.\n",
    "\n",
    "    Returns:\n",
    "        bool: True if the array is a valid mountain array, False otherwise.\n",
    "\n",
    "    \"\"\"\n",
    "\n",
    "    # Check if the length of the array is less than 3\n",
    "    if len(arr) < 3:\n",
    "        return False\n",
    "\n",
    "    # Find the peak of the mountain\n",
    "    i = 0\n",
    "    while i + 1 < len(arr) and arr[i] < arr[i + 1]:\n",
    "        i += 1\n",
    "\n",
    "    # Check if the peak is at the start or end of the array\n",
    "    if i == 0 or i == len(arr) - 1:\n",
    "        return False\n",
    "\n",
    "    # Check if the remaining elements are strictly decreasing\n",
    "    while i + 1 < len(arr) and arr[i] > arr[i + 1]:\n",
    "        i += 1\n",
    "\n",
    "    # Return True if all conditions for a valid mountain array are satisfied\n",
    "    return i == len(arr) - 1\n",
    "\n",
    "\n",
    "if __name__ == \"__main__\":\n",
    "    arr1 = [2, 1]\n",
    "    arr2 = [3,2,1]\n",
    "    arr3 = [0,2,3,4,5,2,1,0]\n",
    "    arr4 = [0,2,3,3,5,2,1,0]\n",
    "    \n",
    "    print(validMountainArray(arr1))\n",
    "    print(validMountainArray(arr2))\n",
    "    print(validMountainArray(arr3))\n",
    "    print(validMountainArray(arr4))\n",
    "    "
   ]
  },
  {
   "cell_type": "markdown",
   "id": "17867f89",
   "metadata": {},
   "source": [
    "***************************************************************************************************************************"
   ]
  },
  {
   "cell_type": "markdown",
   "id": "48afc268",
   "metadata": {},
   "source": [
    "<aside>\n",
    "💡 **Question 4**\n",
    "\n",
    "Given a binary array nums, return *the maximum length of a contiguous subarray with an equal number of* 0 *and* 1.\n",
    "\n",
    "**Example 1:**\n",
    "\n",
    "**Input:** nums = [0,1]\n",
    "\n",
    "**Output:** 2\n",
    "\n",
    "**Explanation:**\n",
    "\n",
    "[0, 1] is the longest contiguous subarray with an equal number of 0 and 1.\n",
    "\n",
    "</aside>"
   ]
  },
  {
   "cell_type": "code",
   "execution_count": 4,
   "id": "20aa0cf7",
   "metadata": {},
   "outputs": [
    {
     "name": "stdout",
     "output_type": "stream",
     "text": [
      "2\n"
     ]
    }
   ],
   "source": [
    "def findMaxLength(nums):\n",
    "    \"\"\"\n",
    "    Finds the maximum length of a contiguous subarray with an equal number of 0s and 1s.\n",
    "\n",
    "    Args:\n",
    "        nums (List[int]): The binary array.\n",
    "\n",
    "    Returns:\n",
    "        int: The maximum length of a contiguous subarray with an equal number of 0s and 1s.\n",
    "\n",
    "    Example:\n",
    "        nums = [0, 1]\n",
    "        print(findMaxLength(nums))  # Output: 2\n",
    "    \"\"\"\n",
    "\n",
    "    # Initialize variables\n",
    "    max_length = 0\n",
    "    count = 0\n",
    "    sum_map = {0: -1}  # Stores running sum and corresponding index\n",
    "\n",
    "    # Iterate over each element and index in the binary array\n",
    "    for idx, num in enumerate(nums):\n",
    "        # Update the running sum\n",
    "        count += 1 if num == 1 else -1\n",
    "\n",
    "        # Check if the subarray from index 0 to idx has an equal number of 0s and 1s\n",
    "        if count == 0:\n",
    "            max_length = idx + 1\n",
    "\n",
    "        # Check if there is a subarray with the same running sum\n",
    "        if count in sum_map:\n",
    "            max_length = max(max_length, idx - sum_map[count])\n",
    "        else:\n",
    "            # Add the running sum to the dictionary\n",
    "            sum_map[count] = idx\n",
    "\n",
    "    return max_length\n",
    "\n",
    "\n",
    "if __name__ == \"__main__\":\n",
    "        nums = [0, 1]\n",
    "        print(findMaxLength(nums))    "
   ]
  },
  {
   "cell_type": "markdown",
   "id": "856b010d",
   "metadata": {},
   "source": [
    "***************************************************************************************************************************"
   ]
  },
  {
   "cell_type": "markdown",
   "id": "f339da3c",
   "metadata": {},
   "source": [
    "<aside>\n",
    "💡 **Question 5**\n",
    "\n",
    "The **product sum** of two equal-length arrays a and b is equal to the sum of a[i] * b[i] for all 0 <= i < a.length (**0-indexed**).\n",
    "\n",
    "- For example, if a = [1,2,3,4] and b = [5,2,3,1], the **product sum** would be 1*5 + 2*2 + 3*3 + 4*1 = 22.\n",
    "\n",
    "Given two arrays nums1 and nums2 of length n, return *the **minimum product sum** if you are allowed to **rearrange** the **order** of the elements in* nums1.\n",
    "\n",
    "**Example 1:**\n",
    "\n",
    "**Input:** nums1 = [5,3,4,2], nums2 = [4,2,2,5]\n",
    "\n",
    "**Output:** 40\n",
    "\n",
    "**Explanation:**\n",
    "\n",
    "We can rearrange nums1 to become [3,5,4,2]. The product sum of [3,5,4,2] and [4,2,2,5] is 3*4 + 5*2 + 4*2 + 2*5 = 40.\n",
    "\n",
    "</aside>"
   ]
  },
  {
   "cell_type": "code",
   "execution_count": 5,
   "id": "c6121d6a-5de9-4252-ab15-57478c9dc197",
   "metadata": {},
   "outputs": [
    {
     "name": "stdout",
     "output_type": "stream",
     "text": [
      "40\n"
     ]
    }
   ],
   "source": [
    "def minProductSum(nums1, nums2):\n",
    "    \"\"\"\n",
    "    Finds the minimum product sum when rearranging the elements of nums1.\n",
    "\n",
    "    Args:\n",
    "        nums1 (List[int]): The first array.\n",
    "        nums2 (List[int]): The second array.\n",
    "\n",
    "    Returns:\n",
    "        int: The minimum product sum.\n",
    "\n",
    "    Example:\n",
    "        nums1 = [5, 3, 4, 2]\n",
    "        nums2 = [4, 2, 2, 5]\n",
    "        print(minProductSum(nums1, nums2))  # Output: 40\n",
    "    \"\"\"\n",
    "\n",
    "    # Sort nums1 in non-decreasing order\n",
    "    nums1.sort()\n",
    "\n",
    "    # Sort nums2 in non-increasing order\n",
    "    nums2.sort(reverse=True)\n",
    "\n",
    "    min_product_sum = 0\n",
    "\n",
    "    # Calculate the minimum product sum\n",
    "    for i in range(len(nums1)):\n",
    "        min_product_sum += nums1[i] * nums2[i]\n",
    "\n",
    "    return min_product_sum\n",
    "\n",
    "\n",
    "\n",
    "\n",
    "if __name__ == \"__main__\":\n",
    "    nums1 = [5, 3, 4, 2]\n",
    "    nums2 = [4, 2, 2, 5]\n",
    "\n",
    "    print(minProductSum(nums1, nums2))"
   ]
  },
  {
   "cell_type": "markdown",
   "id": "0b5e3647",
   "metadata": {},
   "source": [
    "***************************************************************************************************************************"
   ]
  },
  {
   "cell_type": "markdown",
   "id": "23d9e13e",
   "metadata": {},
   "source": [
    "<aside>\n",
    "💡 **Question 6**\n",
    "\n",
    "An integer array original is transformed into a **doubled** array changed by appending **twice the value** of every element in original, and then randomly **shuffling** the resulting array.\n",
    "\n",
    "Given an array changed, return original *if* changed *is a **doubled** array. If* changed *is not a **doubled** array, return an empty array. The elements in* original *may be returned in **any** order*.\n",
    "\n",
    "**Example 1:**\n",
    "\n",
    "**Input:** changed = [1,3,4,2,6,8]\n",
    "\n",
    "**Output:** [1,3,4]\n",
    "\n",
    "**Explanation:** One possible original array could be [1,3,4]:\n",
    "\n",
    "- Twice the value of 1 is 1 * 2 = 2.\n",
    "- Twice the value of 3 is 3 * 2 = 6.\n",
    "- Twice the value of 4 is 4 * 2 = 8.\n",
    "\n",
    "Other original arrays could be [4,3,1] or [3,1,4].\n",
    "\n",
    "</aside>"
   ]
  },
  {
   "cell_type": "code",
   "execution_count": 6,
   "id": "831eba88",
   "metadata": {},
   "outputs": [
    {
     "name": "stdout",
     "output_type": "stream",
     "text": [
      "[1, 3, 4]\n"
     ]
    }
   ],
   "source": [
    "def findOriginalArray(changed):\n",
    "    \"\"\"\n",
    "    Finds the original array given a changed array that is a doubled array with random shuffling.\n",
    "\n",
    "    Args:\n",
    "        changed (list): The changed array.\n",
    "\n",
    "    Returns:\n",
    "        list: The original array if changed is a valid doubled array, otherwise an empty array.\n",
    "    \"\"\"\n",
    "\n",
    "    # Step 1: Initialize an empty frequency map\n",
    "    freq_map = {}\n",
    "    original = []\n",
    "\n",
    "    # Step 2: Populate the frequency map and construct the original array\n",
    "    for num in changed:\n",
    "        freq_map[num] = freq_map.get(num, 0) + 1\n",
    "\n",
    "    for num in changed:\n",
    "        # Check if the element is present in the frequency map\n",
    "        if freq_map.get(num, 0) > 0:\n",
    "            freq_map[num] -= 1\n",
    "            doubled_num = num * 2\n",
    "            # Check if the doubled value is present in the frequency map\n",
    "            if freq_map.get(doubled_num, 0) > 0:\n",
    "                freq_map[doubled_num] -= 1\n",
    "                original.append(num)\n",
    "            else:\n",
    "                return []\n",
    "    # Step 3: Return the original array\n",
    "    return original\n",
    "\n",
    "\n",
    "if __name__ == \"__main__\":\n",
    "    changed = [1, 3, 4, 2, 6, 8]\n",
    "    print(findOriginalArray(changed))\n"
   ]
  },
  {
   "cell_type": "markdown",
   "id": "63927029",
   "metadata": {},
   "source": [
    "***************************************************************************************************************************"
   ]
  },
  {
   "cell_type": "markdown",
   "id": "fbfc179d",
   "metadata": {},
   "source": [
    "<aside>\n",
    "💡 **Question 7**\n",
    "\n",
    "Given a positive integer n, generate an n x n matrix filled with elements from 1 to n2 in spiral order.\n",
    "\n",
    "**Example 1:**\n",
    "<img src='https://pwskills.notion.site/image/https%3A%2F%2Fs3-us-west-2.amazonaws.com%2Fsecure.notion-static.com%2F00c8517f-7682-4e0b-bdd9-ce0e087f3f94%2FScreenshot_2023-05-29_005522.png?id=4c411eff-717a-4ce4-8727-1c101816bbad&table=block&spaceId=6fae2e0f-dedc-48e9-bc59-af2654c78209&width=670&userId=&cache=v2'>\n",
    "    \n",
    "**Input:** n = 3\n",
    "\n",
    "**Output:** [[1,2,3],[8,9,4],[7,6,5]]\n",
    "</aside>"
   ]
  },
  {
   "cell_type": "code",
   "execution_count": 7,
   "id": "6acf6a62",
   "metadata": {},
   "outputs": [
    {
     "name": "stdout",
     "output_type": "stream",
     "text": [
      "[[1, 2, 3], [8, 9, 4], [7, 6, 5]]\n"
     ]
    }
   ],
   "source": [
    "def spiral_matrix(n):\n",
    "    \"\"\"\n",
    "    Generates an n x n matrix filled with elements from 1 to n^2 in spiral order.\n",
    "\n",
    "    Args:\n",
    "        n (int): The size of the matrix.\n",
    "\n",
    "    Returns:\n",
    "        List[List[int]]: The generated matrix.\n",
    "    \"\"\"\n",
    "\n",
    "    matrix = [[0] * n for _ in range(n)]\n",
    "\n",
    "    num = 1\n",
    "    row_start, row_end = 0, n - 1\n",
    "    col_start, col_end = 0, n - 1\n",
    "\n",
    "    while num <= n * n:\n",
    "        # Traverse top row from left to right\n",
    "        for col in range(col_start, col_end + 1):\n",
    "            matrix[row_start][col] = num\n",
    "            num += 1\n",
    "        row_start += 1\n",
    "\n",
    "        # Traverse right column from top to bottom\n",
    "        for row in range(row_start, row_end + 1):\n",
    "            matrix[row][col_end] = num\n",
    "            num += 1\n",
    "        col_end -= 1\n",
    "\n",
    "        # Traverse bottom row from right to left\n",
    "        for col in range(col_end, col_start - 1, -1):\n",
    "            matrix[row_end][col] = num\n",
    "            num += 1\n",
    "        row_end -= 1\n",
    "\n",
    "        # Traverse left column from bottom to top\n",
    "        for row in range(row_end, row_start - 1, -1):\n",
    "            matrix[row][col_start] = num\n",
    "            num += 1\n",
    "        col_start += 1\n",
    "\n",
    "    return matrix\n",
    "\n",
    "\n",
    "if __name__ == \"__main__\":\n",
    "    n = 3\n",
    "    print(spiral_matrix(n))\n"
   ]
  },
  {
   "cell_type": "markdown",
   "id": "42d7da19",
   "metadata": {},
   "source": [
    "***************************************************************************************************************************"
   ]
  },
  {
   "cell_type": "markdown",
   "id": "d6101438",
   "metadata": {},
   "source": [
    "<aside>\n",
    "💡 **Question 8**\n",
    "\n",
    "Given two [sparse matrices](https://en.wikipedia.org/wiki/Sparse_matrix) mat1 of size m x k and mat2 of size k x n, return the result of mat1 x mat2. You may assume that multiplication is always possible.\n",
    "\n",
    "**Example 1:**\n",
    "<img src='https://pwskills.notion.site/image/https%3A%2F%2Fs3-us-west-2.amazonaws.com%2Fsecure.notion-static.com%2Fdf57e793-12bf-4104-a17b-4e6a88dc7955%2FScreenshot_2023-05-29_005557.png?id=bf7064e0-6a34-4089-bad4-dfd954e546c4&table=block&spaceId=6fae2e0f-dedc-48e9-bc59-af2654c78209&width=1320&userId=&cache=v2'>\n",
    "\n",
    "**Input:** mat1 = [[1,0,0],[-1,0,3]], mat2 = [[7,0,0],[0,0,0],[0,0,1]]\n",
    "\n",
    "**Output:**\n",
    "\n",
    "[[7,0,0],[-7,0,3]]\n",
    "\n",
    "</aside>"
   ]
  },
  {
   "cell_type": "code",
   "execution_count": 8,
   "id": "5ba2e159",
   "metadata": {},
   "outputs": [
    {
     "name": "stdout",
     "output_type": "stream",
     "text": [
      "[[7, 0, 0], [-7, 0, 3]]\n"
     ]
    }
   ],
   "source": [
    "def multiply(mat1, mat2):\n",
    "    \"\"\"\n",
    "    Performs matrix multiplication of two sparse matrices mat1 and mat2.\n",
    "\n",
    "    Args:\n",
    "        mat1 (List[List[int]]): The first matrix.\n",
    "        mat2 (List[List[int]]): The second matrix.\n",
    "\n",
    "    Returns:\n",
    "        List[List[int]]: The result of mat1 x mat2.\n",
    "    \"\"\"\n",
    "\n",
    "    # Get the dimensions of mat1 and mat2\n",
    "    m, k = len(mat1), len(mat1[0])\n",
    "    n = len(mat2[0])\n",
    "\n",
    "    # Initialize the result matrix with zeros\n",
    "    result = [[0] * n for _ in range(m)]\n",
    "\n",
    "    # Perform matrix multiplication\n",
    "    for i in range(m):\n",
    "        for j in range(n):\n",
    "            for l in range(k):\n",
    "                # Check if the element at mat1[i][l] is non-zero\n",
    "                if mat1[i][l] != 0:\n",
    "                    # Multiply mat1[i][l] with mat2[l][j] and add the result to the corresponding element in the result matrix\n",
    "                    result[i][j] += mat1[i][l] * mat2[l][j]\n",
    "\n",
    "    return result\n",
    "\n",
    "\n",
    "if __name__ == \"__main__\":\n",
    "    mat1 = [[1, 0, 0], [-1, 0, 3]]\n",
    "    mat2 = [[7, 0, 0], [0, 0, 0], [0, 0, 1]]\n",
    "    print(multiply(mat1, mat2))    \n",
    "    "
   ]
  },
  {
   "cell_type": "code",
   "execution_count": null,
   "id": "bc96ce72-d48b-4770-ae29-a2722ed8176c",
   "metadata": {},
   "outputs": [],
   "source": []
  }
 ],
 "metadata": {
  "kernelspec": {
   "display_name": "Python 3 (ipykernel)",
   "language": "python",
   "name": "python3"
  },
  "language_info": {
   "codemirror_mode": {
    "name": "ipython",
    "version": 3
   },
   "file_extension": ".py",
   "mimetype": "text/x-python",
   "name": "python",
   "nbconvert_exporter": "python",
   "pygments_lexer": "ipython3",
   "version": "3.10.9"
  }
 },
 "nbformat": 4,
 "nbformat_minor": 5
}
