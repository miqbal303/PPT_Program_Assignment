{
 "cells": [
  {
   "cell_type": "markdown",
   "id": "1e02b657",
   "metadata": {},
   "source": [
    "<aside>\n",
    "💡 **Question 1**\n",
    "\n",
    "Given a singly linked list, delete **middle** of the linked list. For example, if given linked list is 1->2->**3**->4->5 then linked list should be modified to 1->2->4->5.If there are **even** nodes, then there would be **two middle** nodes, we need to delete the second middle element. For example, if given linked list is 1->2->3->4->5->6 then it should be modified to 1->2->3->5->6.If the input linked list is NULL or has 1 node, then it should return NULL\n",
    "\n",
    "**Example 1:**\n",
    "\n",
    "```\n",
    "Input:\n",
    "LinkedList: 1->2->3->4->5\n",
    "Output:1 2 4 5\n",
    "\n",
    "```\n",
    "\n",
    "**Example 2:**\n",
    "    \n",
    "Input:\n",
    "LinkedList: 2->4->6->7->5->1\n",
    "Output:2 4 6 5 1\n",
    "</aside>"
   ]
  },
  {
   "cell_type": "markdown",
   "id": "b151992c",
   "metadata": {},
   "source": [
    "***************************************************************************************************************************"
   ]
  },
  {
   "cell_type": "markdown",
   "id": "9eefbc71",
   "metadata": {},
   "source": [
    "<aside>\n",
    "💡 **Question 2**\n",
    "\n",
    "Given a linked list of **N** nodes. The task is to check if the linked list has a loop. Linked list can contain self loop.\n",
    "\n",
    "**Example 1:**\n",
    "\n",
    "```\n",
    "Input:\n",
    "N = 3\n",
    "value[] = {1,3,4}\n",
    "x(position at which tail is connected) = 2\n",
    "Output:True\n",
    "Explanation:In above test case N = 3.\n",
    "The linked list with nodes N = 3 is\n",
    "given. Then value of x=2 is given which\n",
    "means last node is connected with xth\n",
    "node of linked list. Therefore, there\n",
    "exists a loop.\n",
    "```\n",
    "\n",
    "**Example 2:**\n",
    "\n",
    "Input:\n",
    "N = 4\n",
    "value[] = {1,8,3,4}\n",
    "x = 0\n",
    "Output:False\n",
    "Explanation:For N = 4 ,x = 0 means\n",
    "then lastNode->next = NULL, then\n",
    "the Linked list does not contains\n",
    "any loop.    \n",
    "</aside>"
   ]
  },
  {
   "cell_type": "markdown",
   "id": "3f6c2d3d",
   "metadata": {},
   "source": [
    "***************************************************************************************************************************"
   ]
  },
  {
   "cell_type": "markdown",
   "id": "2fb51e8b",
   "metadata": {},
   "source": [
    "<aside>\n",
    "💡 **Question 3**\n",
    "\n",
    "Given a linked list consisting of **L** nodes and given a number **N**. The task is to find the **N**th node from the end of the linked list.\n",
    "\n",
    "**Example 1:**\n",
    "\n",
    "```\n",
    "Input:\n",
    "N = 2\n",
    "LinkedList: 1->2->3->4->5->6->7->8->9\n",
    "Output:8\n",
    "Explanation:In the first example, there\n",
    "are 9 nodes in linked list and we need\n",
    "to find 2nd node from end. 2nd node\n",
    "from end is 8.\n",
    "\n",
    "```\n",
    "\n",
    "**Example 2:**\n",
    "Input:\n",
    "N = 5\n",
    "LinkedList: 10->5->100->5\n",
    "Output:-1\n",
    "Explanation:In the second example, there\n",
    "are 4 nodes in the linked list and we\n",
    "need to find 5th from the end. Since 'n'\n",
    "is more than the number of nodes in the\n",
    "linked list, the output is -1.\n",
    "</aside>"
   ]
  },
  {
   "cell_type": "markdown",
   "id": "6dccc39d",
   "metadata": {},
   "source": [
    "***************************************************************************************************************************"
   ]
  },
  {
   "cell_type": "markdown",
   "id": "74d5d708",
   "metadata": {},
   "source": [
    "<aside>\n",
    "💡 **Question 4**\n",
    "\n",
    "Given a singly linked list of characters, write a function that returns true if the given list is a palindrome, else false.\n",
    "\n",
    "    \n",
    "<img src = 'https://pwskills.notion.site/image/https%3A%2F%2Fmedia.geeksforgeeks.org%2Fwp-content%2Fuploads%2F20220816144425%2FLLdrawio.png?id=e46487ad-3f04-4232-b8af-934a670fef6e&table=block&spaceId=6fae2e0f-dedc-48e9-bc59-af2654c78209&width=2000&userId=&cache=v2'>    \n",
    "    \n",
    "    \n",
    "**Examples:**\n",
    "\n",
    "> Input: R->A->D->A->R->NULL\n",
    "> \n",
    "> \n",
    "> **Output:** Yes\n",
    "> \n",
    "> **Input:** C->O->D->E->NULL\n",
    "> \n",
    "> **Output:** No\n",
    ">    \n",
    "</aside>"
   ]
  },
  {
   "cell_type": "markdown",
   "id": "5acbc1eb",
   "metadata": {},
   "source": [
    "***************************************************************************************************************************"
   ]
  },
  {
   "cell_type": "markdown",
   "id": "0199bbe3",
   "metadata": {},
   "source": [
    "<aside>\n",
    "💡 **Question 5**\n",
    "\n",
    "Given a linked list of **N** nodes such that it may contain a loop.\n",
    "\n",
    "A loop here means that the last node of the link list is connected to the node at position X(1-based index). If the link list does not have any loop, X=0.\n",
    "\n",
    "Remove the loop from the linked list, if it is present, i.e. unlink the last node which is forming the loop.\n",
    "\n",
    "**Example 1:**\n",
    "\n",
    "```\n",
    "Input:\n",
    "N = 3\n",
    "value[] = {1,3,4}\n",
    "X = 2\n",
    "Output:1\n",
    "Explanation:The link list looks like\n",
    "1 -> 3 -> 4\n",
    "     ^    |\n",
    "     |____|\n",
    "A loop is present. If you remove it\n",
    "successfully, the answer will be 1.\n",
    "\n",
    "```\n",
    "\n",
    "**Example 2:**\n",
    "\n",
    "```\n",
    "Input:\n",
    "N = 4\n",
    "value[] = {1,8,3,4}\n",
    "X = 0\n",
    "Output:1\n",
    "Explanation:The Linked list does not\n",
    "contains any loop.\n",
    "```\n",
    "\n",
    "**Example 3:**\n",
    "    \n",
    "Input:\n",
    "N = 4\n",
    "value[] = {1,2,3,4}\n",
    "X = 1\n",
    "Output:1\n",
    "Explanation:The link list looks like\n",
    "1 -> 2 -> 3 -> 4\n",
    "^              |\n",
    "|______________|\n",
    "A loop is present.\n",
    "If you remove it successfully,\n",
    "the answer will be 1.\n",
    "</aside>"
   ]
  },
  {
   "cell_type": "markdown",
   "id": "269efc5a",
   "metadata": {},
   "source": [
    "***************************************************************************************************************************"
   ]
  },
  {
   "cell_type": "markdown",
   "id": "f708fe57",
   "metadata": {},
   "source": [
    "<aside>\n",
    "💡 **Question 6**\n",
    "\n",
    "Given a linked list and two integers M and N. Traverse the linked list such that you retain M nodes then delete next N nodes, continue the same till end of the linked list.\n",
    "\n",
    "Difficulty Level: Rookie\n",
    "\n",
    "**Examples**:\n",
    "    \n",
    "Input:\n",
    "M = 2, N = 2\n",
    "Linked List: 1->2->3->4->5->6->7->8\n",
    "Output:\n",
    "Linked List: 1->2->5->6\n",
    "\n",
    "Input:\n",
    "M = 3, N = 2\n",
    "Linked List: 1->2->3->4->5->6->7->8->9->10\n",
    "Output:\n",
    "Linked List: 1->2->3->6->7->8\n",
    "\n",
    "Input:\n",
    "M = 1, N = 1\n",
    "Linked List: 1->2->3->4->5->6->7->8->9->10\n",
    "Output:\n",
    "Linked List: 1->3->5->7->9    \n",
    "\n",
    "</aside>"
   ]
  },
  {
   "cell_type": "markdown",
   "id": "884c56f7",
   "metadata": {},
   "source": [
    "***************************************************************************************************************************"
   ]
  },
  {
   "cell_type": "markdown",
   "id": "fb88a648",
   "metadata": {},
   "source": [
    "<aside>\n",
    "💡 **Question 7**\n",
    "\n",
    "Given two linked lists, insert nodes of second list into first list at alternate positions of first list.\n",
    "For example, if first list is 5->7->17->13->11 and second is 12->10->2->4->6, the first list should become 5->12->7->10->17->2->13->4->11->6 and second list should become empty. The nodes of second list should only be inserted when there are positions available. For example, if the first list is 1->2->3 and second list is 4->5->6->7->8, then first list should become 1->4->2->5->3->6 and second list to 7->8.\n",
    "\n",
    "Use of extra space is not allowed (Not allowed to create additional nodes), i.e., insertion must be done in-place. Expected time complexity is O(n) where n is number of nodes in first list.\n",
    "\n",
    "</aside>"
   ]
  },
  {
   "cell_type": "markdown",
   "id": "3181c948",
   "metadata": {},
   "source": [
    "***************************************************************************************************************************"
   ]
  },
  {
   "cell_type": "markdown",
   "id": "9e0987eb",
   "metadata": {},
   "source": [
    "<aside>\n",
    "💡 **Question 8**\n",
    "\n",
    "Given a singly linked list, find if the linked list is [circular](https://www.geeksforgeeks.org/circular-linked-list/amp/) or not.\n",
    "\n",
    "> A linked list is called circular if it is not NULL-terminated and all nodes are connected in the form of a cycle. Below is an example of a circular linked list.\n",
    "> \n",
    "    \n",
    "    \n",
    "<img src='https://pwskills.notion.site/image/https%3A%2F%2Fs3-us-west-2.amazonaws.com%2Fsecure.notion-static.com%2Fd30bbf79-b1eb-4ba4-b23e-6d3f27ccdfe5%2FUntitled.png?id=5ccbc796-7fb9-4c82-b385-f45ba589a896&table=block&spaceId=6fae2e0f-dedc-48e9-bc59-af2654c78209&width=1300&userId=&cache=v2'>    \n",
    "</aside>"
   ]
  },
  {
   "cell_type": "markdown",
   "id": "186d0889",
   "metadata": {},
   "source": [
    "***************************************************************************************************************************"
   ]
  },
  {
   "cell_type": "markdown",
   "id": "5675a59e",
   "metadata": {},
   "source": []
  }
 ],
 "metadata": {
  "kernelspec": {
   "display_name": "Python 3 (ipykernel)",
   "language": "python",
   "name": "python3"
  },
  "language_info": {
   "codemirror_mode": {
    "name": "ipython",
    "version": 3
   },
   "file_extension": ".py",
   "mimetype": "text/x-python",
   "name": "python",
   "nbconvert_exporter": "python",
   "pygments_lexer": "ipython3",
   "version": "3.10.9"
  }
 },
 "nbformat": 4,
 "nbformat_minor": 5
}
