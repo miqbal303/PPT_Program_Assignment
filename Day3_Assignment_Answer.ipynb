{
 "cells": [
  {
   "cell_type": "markdown",
   "id": "dfb133d6",
   "metadata": {},
   "source": [
    "**Question 1**\n",
    "Given an integer array nums of length n and an integer target, find three integers\n",
    "in nums such that the sum is closest to the target.\n",
    "Return the sum of the three integers.\n",
    "\n",
    "You may assume that each input would have exactly one solution.\n",
    "\n",
    "**Example 1:**\n",
    "Input: nums = [-1,2,1,-4], target = 1\n",
    "Output: 2\n",
    "\n",
    "**Explanation:** The sum that is closest to the target is 2. (-1 + 2 + 1 = 2)\n",
    "\n",
    "**Ans**"
   ]
  },
  {
   "cell_type": "code",
   "execution_count": 1,
   "id": "2a46ce22",
   "metadata": {},
   "outputs": [
    {
     "name": "stdout",
     "output_type": "stream",
     "text": [
      "2\n"
     ]
    }
   ],
   "source": [
    "def threeSumClosest(nums, target):\n",
    "    nums.sort()  # Sort the array in ascending order\n",
    "    n = len(nums)\n",
    "    closest_sum = float('inf')  # Initialize closest sum to infinity\n",
    "\n",
    "    for i in range(n - 2):\n",
    "        left = i + 1\n",
    "        right = n - 1\n",
    "\n",
    "        while left < right:\n",
    "            curr_sum = nums[i] + nums[left] + nums[right]  # Calculate current sum\n",
    "\n",
    "            if curr_sum == target:\n",
    "                return curr_sum  # Found exact target sum, return it\n",
    "\n",
    "            if abs(curr_sum - target) < abs(closest_sum - target):\n",
    "                closest_sum = curr_sum  # Update closest sum if the current sum is closer to the target\n",
    "\n",
    "            if curr_sum < target:\n",
    "                left += 1  # Move the left pointer towards the right to increase the sum\n",
    "            else:\n",
    "                right -= 1  # Move the right pointer towards the left to decrease the sum\n",
    "\n",
    "    return closest_sum\n",
    "\n",
    "# Test the function\n",
    "nums = [-1, 2, 1, -4]\n",
    "target = 1\n",
    "result = threeSumClosest(nums, target)\n",
    "print(result)\n"
   ]
  },
  {
   "cell_type": "markdown",
   "id": "162852e3",
   "metadata": {},
   "source": [
    "*****************************************************************************************************************************\n",
    "**Question 2**\n",
    "Given an array nums of n integers, return an array of all the unique quadruplets\n",
    "[nums[a], nums[b], nums[c], nums[d]] such that:\n",
    "           ● 0 <= a, b, c, d < n\n",
    "           ● a, b, c, and d are distinct.\n",
    "           ● nums[a] + nums[b] + nums[c] + nums[d] == target\n",
    "\n",
    "You may return the answer in any order.\n",
    "\n",
    "**Example 1:**\n",
    "Input: nums = [1,0,-1,0,-2,2], target = 0\n",
    "Output: [[-2,-1,1,2],[-2,0,0,2],[-1,0,0,1]]\n",
    "\n",
    "**Ans**"
   ]
  },
  {
   "cell_type": "code",
   "execution_count": 2,
   "id": "244e7ea9",
   "metadata": {},
   "outputs": [
    {
     "name": "stdout",
     "output_type": "stream",
     "text": [
      "[[-2, -1, 1, 2], [-2, 0, 0, 2], [-1, 0, 0, 1]]\n"
     ]
    }
   ],
   "source": [
    "def four_sum(nums, target):\n",
    "  \"\"\"\n",
    "  Finds all quadruplets in nums such that the sum is equal to target.\n",
    "\n",
    "  Args:\n",
    "    nums: An array of integers.\n",
    "    target: The target sum.\n",
    "\n",
    "  Returns:\n",
    "    A list of all quadruplets that sum to target.\n",
    "  \"\"\"\n",
    "\n",
    "  n = len(nums)\n",
    "\n",
    "  # Sort the array.\n",
    "  nums.sort()\n",
    "\n",
    "  # Initialize the list of quadruplets.\n",
    "  quadruplets = []\n",
    "\n",
    "  # Iterate over all possible combinations of four integers.\n",
    "  for i in range(n):\n",
    "    for j in range(i + 1, n):\n",
    "      for k in range(j + 1, n):\n",
    "        for l in range(k + 1, n):\n",
    "          sum = nums[i] + nums[j] + nums[k] + nums[l]\n",
    "\n",
    "          # Add the quadruplet to the list if the sum is equal to target.\n",
    "          if sum == target:\n",
    "            quadruplets.append([nums[i], nums[j], nums[k], nums[l]])\n",
    "\n",
    "  return quadruplets\n",
    "\n",
    "\n",
    "nums = [1, 0, -1, 0, -2, 2]\n",
    "target = 0\n",
    "\n",
    "print(four_sum(nums, target))\n"
   ]
  },
  {
   "cell_type": "markdown",
   "id": "b71a8353",
   "metadata": {},
   "source": [
    "********************************************************************************************************************************\n",
    "**Question 3**\n",
    "A permutation of an array of integers is an arrangement of its members into a\n",
    "sequence or linear order.\n",
    "\n",
    "For example, for arr = [1,2,3], the following are all the permutations of arr:\n",
    "[1,2,3], [1,3,2], [2, 1, 3], [2, 3, 1], [3,1,2], [3,2,1].\n",
    "\n",
    "The next permutation of an array of integers is the next lexicographically greater\n",
    "permutation of its integer. More formally, if all the permutations of the array are\n",
    "sorted in one container according to their lexicographical order, then the next\n",
    "permutation of that array is the permutation that follows it in the sorted container.\n",
    "\n",
    "If such an arrangement is not possible, the array must be rearranged as the\n",
    "lowest possible order (i.e., sorted in ascending order).\n",
    "\n",
    "● For example, the next permutation of arr = [1,2,3] is [1,3,2].\n",
    "● Similarly, the next permutation of arr = [2,3,1] is [3,1,2].\n",
    "● While the next permutation of arr = [3,2,1] is [1,2,3] because [3,2,1] does not\n",
    "have a lexicographical larger rearrangement.\n",
    "\n",
    "Given an array of integers nums, find the next permutation of nums.\n",
    "The replacement must be in place and use only constant extra memory.\n",
    "\n",
    "**Example 1:**\n",
    "Input: nums = [1,2,3]\n",
    "Output: [1,3,2]\n",
    "\n",
    "**Ans**"
   ]
  },
  {
   "cell_type": "code",
   "execution_count": 3,
   "id": "3f3eb2b2",
   "metadata": {},
   "outputs": [
    {
     "name": "stdout",
     "output_type": "stream",
     "text": [
      "[1, 3, 2]\n"
     ]
    }
   ],
   "source": [
    "def next_permutation(nums):\n",
    "  \"\"\"\n",
    "  Finds the next lexicographically greater permutation of nums.\n",
    "\n",
    "  Args:\n",
    "    nums: An array of integers.\n",
    "\n",
    "  Returns:\n",
    "    None. The permutation is modified in-place.\n",
    "  \"\"\"\n",
    "\n",
    "  n = len(nums)\n",
    "\n",
    "  # Find the first index i such that nums[i] < nums[i + 1].\n",
    "  # If no such index exists, the array is in descending order and we\n",
    "  # can simply reverse it.\n",
    "  i = n - 2\n",
    "  while i >= 0 and nums[i] >= nums[i + 1]:\n",
    "    i -= 1\n",
    "\n",
    "  # If i == -1, the array is in descending order and we can simply\n",
    "  # reverse it.\n",
    "  if i == -1:\n",
    "    nums.reverse()\n",
    "    return\n",
    "\n",
    "  # Find the smallest index j such that nums[j] > nums[i].\n",
    "  j = n - 1\n",
    "  while nums[j] <= nums[i]:\n",
    "    j -= 1\n",
    "\n",
    "  # Swap nums[i] and nums[j].\n",
    "  nums[i], nums[j] = nums[j], nums[i]\n",
    "\n",
    "  # Reverse the suffix of nums starting at index i + 1.\n",
    "  nums[i + 1:] = nums[i + 1:][::-1]\n",
    "\n",
    "\n",
    "    \n",
    "nums = [1, 2, 3]\n",
    "\n",
    "next_permutation(nums)\n",
    "\n",
    "print(nums)\n"
   ]
  },
  {
   "cell_type": "markdown",
   "id": "fa30d992",
   "metadata": {},
   "source": [
    "********************************************************************************************************************************\n",
    "**Question 4**\n",
    "Given a sorted array of distinct integers and a target value, return the index if the\n",
    "target is found. If not, return the index where it would be if it were inserted in\n",
    "order.\n",
    "\n",
    "You must write an algorithm with O(log n) runtime complexity.\n",
    "\n",
    "**Example 1:**\n",
    "Input: nums = [1,3,5,6], target = 5\n",
    "Output: 2\n",
    "\n",
    "**Ans**"
   ]
  },
  {
   "cell_type": "code",
   "execution_count": 4,
   "id": "4042fb2a",
   "metadata": {},
   "outputs": [
    {
     "name": "stdout",
     "output_type": "stream",
     "text": [
      "2\n"
     ]
    }
   ],
   "source": [
    "def binary_search(nums, target):\n",
    "  \"\"\"\n",
    "  Finds the index of the target value in the sorted array nums.\n",
    "\n",
    "  Args:\n",
    "    nums: A sorted array of integers.\n",
    "    target: The target value.\n",
    "\n",
    "  Returns:\n",
    "    The index of the target value if it is found in nums. Otherwise, -1.\n",
    "  \"\"\"\n",
    "\n",
    "  low = 0\n",
    "  high = len(nums) - 1\n",
    "\n",
    "  # While the low index is less than or equal to the high index,\n",
    "  # do the following:\n",
    "  while low <= high:\n",
    "\n",
    "    # Find the middle index.\n",
    "    mid = (low + high) // 2\n",
    "\n",
    "    # If the target value is equal to the element at the middle index,\n",
    "    # then return the middle index.\n",
    "    if nums[mid] == target:\n",
    "      return mid\n",
    "\n",
    "    # If the target value is less than the element at the middle index,\n",
    "    # then set the high index to the middle index - 1.\n",
    "    elif nums[mid] > target:\n",
    "      high = mid - 1\n",
    "\n",
    "    # If the target value is greater than the element at the middle index,\n",
    "    # then set the low index to the middle index + 1.\n",
    "    else:\n",
    "      low = mid + 1\n",
    "\n",
    "  # If the target value is not found in the array,\n",
    "  # then return -1.\n",
    "  return -1\n",
    "\n",
    "nums = [1, 3, 5, 6]\n",
    "target = 5\n",
    "\n",
    "print(binary_search(nums, target))\n"
   ]
  },
  {
   "cell_type": "markdown",
   "id": "62812dc9",
   "metadata": {},
   "source": [
    "********************************************************************************************************************************\n",
    "**Question 5**\n",
    "You are given a large integer represented as an integer array digits, where each\n",
    "digits[i] is the ith digit of the integer. The digits are ordered from most significant\n",
    "to least significant in left-to-right order. The large integer does not contain any\n",
    "leading 0's.\n",
    "\n",
    "Increment the large integer by one and return the resulting array of digits.\n",
    "\n",
    "**Example 1:**\n",
    "Input: digits = [1,2,3]\n",
    "Output: [1,2,4]\n",
    "\n",
    "**Explanation:** The array represents the integer 123.\n",
    "Incrementing by one gives 123 + 1 = 124.\n",
    "Thus, the result should be [1,2,4]\n",
    "\n",
    "**Ans**"
   ]
  },
  {
   "cell_type": "code",
   "execution_count": 5,
   "id": "55f0cd08",
   "metadata": {},
   "outputs": [
    {
     "name": "stdout",
     "output_type": "stream",
     "text": [
      "[1, 2, 4]\n"
     ]
    }
   ],
   "source": [
    "def plus_one(digits):\n",
    "    \"\"\"\n",
    "    Increments the large integer represented by the given array of digits.\n",
    "\n",
    "    Args:\n",
    "        digits: An array of integers representing the large integer.\n",
    "\n",
    "    Returns:\n",
    "        An array of integers representing the incremented large integer.\n",
    "    \"\"\"\n",
    "    carry = 1  # Initialize carry to 1 since we want to increment by 1\n",
    "    n = len(digits)\n",
    "\n",
    "    for i in range(n - 1, -1, -1):\n",
    "        digits[i] += carry\n",
    "\n",
    "        if digits[i] < 10:\n",
    "            carry = 0  # No carry required, break the loop\n",
    "            break\n",
    "        else:\n",
    "            digits[i] = 0  # Set current digit to 0 and continue with carry\n",
    "\n",
    "    if carry == 1:\n",
    "        digits.insert(0, 1)  # Add additional digit at the beginning if there is still a carry\n",
    "\n",
    "    return digits\n",
    "\n",
    "result = plus_one([1, 2, 3])\n",
    "print(result)\n"
   ]
  },
  {
   "cell_type": "markdown",
   "id": "ca89e768",
   "metadata": {},
   "source": [
    "********************************************************************************************************************************\n",
    "**Question 6**\n",
    "Given a non-empty array of integers nums, every element appears twice except\n",
    "for one. Find that single one.\n",
    "\n",
    "You must implement a solution with a linear runtime complexity and use only\n",
    "constant extra space.\n",
    "\n",
    "**Example 1:**\n",
    "Input: nums = [2,2,1]\n",
    "Output: 1\n",
    "\n",
    "**Ans**"
   ]
  },
  {
   "cell_type": "code",
   "execution_count": 6,
   "id": "2e146669",
   "metadata": {},
   "outputs": [
    {
     "data": {
      "text/plain": [
       "1"
      ]
     },
     "execution_count": 6,
     "metadata": {},
     "output_type": "execute_result"
    }
   ],
   "source": [
    "def find_single_element(nums):\n",
    "  \"\"\"\n",
    "  Finds the single element in the given array of integers.\n",
    "\n",
    "  Args:\n",
    "    nums: An array of integers.\n",
    "\n",
    "  Returns:\n",
    "    The single element in the array.\n",
    "  \"\"\"\n",
    "\n",
    "  # Create a dictionary to store the counts of each element.\n",
    "  counts = {}\n",
    "\n",
    "  # Iterate over the array and increment the count of each element.\n",
    "  for num in nums:\n",
    "    if num not in counts:\n",
    "      counts[num] = 0\n",
    "    counts[num] += 1\n",
    "\n",
    "  # Return the element with the count of 1.\n",
    "  for num, count in counts.items():\n",
    "    if count == 1:\n",
    "      return num\n",
    "\n",
    "\n",
    "find_single_element([2, 2, 1])"
   ]
  },
  {
   "cell_type": "markdown",
   "id": "b3bf60a3",
   "metadata": {},
   "source": [
    "********************************************************************************************************************************\n",
    "**Question 7**\n",
    "You are given an inclusive range [lower, upper] and a sorted unique integer array\n",
    "nums, where all elements are within the inclusive range.\n",
    "\n",
    "A number x is considered missing if x is in the range [lower, upper] and x is not in\n",
    "nums.\n",
    "\n",
    "Return the shortest sorted list of ranges that exactly covers all the missing\n",
    "numbers. That is, no element of nums is included in any of the ranges, and each\n",
    "missing number is covered by one of the ranges.\n",
    "\n",
    "**Example 1:**\n",
    "Input: nums = [0,1,3,50,75], lower = 0, upper = 99\n",
    "Output: [[2,2],[4,49],[51,74],[76,99]]\n",
    "\n",
    "**Explanation:** The ranges are:\n",
    "[2,2]\n",
    "[4,49]\n",
    "[51,74]\n",
    "[76,99]\n",
    "\n",
    "**Ans**"
   ]
  },
  {
   "cell_type": "code",
   "execution_count": 7,
   "id": "d79aa7c9",
   "metadata": {},
   "outputs": [
    {
     "data": {
      "text/plain": [
       "[[2, 2], [4, 49], [51, 74], [76, 99]]"
      ]
     },
     "execution_count": 7,
     "metadata": {},
     "output_type": "execute_result"
    }
   ],
   "source": [
    "def find_missing_ranges(nums, lower, upper):\n",
    "  \"\"\"\n",
    "  Finds the missing ranges in the given array of integers.\n",
    "\n",
    "  Args:\n",
    "    nums: An array of integers.\n",
    "    lower: The lower bound of the range.\n",
    "    upper: The upper bound of the range.\n",
    "\n",
    "  Returns:\n",
    "    A list of ranges that cover all the missing numbers.\n",
    "  \"\"\"\n",
    "\n",
    "  # Create a list to store the ranges.\n",
    "  ranges = []\n",
    "\n",
    "  # Iterate over the array and find the missing ranges.\n",
    "  for i in range(len(nums) - 1):\n",
    "    if nums[i + 1] - nums[i] > 1:\n",
    "      ranges.append([nums[i] + 1, nums[i + 1] - 1])\n",
    "\n",
    "  # If the last element of the array is not the upper bound, then add a range\n",
    "  # to cover the remaining numbers.\n",
    "  if nums[-1] < upper:\n",
    "    ranges.append([nums[-1] + 1, upper])\n",
    "\n",
    "  # Sort the ranges in ascending order.\n",
    "  ranges.sort()\n",
    "\n",
    "  return ranges\n",
    "\n",
    "find_missing_ranges([0, 1, 3, 50, 75], 0, 99)"
   ]
  },
  {
   "cell_type": "markdown",
   "id": "b219a009",
   "metadata": {},
   "source": [
    "********************************************************************************************************************************\n",
    "**Question 8**\n",
    "Given an array of meeting time intervals where intervals[i] = [starti, endi],\n",
    "determine if a person could attend all meetings.\n",
    "\n",
    "**Example 1:**\n",
    "Input: intervals = [[0,30],[5,10],[15,20]]\n",
    "Output: false\n",
    "\n",
    "**Ans**"
   ]
  },
  {
   "cell_type": "code",
   "execution_count": 8,
   "id": "2261557b",
   "metadata": {},
   "outputs": [
    {
     "name": "stdout",
     "output_type": "stream",
     "text": [
      "False\n"
     ]
    }
   ],
   "source": [
    "def can_attend_all_meetings(intervals):\n",
    "    \"\"\"  Given an array of meeting time intervals, determines if a person could attend all meetings.\n",
    "\n",
    "  Args:\n",
    "    intervals: An array of meeting time intervals, where each interval is represented as a list of two integers: [start_time, end_time].\n",
    "\n",
    "  Returns:\n",
    "    True if the person could attend all meetings, False otherwise\"\"\"\n",
    "    \n",
    "    \n",
    "    # Sort the intervals based on the start time\n",
    "    intervals.sort(key=lambda x: x[0])\n",
    "\n",
    "    # Check if there is any overlap between consecutive intervals\n",
    "    for i in range(1, len(intervals)):\n",
    "        # If the start time of the current interval is less than or equal to the end time of the previous interval,\n",
    "        # then there is an overlap, and the person cannot attend all meetings\n",
    "        if intervals[i][0] <= intervals[i-1][1]:\n",
    "            return False\n",
    "\n",
    "    # No overlaps found, the person can attend all meetings\n",
    "    return True\n",
    "\n",
    "# Example usage\n",
    "intervals = [[0, 30], [5, 10], [15, 20]]\n",
    "result = can_attend_all_meetings(intervals)\n",
    "print(result)\n"
   ]
  },
  {
   "cell_type": "code",
   "execution_count": null,
   "id": "da543902",
   "metadata": {},
   "outputs": [],
   "source": []
  }
 ],
 "metadata": {
  "kernelspec": {
   "display_name": "Python 3 (ipykernel)",
   "language": "python",
   "name": "python3"
  },
  "language_info": {
   "codemirror_mode": {
    "name": "ipython",
    "version": 3
   },
   "file_extension": ".py",
   "mimetype": "text/x-python",
   "name": "python",
   "nbconvert_exporter": "python",
   "pygments_lexer": "ipython3",
   "version": "3.10.9"
  }
 },
 "nbformat": 4,
 "nbformat_minor": 5
}
