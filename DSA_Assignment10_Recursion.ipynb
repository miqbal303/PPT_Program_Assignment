{
 "cells": [
  {
   "cell_type": "markdown",
   "id": "57e40d58",
   "metadata": {},
   "source": [
    "<aside>\n",
    "💡 **Question 1**\n",
    "\n",
    "Given an integer `n`, return *`true` if it is a power of three. Otherwise, return `false`*.\n",
    "\n",
    "An integer `n` is a power of three, if there exists an integer `x` such that `n == 3x`.\n",
    "\n",
    "**Example 1:**\n",
    "\n",
    "```\n",
    "Input: n = 27\n",
    "Output: true\n",
    "Explanation: 27 = 33\n",
    "```\n",
    "\n",
    "**Example 2:**\n",
    "\n",
    "```\n",
    "Input: n = 0\n",
    "Output: false\n",
    "Explanation: There is no x where 3x = 0.\n",
    "\n",
    "```\n",
    "\n",
    "**Example 3:**\n",
    "Input: n = -1\n",
    "Output: false\n",
    "Explanation: There is no x where 3x = (-1).\n",
    "</aside>"
   ]
  },
  {
   "cell_type": "code",
   "execution_count": 1,
   "id": "2cc1f64a-edc4-4419-a21f-4179ce27f635",
   "metadata": {},
   "outputs": [
    {
     "name": "stdout",
     "output_type": "stream",
     "text": [
      "True\n",
      "True\n",
      "False\n"
     ]
    }
   ],
   "source": [
    "def is_power_of_three(n):\n",
    "    \"\"\"\n",
    "    Determines if an integer is a power of three.\n",
    "\n",
    "    Args:\n",
    "      n (int): The integer to check.\n",
    "\n",
    "    Returns:\n",
    "      bool: True if n is a power of three, False otherwise.\n",
    "\n",
    "    \"\"\"\n",
    "\n",
    "    if n < 0:\n",
    "        return False  # Negative numbers cannot be powers of three\n",
    "\n",
    "    if n == 1:\n",
    "        return True  # Special case: 1 is a power of three\n",
    "\n",
    "    while n % 3 == 0:\n",
    "        n = n // 3  # Keep dividing n by 3 as long as it's divisible by 3\n",
    "\n",
    "    return n == 1  # Check if n reduced to 1\n",
    "\n",
    "\n",
    "if __name__ == \"__main__\":\n",
    "    print(is_power_of_three(27))\n",
    "    print(is_power_of_three(9))\n",
    "    print(is_power_of_three(32))\n"
   ]
  },
  {
   "cell_type": "markdown",
   "id": "c253ee5e",
   "metadata": {},
   "source": [
    "***************************************************************************************************************************"
   ]
  },
  {
   "cell_type": "markdown",
   "id": "4cf8d759",
   "metadata": {},
   "source": [
    "<aside>\n",
    "💡 **Question 2**\n",
    "\n",
    "You have a list `arr` of all integers in the range `[1, n]` sorted in a strictly increasing order. Apply the following algorithm on `arr`:\n",
    "\n",
    "- Starting from left to right, remove the first number and every other number afterward until you reach the end of the list.\n",
    "- Repeat the previous step again, but this time from right to left, remove the rightmost number and every other number from the remaining numbers.\n",
    "- Keep repeating the steps again, alternating left to right and right to left, until a single number remains.\n",
    "\n",
    "Given the integer `n`, return *the last number that remains in* `arr`.\n",
    "\n",
    "**Example 1:**\n",
    "\n",
    " Input: n = 9\n",
    "Output: 6\n",
    "Explanation:\n",
    "arr = [1, 2,3, 4,5, 6,7, 8,9]\n",
    "arr = [2,4, 6,8]\n",
    "arr = [2, 6]\n",
    "arr = [6]\n",
    "\n",
    "Example 2:\n",
    "    \n",
    "Input: n = 1\n",
    "Output: 1    \n",
    "    \n",
    "</aside>"
   ]
  },
  {
   "cell_type": "code",
   "execution_count": 2,
   "id": "73f46618-0690-41d8-ad46-f61dd0990ad3",
   "metadata": {},
   "outputs": [
    {
     "name": "stdout",
     "output_type": "stream",
     "text": [
      "6\n"
     ]
    }
   ],
   "source": [
    "def last_remaining_number(n):\n",
    "    \"\"\"\n",
    "    Finds the last remaining number in a list arr.\n",
    "  \n",
    "    Args:\n",
    "      n (int): The number of elements in the list.\n",
    "  \n",
    "    Returns:\n",
    "      int: The last remaining number in the list.\n",
    "  \n",
    "    \"\"\"\n",
    "\n",
    "    left_to_right = True  # Flag to indicate the direction of traversal\n",
    "    remaining = n  # Variable to track the number of remaining elements\n",
    "    step = 1  # Step size between consecutive elements\n",
    "\n",
    "    start = 1  # Start position\n",
    "    while remaining > 1:\n",
    "        if left_to_right or remaining % 2 == 1:\n",
    "            # If we're going from left to right or the remaining count is odd\n",
    "            # We need to update the start position\n",
    "            start += step\n",
    "\n",
    "        step *= 2  # Double the step size for the next round\n",
    "        remaining //= 2  # Reduce the count of remaining elements\n",
    "\n",
    "        left_to_right = not left_to_right  # Toggle the direction\n",
    "\n",
    "    return start\n",
    "\n",
    "\n",
    "if __name__ == \"__main__\":\n",
    "    n = 9\n",
    "    print(last_remaining_number(n))\n"
   ]
  },
  {
   "cell_type": "markdown",
   "id": "27393b80",
   "metadata": {},
   "source": [
    "***************************************************************************************************************************"
   ]
  },
  {
   "cell_type": "markdown",
   "id": "a1d69c92",
   "metadata": {},
   "source": [
    "<aside>\n",
    "💡 **Question 3**\n",
    "\n",
    "****Given a set represented as a string, write a recursive code to print all subsets of it. The subsets can be printed in any order.\n",
    "\n",
    "**Example 1:**\n",
    "\n",
    "Input :  set = “abc”\n",
    "\n",
    "Output : { “”, “a”, “b”, “c”, “ab”, “ac”, “bc”, “abc”}\n",
    "\n",
    "**Example 2:**\n",
    "\n",
    "Input : set = “abcd”\n",
    "\n",
    "Output : { “”, “a” ,”ab” ,”abc” ,”abcd”, “abd” ,”ac” ,”acd”, “ad” ,”b”, “bc” ,”bcd” ,”bd” ,”c” ,”cd” ,”d” }\n",
    "\n",
    "</aside>"
   ]
  },
  {
   "cell_type": "code",
   "execution_count": 3,
   "id": "962f0b4a-7720-4299-818c-fd94301c8eae",
   "metadata": {},
   "outputs": [
    {
     "name": "stdout",
     "output_type": "stream",
     "text": [
      "['abc', 'ab', 'ac', 'a', 'bc', 'b', 'c', '']\n"
     ]
    }
   ],
   "source": [
    "def print_all_subsets(set):\n",
    "    \"\"\"\n",
    "    Prints all subsets of a set represented as a string.\n",
    "  \n",
    "    Args:\n",
    "      set (str): The set to print the subsets of.\n",
    "  \n",
    "    Returns:\n",
    "      None.\n",
    "\n",
    "    \"\"\"\n",
    "    subsets = []\n",
    "    backtrack(set, \"\", 0, subsets)\n",
    "\n",
    "    print(subsets)\n",
    "\n",
    "\n",
    "def backtrack(set, current_subset, index, subsets):\n",
    "    # Base case: When we reach the end of the string\n",
    "    if index == len(set):\n",
    "        subsets.append(current_subset)\n",
    "        return\n",
    "\n",
    "    # Include the current character in the subset\n",
    "    backtrack(set, current_subset + set[index], index + 1, subsets)\n",
    "\n",
    "    # Exclude the current character from the subset\n",
    "    backtrack(set, current_subset, index + 1, subsets)\n",
    "\n",
    "\n",
    "if __name__ == \"__main__\":\n",
    "    set = \"abc\"\n",
    "    print_all_subsets(set)\n"
   ]
  },
  {
   "cell_type": "markdown",
   "id": "9f833ab9",
   "metadata": {},
   "source": [
    "***************************************************************************************************************************"
   ]
  },
  {
   "cell_type": "markdown",
   "id": "ece6ba8a",
   "metadata": {},
   "source": [
    "<aside>\n",
    "💡 **Question 4**\n",
    "\n",
    "Given a string calculate length of the string using recursion.\n",
    "\n",
    "**Examples:**\n",
    "\n",
    "Input : str = \"abcd\"\n",
    "Output :4\n",
    "\n",
    "Input : str = \"GEEKSFORGEEKS\"\n",
    "Output :13    \n",
    "    \n",
    "</aside>"
   ]
  },
  {
   "cell_type": "code",
   "execution_count": 4,
   "id": "55f3c3f8-8153-4965-adcd-7992d4cacc1c",
   "metadata": {},
   "outputs": [
    {
     "name": "stdout",
     "output_type": "stream",
     "text": [
      "4\n",
      "13\n"
     ]
    }
   ],
   "source": [
    "def length_of_string_recursive(string):\n",
    "    \"\"\"\n",
    "    Calculates the length of a string using recursion.\n",
    "  \n",
    "    Args:\n",
    "      string (str): The string to calculate the length of.\n",
    "  \n",
    "    Returns:\n",
    "      int: The length of the string.\n",
    "\n",
    "    \"\"\"\n",
    "\n",
    "    # Base case: When the string is empty\n",
    "    if string == \"\":\n",
    "        return 0\n",
    "\n",
    "    # Recursive case: Calculate the length of the remaining string\n",
    "    return 1 + length_of_string_recursive(string[1:])\n",
    "\n",
    "\n",
    "if __name__ == \"__main__\":\n",
    "    print(length_of_string_recursive(\"abcd\"))\n",
    "    print(length_of_string_recursive(\"GEEKSFORGEEKS\"))\n"
   ]
  },
  {
   "cell_type": "markdown",
   "id": "1eccce1c",
   "metadata": {},
   "source": [
    "***************************************************************************************************************************"
   ]
  },
  {
   "cell_type": "markdown",
   "id": "def57b0f",
   "metadata": {},
   "source": [
    "<aside>\n",
    "💡 **Question 5**\n",
    "\n",
    "We are given a string S, we need to find count of all contiguous substrings starting and ending with same character.\n",
    "\n",
    "**Examples :**\n",
    "\n",
    "Input  : S = \"abcab\"\n",
    "Output : 7\n",
    "There are 15 substrings of \"abcab\"\n",
    "a, ab, abc, abca, abcab, b, bc, bca\n",
    "bcab, c, ca, cab, a, ab, b\n",
    "Out of the above substrings, there\n",
    "are 5 substrings : a, abca, b, bcab,\n",
    "c.\n",
    "\n",
    "Input  : S = \"aba\"\n",
    "Output : 4\n",
    "The substrings are a, b, a and aba    \n",
    "</aside>"
   ]
  },
  {
   "cell_type": "code",
   "execution_count": 5,
   "id": "3e52eac7-0989-4f02-a7f6-ec00eea391d6",
   "metadata": {},
   "outputs": [
    {
     "name": "stdout",
     "output_type": "stream",
     "text": [
      "5\n",
      "4\n"
     ]
    }
   ],
   "source": [
    "def countContiguousSubstrings(S):\n",
    "    \"\"\"\n",
    "    Counts the total number of contiguous substrings starting and ending with the same character in a given string.\n",
    "\n",
    "    Args:\n",
    "      S (str): The input string.\n",
    "\n",
    "    Returns:\n",
    "      int: The count of valid substrings.\n",
    "\n",
    "    \"\"\"\n",
    "    count = 0\n",
    "    n = len(S)\n",
    "\n",
    "    for i in range(n):\n",
    "        count += 1\n",
    "        left = i - 1\n",
    "        right = i + 1\n",
    "\n",
    "        while left >= 0 and right < n and S[left] == S[right]:\n",
    "            count += 1\n",
    "            left -= 1\n",
    "            right += 1\n",
    "\n",
    "    return count\n",
    "\n",
    "\n",
    "if __name__ == \"__main__\":\n",
    "    print(countContiguousSubstrings(\"abcab\"))\n",
    "    print(countContiguousSubstrings(\"aba\"))\n"
   ]
  },
  {
   "cell_type": "markdown",
   "id": "8b9559d6",
   "metadata": {},
   "source": [
    "***************************************************************************************************************************"
   ]
  },
  {
   "cell_type": "markdown",
   "id": "941dc447",
   "metadata": {},
   "source": [
    "<aside>\n",
    "💡 **Question 6**\n",
    "\n",
    "The [tower of Hanoi](https://en.wikipedia.org/wiki/Tower_of_Hanoi) is a famous puzzle where we have three rods and **N** disks. The objective of the puzzle is to move the entire stack to another rod. You are given the number of discs **N**. Initially, these discs are in the rod 1. You need to print all the steps of discs movement so that all the discs reach the 3rd rod. Also, you need to find the total moves.**Note:** The discs are arranged such that the **top disc is numbered 1** and the **bottom-most disc is numbered N**. Also, all the discs have **different sizes** and a bigger disc **cannot** be put on the top of a smaller disc. Refer the provided link to get a better clarity about the puzzle.\n",
    "\n",
    "**Example 1:**\n",
    "\n",
    "Input:\n",
    "N = 2\n",
    "Output:\n",
    "move disk 1 from rod 1 to rod 2\n",
    "move disk 2 from rod 1 to rod 3\n",
    "move disk 1 from rod 2 to rod 3\n",
    "3\n",
    "Explanation:For N=2 , steps will be\n",
    "as follows in the example and total\n",
    "3 steps will be taken.\n",
    "    \n",
    "    \n",
    "Example 2:\n",
    "    \n",
    "Input:\n",
    "N = 3\n",
    "Output:\n",
    "move disk 1 from rod 1 to rod 3\n",
    "move disk 2 from rod 1 to rod 2\n",
    "move disk 1 from rod 3 to rod 2\n",
    "move disk 3 from rod 1 to rod 3\n",
    "move disk 1 from rod 2 to rod 1\n",
    "move disk 2 from rod 2 to rod 3\n",
    "move disk 1 from rod 1 to rod 3\n",
    "7\n",
    "Explanation:For N=3 , steps will be\n",
    "as follows in the example and total\n",
    "7 steps will be taken.    \n",
    "    \n",
    "</aside>"
   ]
  },
  {
   "cell_type": "code",
   "execution_count": 6,
   "id": "da736a8b-7a98-452c-97b6-5a63f7359d26",
   "metadata": {},
   "outputs": [
    {
     "name": "stdout",
     "output_type": "stream",
     "text": [
      "move disk 1 from A to C\n",
      "move disk 2 from A to B\n",
      "move disk 1 from C to B\n",
      "move disk 3 from A to C\n",
      "move disk 1 from B to A\n",
      "move disk 2 from B to C\n",
      "move disk 1 from A to C\n",
      "7\n"
     ]
    }
   ],
   "source": [
    "def tower_of_hanoi(n, source, aux, dest):\n",
    "    \"\"\"\n",
    "    Solves the Tower of Hanoi problem.\n",
    "\n",
    "    Args:\n",
    "      n (int): The number of disks.\n",
    "      source (str): The name of the source rod.\n",
    "      aux (str): The name of the auxiliary rod.\n",
    "      dest (str): The name of the destination rod.\n",
    "\n",
    "    Returns:\n",
    "      int: The number of moves.\n",
    "\n",
    "    \"\"\"\n",
    "\n",
    "    if n == 1:\n",
    "        # Base case: If there is only one disk, move it directly from source to destination\n",
    "        print(f\"move disk {n} from {source} to {dest}\")\n",
    "        return 1\n",
    "    else:\n",
    "        moves = 0\n",
    "        # Recursive case: Move (n-1) disks from source to auxiliary using destination as the auxiliary rod\n",
    "        moves += tower_of_hanoi(n - 1, source, dest, aux)\n",
    "        # Move the largest disk from source to destination\n",
    "        print(f\"move disk {n} from {source} to {dest}\")\n",
    "        moves += 1\n",
    "        # Move (n-1) disks from auxiliary to destination using source as the auxiliary rod\n",
    "        moves += tower_of_hanoi(n - 1, aux, source, dest)\n",
    "        return moves\n",
    "\n",
    "\n",
    "if __name__ == \"__main__\":\n",
    "    n = 3\n",
    "    source = \"A\"\n",
    "    aux = \"B\"\n",
    "    dest = \"C\"\n",
    "    print(tower_of_hanoi(n, source, aux, dest))\n"
   ]
  },
  {
   "cell_type": "markdown",
   "id": "dc0adb3e",
   "metadata": {},
   "source": [
    "***************************************************************************************************************************"
   ]
  },
  {
   "cell_type": "markdown",
   "id": "a9c1b5af",
   "metadata": {},
   "source": [
    "<aside>\n",
    "💡 **Question 7**\n",
    "\n",
    "Given a string **str**, the task is to print all the permutations of **str**. A **permutation** is an arrangement of all or part of a set of objects, with regard to the order of the arrangement. For instance, the words ‘bat’ and ‘tab’ represents two distinct permutation (or arrangements) of a similar three letter word.\n",
    "\n",
    "**Examples:**\n",
    "\n",
    "> Input: str = “cd”\n",
    "> \n",
    "> \n",
    "> **Output:** cd dc\n",
    "> \n",
    "> **Input:** str = “abb”\n",
    "> \n",
    "> **Output:** abb abb bab bba bab bba\n",
    "> \n",
    "</aside>"
   ]
  },
  {
   "cell_type": "code",
   "execution_count": 8,
   "id": "d631cb2d-b2c6-43cd-8135-a17e0b06bc67",
   "metadata": {},
   "outputs": [
    {
     "name": "stdout",
     "output_type": "stream",
     "text": [
      "['cd', 'dc']\n",
      "['abb', 'abb', 'bab', 'bba', 'bba', 'bab']\n"
     ]
    }
   ],
   "source": [
    "def printPermutations(string):\n",
    "    \"\"\"\n",
    "    Prints all permutations of a given string.\n",
    "\n",
    "    Args:\n",
    "      string (str): The input string.\n",
    "\n",
    "    Returns:\n",
    "      list: A list of all permutations of the string.\n",
    "\n",
    "    \"\"\"\n",
    "    permutations = []  # List to store all permutations\n",
    "    backtrack(list(string), 0, len(string) - 1, permutations)\n",
    "    return permutations\n",
    "\n",
    "\n",
    "def backtrack(string_list, left, right, permutations):\n",
    "    \"\"\"\n",
    "    Recursive function to generate permutations of the string.\n",
    "\n",
    "    Args:\n",
    "      string_list (list): The list of characters representing the string.\n",
    "      left (int): The left index of the range of characters to consider.\n",
    "      right (int): The right index of the range of characters to consider.\n",
    "      permutations (list): The list to store all permutations.\n",
    "\n",
    "    Returns:\n",
    "      None.\n",
    "    \"\"\"\n",
    "    if left == right:\n",
    "        # Base case: When we reach the last character, convert the list back to a string and append to permutations\n",
    "        permutations.append(''.join(string_list))\n",
    "    else:\n",
    "        for i in range(left, right + 1):\n",
    "            # Fix one character at the beginning and swap characters at different positions\n",
    "            string_list[left], string_list[i] = string_list[i], string_list[left]\n",
    "            # Recursively find all permutations of the remaining characters\n",
    "            backtrack(string_list, left + 1, right, permutations)\n",
    "            # Restore the original order of characters\n",
    "            string_list[left], string_list[i] = string_list[i], string_list[left]\n",
    "\n",
    "\n",
    "# Test cases\n",
    "if __name__ == \"__main__\":\n",
    "    print(printPermutations(\"cd\"))\n",
    "    print(printPermutations(\"abb\"))\n",
    "\n"
   ]
  },
  {
   "cell_type": "markdown",
   "id": "bb3cb856",
   "metadata": {},
   "source": [
    "***************************************************************************************************************************"
   ]
  },
  {
   "cell_type": "markdown",
   "id": "ec62bf11",
   "metadata": {},
   "source": [
    "<aside>\n",
    "💡 **Question 8**\n",
    "\n",
    "Given a string, count total number of consonants in it. A consonant is an English alphabet character that is not vowel (a, e, i, o and u). Examples of constants are b, c, d, f, and g.\n",
    "\n",
    "**Examples :**\n",
    "\n",
    "Input : abc de\n",
    "Output : 3\n",
    "There are three consonants b, c and d.\n",
    "\n",
    "Input : geeksforgeeks portal\n",
    "Output : 12   \n",
    "    \n",
    "</aside>"
   ]
  },
  {
   "cell_type": "code",
   "execution_count": 9,
   "id": "9706937f-5547-425c-9d8c-4cd2d9f6238b",
   "metadata": {},
   "outputs": [
    {
     "name": "stdout",
     "output_type": "stream",
     "text": [
      "3\n",
      "12\n"
     ]
    }
   ],
   "source": [
    "def countConsonants(string):\n",
    "    \"\"\"\n",
    "    Counts the total number of consonants in a given string.\n",
    "\n",
    "    Args:\n",
    "      string (str): The input string.\n",
    "\n",
    "    Returns:\n",
    "      int: The total count of consonants.\n",
    "\n",
    "    \"\"\"\n",
    "    consonants = 'bcdfghjklmnpqrstvwxyz'  # List of consonants\n",
    "    count = 0  # Counter to store the total count of consonants\n",
    "    \n",
    "    for char in string:\n",
    "        if char.lower() in consonants:\n",
    "            count += 1\n",
    "    \n",
    "    return count\n",
    "\n",
    "\n",
    "if __name__ == \"__main__\":\n",
    "    print(countConsonants(\"abc de\"))\n",
    "    print(countConsonants(\"geeksforgeeks portal\"))\n"
   ]
  },
  {
   "cell_type": "markdown",
   "id": "41ac9bba",
   "metadata": {},
   "source": [
    "***************************************************************************************************************************"
   ]
  }
 ],
 "metadata": {
  "kernelspec": {
   "display_name": "Python 3 (ipykernel)",
   "language": "python",
   "name": "python3"
  },
  "language_info": {
   "codemirror_mode": {
    "name": "ipython",
    "version": 3
   },
   "file_extension": ".py",
   "mimetype": "text/x-python",
   "name": "python",
   "nbconvert_exporter": "python",
   "pygments_lexer": "ipython3",
   "version": "3.10.6"
  }
 },
 "nbformat": 4,
 "nbformat_minor": 5
}
