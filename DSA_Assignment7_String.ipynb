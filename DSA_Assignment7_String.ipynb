{
 "cells": [
  {
   "cell_type": "markdown",
   "id": "f9c45d5e",
   "metadata": {},
   "source": [
    "<aside>\n",
    "💡 **Question 1**\n",
    "\n",
    "Given two strings s and t, *determine if they are isomorphic*.\n",
    "\n",
    "Two strings s and t are isomorphic if the characters in s can be replaced to get t.\n",
    "\n",
    "All occurrences of a character must be replaced with another character while preserving the order of characters. No two characters may map to the same character, but a character may map to itself.\n",
    "\n",
    "**Example 1:**\n",
    "\n",
    "**Input:** s = \"egg\", t = \"add\"\n",
    "\n",
    "**Output:** true\n",
    "\n",
    "</aside>"
   ]
  },
  {
   "cell_type": "code",
   "execution_count": 5,
   "id": "a739ce7b",
   "metadata": {},
   "outputs": [
    {
     "name": "stdout",
     "output_type": "stream",
     "text": [
      "True\n",
      "False\n"
     ]
    }
   ],
   "source": [
    "def isomorphic_strings(s, t):\n",
    "    \"\"\"\n",
    "    Determines if two strings s and t are isomorphic.\n",
    "\n",
    "    Args:\n",
    "      s (str): The first string.\n",
    "      t (str): The second string.\n",
    "  \n",
    "    Returns:\n",
    "      bool: True if the strings are isomorphic, False otherwise.\n",
    "  \n",
    "    Example:\n",
    "      s = \"egg\"\n",
    "      t = \"add\"\n",
    "      print(is_isomorphic(s, t))  # Output: true\n",
    "    \"\"\"\n",
    "    \n",
    "    # Check if the lengths of the strings are equal\n",
    "    if len(s) != len(t):\n",
    "        return False\n",
    "\n",
    "    s_to_t = {}\n",
    "    t_to_s = {}\n",
    "\n",
    "    for s_char, t_char in zip(s, t):\n",
    "        # Check if s_char is already mapped to a different t_char\n",
    "        if s_char in s_to_t and s_to_t[s_char] != t_char:\n",
    "            return False\n",
    "        # Check if t_char is already mapped to a different s_char\n",
    "        if t_char in t_to_s and t_to_s[t_char] != s_char:\n",
    "            return False\n",
    "\n",
    "        # Add the mappings s_char -> t_char and t_char -> s_char\n",
    "        s_to_t[s_char] = t_char\n",
    "        t_to_s[t_char] = s_char\n",
    "\n",
    "    # If the loop completes without finding any violations, return True\n",
    "    return True\n",
    "\n",
    "# Test function\n",
    "if __name__ == \"__main__\":\n",
    "    s1 = \"egg\"\n",
    "    t1 = \"add\"\n",
    "    print(isomorphic_strings(s1, t1))\n",
    "\n",
    "\n",
    "    s2 = \"foo\"\n",
    "    t2 = \"bar\"\n",
    "    print(isomorphic_strings(s2, t2))\n"
   ]
  },
  {
   "cell_type": "markdown",
   "id": "f0d1eef8",
   "metadata": {},
   "source": [
    "***************************************************************************************************************************"
   ]
  },
  {
   "cell_type": "markdown",
   "id": "8ce0ab19",
   "metadata": {},
   "source": [
    "<aside>\n",
    "💡 **Question 2**\n",
    "\n",
    "Given a string num which represents an integer, return true *if* num *is a **strobogrammatic number***.\n",
    "\n",
    "A **strobogrammatic number** is a number that looks the same when rotated 180 degrees (looked at upside down).\n",
    "\n",
    "**Example 1:**\n",
    "\n",
    "**Input:** num = \"69\"\n",
    "\n",
    "**Output:**\n",
    "\n",
    "true\n",
    "\n",
    "</aside>"
   ]
  },
  {
   "cell_type": "code",
   "execution_count": 9,
   "id": "6e614284",
   "metadata": {},
   "outputs": [
    {
     "name": "stdout",
     "output_type": "stream",
     "text": [
      "True\n",
      "False\n"
     ]
    }
   ],
   "source": [
    "def is_strobogrammatic(num):\n",
    "    \"\"\"\n",
    "    Determines if a given string num is a strobogrammatic number.\n",
    "\n",
    "    Args:\n",
    "        num (str): The input string representing an integer.\n",
    "\n",
    "    Returns:\n",
    "        bool: True if num is a strobogrammatic number, False otherwise.\n",
    "    \"\"\"\n",
    "\n",
    "    # Initialize two pointers, left and right, pointing to the start and end of the string\n",
    "    left = 0\n",
    "    right = len(num) - 1\n",
    "\n",
    "    # Iterate while left is less than or equal to right\n",
    "    while left <= right:\n",
    "        # Check if the characters at positions left and right form a valid strobogrammatic pair\n",
    "        if num[left] + num[right] not in [\"00\", \"11\", \"69\", \"96\", \"88\"]:\n",
    "            return False\n",
    "\n",
    "        # Move left one position to the right and right one position to the left\n",
    "        left += 1\n",
    "        right -= 1\n",
    "\n",
    "    # If the loop completes without returning False and left becomes greater than right, num is a strobogrammatic number\n",
    "    return True\n",
    "\n",
    "# Test function\n",
    "if __name__ == \"__main__\":\n",
    "\n",
    "    num1 = \"69\"\n",
    "    num2 = \"33\"\n",
    "    print(is_strobogrammatic(num1))\n",
    "    print(is_strobogrammatic(num2))\n",
    "\n"
   ]
  },
  {
   "cell_type": "markdown",
   "id": "8bf8ab97",
   "metadata": {},
   "source": [
    "***************************************************************************************************************************"
   ]
  },
  {
   "cell_type": "markdown",
   "id": "ce1b6b1b",
   "metadata": {},
   "source": [
    "<aside>\n",
    "💡 **Question 3**\n",
    "\n",
    "Given two non-negative integers, num1 and num2 represented as string, return *the sum of* num1 *and* num2 *as a string*.\n",
    "\n",
    "You must solve the problem without using any built-in library for handling large integers (such as BigInteger). You must also not convert the inputs to integers directly.\n",
    "\n",
    "**Example 1:**\n",
    "\n",
    "**Input:** num1 = \"11\", num2 = \"123\"\n",
    "\n",
    "**Output:**\n",
    "\n",
    "\"134\"\n",
    "\n",
    "</aside>"
   ]
  },
  {
   "cell_type": "code",
   "execution_count": 13,
   "id": "33bc281b",
   "metadata": {},
   "outputs": [
    {
     "name": "stdout",
     "output_type": "stream",
     "text": [
      "134\n"
     ]
    }
   ],
   "source": [
    "def add_strings(num1, num2):\n",
    "    \"\"\"\n",
    "    Adds two non-negative integers, num1 and num2, represented as strings.\n",
    "\n",
    "    Args:\n",
    "        num1 (str): The string representation of the first non-negative integer.\n",
    "        num2 (str): The string representation of the second non-negative integer.\n",
    "\n",
    "    Returns:\n",
    "        str: The sum of num1 and num2 as a string.\n",
    "    \"\"\"\n",
    "\n",
    "    # Initialize an empty string to store the sum\n",
    "    result = \"\"\n",
    "\n",
    "    # Initialize two pointers to the end of num1 and num2\n",
    "    i = len(num1) - 1\n",
    "    j = len(num2) - 1\n",
    "\n",
    "    # Initialize carry to 0\n",
    "    carry = 0\n",
    "\n",
    "    # Perform addition digit by digit\n",
    "    while i >= 0 or j >= 0:\n",
    "        # Get the current digits from num1 and num2 or set them to 0 if the indices are out of range\n",
    "        digit1 = int(num1[i]) if i >= 0 else 0\n",
    "        digit2 = int(num2[j]) if j >= 0 else 0\n",
    "\n",
    "        # Calculate the sum of the current digits along with the carry\n",
    "        digit_sum = carry + digit1 + digit2\n",
    "\n",
    "        # Append the least significant digit of the sum to the result\n",
    "        result = str(digit_sum % 10) + result\n",
    "\n",
    "        # Update the carry for the next iteration\n",
    "        carry = digit_sum // 10\n",
    "\n",
    "        # Move to the next digits in num1 and num2\n",
    "        i -= 1\n",
    "        j -= 1\n",
    "\n",
    "    # If there is a remaining carry, append it to the result\n",
    "    if carry:\n",
    "        result = str(carry) + result\n",
    "\n",
    "    # Return the final sum as a string\n",
    "    return result\n",
    "\n",
    "# Test function\n",
    "if __name__ == \"__main__\":\n",
    "    num1 = \"11\"\n",
    "    num2 = \"123\"\n",
    "    print(add_strings(num1, num2))\n"
   ]
  },
  {
   "cell_type": "markdown",
   "id": "f36e1791",
   "metadata": {},
   "source": [
    "***************************************************************************************************************************"
   ]
  },
  {
   "cell_type": "markdown",
   "id": "b6841a02",
   "metadata": {},
   "source": [
    "<aside>\n",
    "💡 **Question 4**\n",
    "\n",
    "Given a string s, reverse the order of characters in each word within a sentence while still preserving whitespace and initial word order.\n",
    "\n",
    "**Example 1:**\n",
    "\n",
    "**Input:** s = \"Let's take LeetCode contest\"\n",
    "\n",
    "**Output:** \"s'teL ekat edoCteeL tsetnoc\"\n",
    "\n",
    "</aside>"
   ]
  },
  {
   "cell_type": "code",
   "execution_count": 15,
   "id": "115e20ca",
   "metadata": {},
   "outputs": [
    {
     "name": "stdout",
     "output_type": "stream",
     "text": [
      "s'teL ekat edoCteeL tsetnoc\n"
     ]
    }
   ],
   "source": [
    "def reverse_words(s):\n",
    "    \"\"\"\n",
    "    Reverses the order of characters in each word within a sentence while preserving whitespace and initial word order.\n",
    "\n",
    "    Args:\n",
    "        s (str): The input sentence string.\n",
    "\n",
    "    Returns:\n",
    "        str: The reversed sentence with the order of characters in each word reversed.\n",
    "    \"\"\"\n",
    "\n",
    "    # Split the input string into words based on whitespace\n",
    "    words = s.split()\n",
    "\n",
    "    # Reverse each word and join the reversed words back together\n",
    "    reversed_words = [word[::-1] for word in words]\n",
    "    reversed_sentence = ' '.join(reversed_words)\n",
    "\n",
    "    return reversed_sentence\n",
    "\n",
    "# Test function\n",
    "if __name__ == \"__main__\":\n",
    "    s = \"Let's take LeetCode contest\"\n",
    "    print(reverse_words(s))  # Output: \"s'teL ekat edoCteeL tsetnoc\"\n",
    "\n"
   ]
  },
  {
   "cell_type": "markdown",
   "id": "c68e306c",
   "metadata": {},
   "source": [
    "***************************************************************************************************************************"
   ]
  },
  {
   "cell_type": "markdown",
   "id": "4afdb131",
   "metadata": {},
   "source": [
    "<aside>\n",
    "💡 **Question 5**\n",
    "\n",
    "Given a string s and an integer k, reverse the first k characters for every 2k characters counting from the start of the string.\n",
    "\n",
    "If there are fewer than k characters left, reverse all of them. If there are less than 2k but greater than or equal to k characters, then reverse the first k characters and leave the other as original.\n",
    "\n",
    "**Example 1:**\n",
    "\n",
    "**Input:** s = \"abcdefg\", k = 2\n",
    "\n",
    "**Output:**\n",
    "\n",
    "\"bacdfeg\"\n",
    "\n",
    "</aside>"
   ]
  },
  {
   "cell_type": "code",
   "execution_count": 17,
   "id": "35884de6",
   "metadata": {},
   "outputs": [
    {
     "name": "stdout",
     "output_type": "stream",
     "text": [
      "bacdfeg\n"
     ]
    }
   ],
   "source": [
    "def reverse_string(s, k):\n",
    "    \"\"\"\n",
    "    Reverses the first k characters for every 2k characters counting from the start of the string.\n",
    "\n",
    "    Args:\n",
    "        s (str): The input string.\n",
    "        k (int): The number of characters to reverse.\n",
    "\n",
    "    Returns:\n",
    "        str: The string with the first k characters reversed for every 2k characters.\n",
    "    \"\"\"\n",
    "\n",
    "    # Convert the string to a list of characters\n",
    "    char_list = list(s)\n",
    "    n = len(char_list)\n",
    "\n",
    "    # Iterate through the string in chunks of 2k characters\n",
    "    for i in range(0, n, 2 * k):\n",
    "        # Reverse the first k characters in each chunk\n",
    "        char_list[i:i + k] = reversed(char_list[i:i + k])\n",
    "\n",
    "    # Convert the list back to a string\n",
    "    reversed_str = ''.join(char_list)\n",
    "    return reversed_str\n",
    "\n",
    "# Test function\n",
    "if __name__ == \"__main__\":\n",
    "    s = \"abcdefg\"\n",
    "    k = 2\n",
    "    print(reverse_string(s, k))  # Output: \"bacdfeg\"\n"
   ]
  },
  {
   "cell_type": "markdown",
   "id": "f1590d4d",
   "metadata": {},
   "source": [
    "***************************************************************************************************************************"
   ]
  },
  {
   "cell_type": "markdown",
   "id": "1f74f8b9",
   "metadata": {},
   "source": [
    "<aside>\n",
    "💡 **Question 6**\n",
    "\n",
    "Given two strings s and goal, return true *if and only if* s *can become* goal *after some number of **shifts** on* s.\n",
    "\n",
    "A **shift** on s consists of moving the leftmost character of s to the rightmost position.\n",
    "\n",
    "- For example, if s = \"abcde\", then it will be \"bcdea\" after one shift.\n",
    "\n",
    "**Example 1:**\n",
    "\n",
    "**Input:** s = \"abcde\", goal = \"cdeab\"\n",
    "\n",
    "**Output:**\n",
    "\n",
    "true\n",
    "\n",
    "</aside>"
   ]
  },
  {
   "cell_type": "code",
   "execution_count": 19,
   "id": "b4954ab6",
   "metadata": {},
   "outputs": [
    {
     "name": "stdout",
     "output_type": "stream",
     "text": [
      "True\n",
      "True\n"
     ]
    }
   ],
   "source": [
    "def is_shifted_string(s, goal):\n",
    "    \"\"\"\n",
    "    Determines if string s can become goal after some number of shifts on s.\n",
    "\n",
    "    Args:\n",
    "        s (str): The input string.\n",
    "        goal (str): The target string.\n",
    "\n",
    "    Returns:\n",
    "        bool: True if s can become goal after some number of shifts, False otherwise.\n",
    "    \"\"\"\n",
    "\n",
    "    # Check if the lengths of s and goal are equal\n",
    "    if len(s) != len(goal):\n",
    "        return False\n",
    "\n",
    "    # Concatenate s with itself\n",
    "    s_concat = s + s\n",
    "\n",
    "    # Check if goal is a substring of s_concat\n",
    "    if goal in s_concat:\n",
    "        return True\n",
    "    else:\n",
    "        return False\n",
    "\n",
    "# Test function\n",
    "if __name__ == \"__main__\":\n",
    "    s1 = \"abcde\"\n",
    "    goal1 = \"cdeab\"\n",
    "    \n",
    "    s2 = \"abcde\"    \n",
    "    goal2 = \"cdeab\"\n",
    "\n",
    "    print(is_shifted_string(s1, goal1))  # Output: True\n",
    "    print(is_shifted_string(s2, goal2))\n"
   ]
  },
  {
   "cell_type": "markdown",
   "id": "eda22025",
   "metadata": {},
   "source": [
    "***************************************************************************************************************************"
   ]
  },
  {
   "cell_type": "markdown",
   "id": "1daf6aa3",
   "metadata": {},
   "source": [
    "<aside>\n",
    "💡 **Question 7**\n",
    "\n",
    "Given two strings s and t, return true *if they are equal when both are typed into empty text editors*. '#' means a backspace character.\n",
    "\n",
    "Note that after backspacing an empty text, the text will continue empty.\n",
    "\n",
    "**Example 1:**\n",
    "\n",
    "**Input:** s = \"ab#c\", t = \"ad#c\"\n",
    "\n",
    "**Output:** true\n",
    "\n",
    "**Explanation:**\n",
    "\n",
    "Both s and t become \"ac\".\n",
    "\n",
    "</aside>"
   ]
  },
  {
   "cell_type": "code",
   "execution_count": 21,
   "id": "ae181397",
   "metadata": {},
   "outputs": [
    {
     "name": "stdout",
     "output_type": "stream",
     "text": [
      "True\n",
      "False\n"
     ]
    }
   ],
   "source": [
    "def process_string(string):\n",
    "    processed = []\n",
    "\n",
    "    for char in string:\n",
    "        if char == '#':\n",
    "            if processed:\n",
    "                processed.pop()\n",
    "        else:\n",
    "            processed.append(char)\n",
    "\n",
    "    return ''.join(processed)\n",
    "\n",
    "def backspace_compare(s, t):\n",
    "    s_processed = process_string(s)\n",
    "    t_processed = process_string(t)\n",
    "\n",
    "    return s_processed == t_processed\n",
    "\n",
    "# Test function\n",
    "if __name__ == \"__main__\":\n",
    "    s1 = \"ab#c\"\n",
    "    t1 = \"ad#c\"\n",
    "    \n",
    "    s2 = \"ab#d\"\n",
    "    t2 = \"ad#c\"    \n",
    "    print(backspace_compare(s1, t1)) \n",
    "    print(backspace_compare(s2, t2))\n"
   ]
  },
  {
   "cell_type": "markdown",
   "id": "66b0e47b",
   "metadata": {},
   "source": [
    "***************************************************************************************************************************"
   ]
  },
  {
   "cell_type": "markdown",
   "id": "287f2a4a",
   "metadata": {},
   "source": [
    "<aside>\n",
    "💡 **Question 8**\n",
    "\n",
    "You are given an array coordinates, coordinates[i] = [x, y], where [x, y] represents the coordinate of a point. Check if these points make a straight line in the XY plane.\n",
    "\n",
    "**Example 1:**\n",
    "<img src='https://pwskills.notion.site/image/https%3A%2F%2Fs3-us-west-2.amazonaws.com%2Fsecure.notion-static.com%2F012b0a97-4e4b-49b6-bc95-0531fc712978%2FScreenshot_2023-05-29_010117.png?id=8a930c97-96e8-422d-a84b-5b7553bf198e&table=block&spaceId=6fae2e0f-dedc-48e9-bc59-af2654c78209&width=930&userId=&cache=v2'>\n",
    "    \n",
    "**Input:** coordinates = [[1,2],[2,3],[3,4],[4,5],[5,6],[6,7]]\n",
    "\n",
    "**Output:** true    \n",
    "</aside>"
   ]
  },
  {
   "cell_type": "code",
   "execution_count": 23,
   "id": "3313902a",
   "metadata": {},
   "outputs": [
    {
     "name": "stdout",
     "output_type": "stream",
     "text": [
      "True\n"
     ]
    }
   ],
   "source": [
    "def check_straight_line(coordinates):\n",
    "    # Check if the number of coordinates is less than or equal to 2\n",
    "    if len(coordinates) <= 2:\n",
    "        return True\n",
    "\n",
    "    # Calculate the slope between the first two coordinates\n",
    "    x1, y1 = coordinates[0]\n",
    "    x2, y2 = coordinates[1]\n",
    "    initial_slope = (y2 - y1) / (x2 - x1)\n",
    "\n",
    "    # Iterate through the remaining coordinates\n",
    "    for i in range(2, len(coordinates)):\n",
    "        x, y = coordinates[i]\n",
    "        # Calculate the slope between the current coordinate and the first coordinate\n",
    "        curr_slope = (y - y1) / (x - x1)\n",
    "        # If the current slope is not equal to the initial slope, return False\n",
    "        if curr_slope != initial_slope:\n",
    "            return False\n",
    "\n",
    "    # All points lie on a straight line\n",
    "    return True\n",
    "\n",
    "# Test function\n",
    "if __name__ == \"__main__\":\n",
    "    coordinates = [[1,2],[2,3],[3,4],[4,5],[5,6],[6,7]]\n",
    "    print(check_straight_line(coordinates))\n",
    "    "
   ]
  },
  {
   "cell_type": "markdown",
   "id": "568af7c8",
   "metadata": {},
   "source": [
    "***************************************************************************************************************************"
   ]
  },
  {
   "cell_type": "markdown",
   "id": "210bc644",
   "metadata": {},
   "source": []
  }
 ],
 "metadata": {
  "kernelspec": {
   "display_name": "Python 3 (ipykernel)",
   "language": "python",
   "name": "python3"
  },
  "language_info": {
   "codemirror_mode": {
    "name": "ipython",
    "version": 3
   },
   "file_extension": ".py",
   "mimetype": "text/x-python",
   "name": "python",
   "nbconvert_exporter": "python",
   "pygments_lexer": "ipython3",
   "version": "3.10.9"
  }
 },
 "nbformat": 4,
 "nbformat_minor": 5
}
