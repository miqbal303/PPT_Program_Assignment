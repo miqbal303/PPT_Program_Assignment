{
 "cells": [
  {
   "cell_type": "markdown",
   "id": "a2059481",
   "metadata": {},
   "source": [
    "Problem2:-\n",
    "Implement a queue using a list in Python. Include the necessary methods such as enqueue, dequeue, and isEmpty."
   ]
  },
  {
   "cell_type": "code",
   "execution_count": 1,
   "id": "1616cab0",
   "metadata": {},
   "outputs": [],
   "source": [
    "class Queue:\n",
    "    def __init__(self):\n",
    "        self.queue = []  # Initialize an empty list\n",
    "\n",
    "    def enqueue(self, item):\n",
    "        self.queue.append(item)  # Add the item \n",
    "\n",
    "    def dequeue(self):\n",
    "        if self.isEmpty():  # Check if the queue is empty\n",
    "            return None\n",
    "        return self.queue.pop(0)  # Remove and return the frontmost element from the queue\n",
    "\n",
    "    def isEmpty(self):\n",
    "        return len(self.queue) == 0  # Check if the queue is empty \n"
   ]
  },
  {
   "cell_type": "code",
   "execution_count": 2,
   "id": "ba5a2354",
   "metadata": {},
   "outputs": [
    {
     "name": "stdout",
     "output_type": "stream",
     "text": [
      "Initial queue: [1, 2, 3]\n",
      "*************\n",
      "1\n",
      "Remaining queue: [2, 3]\n",
      "*************\n",
      "2\n",
      "Remaining queue: [3]\n",
      "*************\n",
      "False\n",
      "*************\n",
      "3\n",
      "Remaining queue: []\n",
      "*************\n",
      "True\n",
      "*************\n",
      "None\n",
      "Remaining queue: []\n"
     ]
    }
   ],
   "source": [
    "queue = Queue()\n",
    "\n",
    "queue.enqueue(1)\n",
    "queue.enqueue(2)\n",
    "queue.enqueue(3)\n",
    "\n",
    "print(\"Initial queue:\", queue.queue)  # Outputs [1, 2, 3]\n",
    "print('*************')\n",
    "print(queue.dequeue())  # Outputs 1\n",
    "print(\"Remaining queue:\", queue.queue)  # Outputs [2, 3]\n",
    "print('*************')\n",
    "print(queue.dequeue())  # Outputs 2\n",
    "print(\"Remaining queue:\", queue.queue)  # Outputs [3]\n",
    "print('*************')\n",
    "print(queue.isEmpty())  # Outputs False\n",
    "print('*************')\n",
    "print(queue.dequeue())  # Outputs 3\n",
    "print(\"Remaining queue:\", queue.queue)  # Outputs []\n",
    "print('*************')\n",
    "print(queue.isEmpty())  # Outputs True\n",
    "print('*************')\n",
    "print(queue.dequeue())  # Outputs None (queue is empty)\n",
    "print(\"Remaining queue:\", queue.queue)  # Outputs []\n"
   ]
  }
 ],
 "metadata": {
  "kernelspec": {
   "display_name": "Python 3 (ipykernel)",
   "language": "python",
   "name": "python3"
  },
  "language_info": {
   "codemirror_mode": {
    "name": "ipython",
    "version": 3
   },
   "file_extension": ".py",
   "mimetype": "text/x-python",
   "name": "python",
   "nbconvert_exporter": "python",
   "pygments_lexer": "ipython3",
   "version": "3.10.9"
  }
 },
 "nbformat": 4,
 "nbformat_minor": 5
}
