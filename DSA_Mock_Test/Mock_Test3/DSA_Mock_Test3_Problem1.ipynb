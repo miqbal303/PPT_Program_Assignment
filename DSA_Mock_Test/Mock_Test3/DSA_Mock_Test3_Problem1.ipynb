{
 "cells": [
  {
   "cell_type": "markdown",
   "id": "bee74189",
   "metadata": {},
   "source": [
    "Problem1:-\n",
    "Implement a stack using a list in Python. Include the necessary methods such as push, pop, and isEmpty."
   ]
  },
  {
   "cell_type": "code",
   "execution_count": 1,
   "id": "7dec93a1",
   "metadata": {},
   "outputs": [],
   "source": [
    "class Stack:\n",
    "    def __init__(self):\n",
    "        self.stack = []  # Initialize an empty list \n",
    "\n",
    "    def push(self, item):\n",
    "        self.stack.append(item)  # Add the item to the top of the stack\n",
    "\n",
    "    def pop(self):\n",
    "        if self.isEmpty():  # Check if the stack is empty\n",
    "            return None\n",
    "        return self.stack.pop()  # Remove and return the topmost element from the stack\n",
    "\n",
    "    def isEmpty(self):\n",
    "        return len(self.stack) == 0  # Check if the stack is empty by evaluating the length of the stack list\n"
   ]
  },
  {
   "cell_type": "code",
   "execution_count": 2,
   "id": "1c29f5d0",
   "metadata": {},
   "outputs": [
    {
     "name": "stdout",
     "output_type": "stream",
     "text": [
      "Initial stack: [1, 2, 3]\n",
      "*************\n",
      "3\n",
      "Remaining stack: [1, 2]\n",
      "*************\n",
      "2\n",
      "Remaining stack: [1]\n",
      "*************\n",
      "False\n",
      "*************\n",
      "1\n",
      "Remaining stack: []\n",
      "*************\n",
      "True\n",
      "*************\n",
      "None\n",
      "Remaining stack: []\n"
     ]
    }
   ],
   "source": [
    "stack = Stack()\n",
    "\n",
    "stack.push(1)\n",
    "stack.push(2)\n",
    "stack.push(3)\n",
    "\n",
    "print(\"Initial stack:\", stack.stack)  # Outputs [1, 2, 3]\n",
    "print('*************')\n",
    "print(stack.pop())  # Outputs 3\n",
    "print(\"Remaining stack:\", stack.stack)  # Outputs [1, 2]\n",
    "print('*************')\n",
    "print(stack.pop())  # Outputs 2\n",
    "print(\"Remaining stack:\", stack.stack)  # Outputs [1]\n",
    "print('*************')\n",
    "print(stack.isEmpty())  # Outputs False\n",
    "print('*************')\n",
    "print(stack.pop())  # Outputs 1\n",
    "print(\"Remaining stack:\", stack.stack)  # Outputs []\n",
    "print('*************')\n",
    "print(stack.isEmpty())  # Outputs True\n",
    "print('*************')\n",
    "print(stack.pop())  # Outputs None (stack is empty)\n",
    "print(\"Remaining stack:\", stack.stack)  # Outputs []"
   ]
  },
  {
   "cell_type": "code",
   "execution_count": null,
   "id": "0fa875d0",
   "metadata": {},
   "outputs": [],
   "source": []
  }
 ],
 "metadata": {
  "kernelspec": {
   "display_name": "Python 3 (ipykernel)",
   "language": "python",
   "name": "python3"
  },
  "language_info": {
   "codemirror_mode": {
    "name": "ipython",
    "version": 3
   },
   "file_extension": ".py",
   "mimetype": "text/x-python",
   "name": "python",
   "nbconvert_exporter": "python",
   "pygments_lexer": "ipython3",
   "version": "3.10.9"
  }
 },
 "nbformat": 4,
 "nbformat_minor": 5
}
