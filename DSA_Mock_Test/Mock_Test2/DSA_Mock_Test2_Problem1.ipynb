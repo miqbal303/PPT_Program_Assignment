{
 "cells": [
  {
   "cell_type": "markdown",
   "id": "b031211f",
   "metadata": {},
   "source": [
    "Problem1:\n",
    "\n",
    "Given a non-negative integer x, return the square root of x rounded down to the nearest integer. The returned integer should be non-negative as well. You must not use any built-in exponent function or operator. \n",
    "\n",
    " Example 1:\n",
    "Input: x = 4 Output: 2 Explanation: The square root of 4 is 2, so we return 2.\n",
    "Example 2:\n",
    "\n",
    "Input: x = 8 Output: 2 Explanation: The square root of 8 is 2.82842..., and since we round it down to the nearest integer, 2 is returned.\n",
    "Constraints:\n",
    "\n",
    "0 <= x <= 2^31 - 1"
   ]
  },
  {
   "cell_type": "markdown",
   "id": "c8463059",
   "metadata": {},
   "source": [
    "##### First Approach"
   ]
  },
  {
   "cell_type": "code",
   "execution_count": 25,
   "id": "a9722fd8",
   "metadata": {},
   "outputs": [
    {
     "name": "stdout",
     "output_type": "stream",
     "text": [
      "0\n",
      "1\n",
      "1\n",
      "1\n",
      "2\n",
      "2\n"
     ]
    }
   ],
   "source": [
    "def findSqrt(x):\n",
    "    # Calculate the square root of x\n",
    "    sqrt = x ** 0.5\n",
    "    \n",
    "    # Check if the square root is positive or zero\n",
    "    if sqrt >= 0:\n",
    "        # If positive or zero, round down to the nearest integer\n",
    "        return int(sqrt)\n",
    "    else:\n",
    "        # If negative, subtract 1 from the rounded integer representation to round down\n",
    "        return int(sqrt) - 1\n",
    "\n",
    "\n",
    "    \n",
    "print(findSqrt(0))\n",
    "print(findSqrt(1))\n",
    "print(findSqrt(2))\n",
    "print(findSqrt(3))\n",
    "print(findSqrt(4))\n",
    "print(findSqrt(5))"
   ]
  },
  {
   "cell_type": "markdown",
   "id": "275088b2",
   "metadata": {},
   "source": [
    "##### Second Approach"
   ]
  },
  {
   "cell_type": "code",
   "execution_count": 26,
   "id": "a8555046",
   "metadata": {},
   "outputs": [
    {
     "name": "stdout",
     "output_type": "stream",
     "text": [
      "0\n",
      "1\n",
      "1\n",
      "1\n",
      "2\n",
      "2\n"
     ]
    }
   ],
   "source": [
    "def findSqrt(x):\n",
    "    if x < 2:  # Check if x is less than 2\n",
    "        return x\n",
    "    \n",
    "    # Initialize start and end pointers\n",
    "    start = 0\n",
    "    end = x\n",
    "    \n",
    "    while start <= end:\n",
    "        mid = (start + end) // 2\n",
    "        \n",
    "        # Check if mid is the square root of x\n",
    "        if mid * mid <= x < (mid + 1) * (mid + 1):\n",
    "            return mid\n",
    "        \n",
    "        # If x is smaller than mid*mid, search in the left half\n",
    "        elif x < mid * mid:\n",
    "            end = mid - 1\n",
    "            \n",
    "        # If x is larger than mid*mid, search in the right half\n",
    "        else:\n",
    "            start = mid + 1\n",
    "    \n",
    "    # Return start as the rounded-down square root\n",
    "    return start\n",
    "\n",
    "\n",
    "print(findSqrt(0))\n",
    "print(findSqrt(1))\n",
    "print(findSqrt(2))\n",
    "print(findSqrt(3))\n",
    "print(findSqrt(4))\n",
    "print(findSqrt(5))"
   ]
  }
 ],
 "metadata": {
  "kernelspec": {
   "display_name": "Python 3 (ipykernel)",
   "language": "python",
   "name": "python3"
  },
  "language_info": {
   "codemirror_mode": {
    "name": "ipython",
    "version": 3
   },
   "file_extension": ".py",
   "mimetype": "text/x-python",
   "name": "python",
   "nbconvert_exporter": "python",
   "pygments_lexer": "ipython3",
   "version": "3.10.9"
  }
 },
 "nbformat": 4,
 "nbformat_minor": 5
}
