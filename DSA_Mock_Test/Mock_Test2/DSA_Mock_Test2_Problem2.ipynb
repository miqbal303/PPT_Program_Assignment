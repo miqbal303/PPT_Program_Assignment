{
 "cells": [
  {
   "cell_type": "markdown",
   "id": "e7c8d150",
   "metadata": {},
   "source": [
    "You are given two non-empty linked lists representing two non-negative integers. The digits are stored in reverse order, and each of their nodes contains a single digit. Add the two numbers and return the sum as a linked list.\n",
    "\n",
    "You may assume the two numbers do not contain any leading zero, except the number 0 itself.\n",
    "\n",
    "\n",
    "Example 1:\n",
    "\n",
    "Input: l1 = [2,4,3], l2 = [5,6,4] Output: [7,0,8] Explanation: 342 + 465 = 807.\n",
    "\n",
    "Example 2:\n",
    "\n",
    "Input: l1 = [0], l2 = [0] Output: [0]\n",
    "\n",
    "Example 3:\n",
    "\n",
    "Input: l1 = [9,9,9,9,9,9,9], l2 = [9,9,9,9] Output: [8,9,9,9,0,0,0,1]\n",
    "\n",
    " \n",
    "\n",
    "Constraints:\n",
    "\n",
    "The number of nodes in each linked list is in the range [1, 100].\n",
    "0 <= Node.val <= 9 It is guaranteed that the list represents a number that does not have leading zeros.\n"
   ]
  },
  {
   "cell_type": "code",
   "execution_count": 8,
   "id": "1b45bfd1",
   "metadata": {},
   "outputs": [
    {
     "name": "stdout",
     "output_type": "stream",
     "text": [
      "[7, 0, 8]\n"
     ]
    }
   ],
   "source": [
    "class Node:\n",
    "    def __init__(self, val):\n",
    "        self.val = val\n",
    "        self.next = None\n",
    "\n",
    "def add_two_linked_lists(l1, l2):\n",
    "    carry = 0  # Initialize carry to 0\n",
    "    dummy = Node(0)  # Create a dummy node to track the head of the result linked list\n",
    "    current = dummy  # Initialize a current node to build the result linked list\n",
    "\n",
    "    while l1 or l2:\n",
    "        sum_val = carry\n",
    "\n",
    "        # Add the values of the current nodes and the carry\n",
    "        if l1:\n",
    "            sum_val += l1.val\n",
    "            l1 = l1.next\n",
    "        if l2:\n",
    "            sum_val += l2.val\n",
    "            l2 = l2.next\n",
    "\n",
    "        carry = sum_val // 10  # Update the carry for the next iteration\n",
    "        current.next = Node(sum_val % 10)  # Create a new node with the value of the sum (mod 10)\n",
    "        current = current.next  # Move the current node to the next node\n",
    "\n",
    "    if carry > 0:\n",
    "        current.next = Node(carry)  # If there is a remaining carry, create a new node for it\n",
    "\n",
    "    return dummy.next  # Return the next node of the dummy node as the head of the resulting linked list\n",
    "\n",
    "\n",
    "# Helper function to create a linked list from a list of values\n",
    "def create_linked_list(lst):\n",
    "    if not lst:\n",
    "        return None\n",
    "\n",
    "    head = Node(lst[0])  # Create the head node with the first value in the list\n",
    "    current = head  # Initialize a current node to traverse the linked list\n",
    "\n",
    "    for val in lst[1:]:\n",
    "        current.next = Node(val)  # Create a new node with the current value\n",
    "        current = current.next  # Move the current node to the next node\n",
    "\n",
    "    return head  # Return the head of the linked list\n",
    "\n",
    "\n",
    "# Helper function to convert a linked list to a list of values\n",
    "def convert_to_list(head):\n",
    "    lst = []\n",
    "    current = head  # Initialize a current node to traverse the linked list\n",
    "\n",
    "    while current is not None:\n",
    "        lst.append(current.val)  # Append the value of the current node to the list\n",
    "        current = current.next  # Move to the next node\n",
    "\n",
    "    return lst  # Return the list of values\n",
    "\n",
    "\n",
    "\n"
   ]
  },
  {
   "cell_type": "code",
   "execution_count": 11,
   "id": "eba0a8cb",
   "metadata": {},
   "outputs": [
    {
     "name": "stdout",
     "output_type": "stream",
     "text": [
      "[7, 0, 8]\n",
      "[0]\n",
      "[8, 9, 9, 9, 0, 0, 0, 1]\n"
     ]
    }
   ],
   "source": [
    "# Example1 usage\n",
    "l1 = create_linked_list([2, 4, 3])  # Create the first linked list\n",
    "l2 = create_linked_list([5, 6, 4])  # Create the second linked list\n",
    "\n",
    "# Example2 usage\n",
    "l3 = create_linked_list([0])  # Create the first linked list\n",
    "l4 = create_linked_list([0])  # Create the second linked list\n",
    "\n",
    "# Example2 usage\n",
    "l5 = create_linked_list([9,9,9,9,9,9,9])  # Create the first linked list\n",
    "l6 = create_linked_list([9,9,9,9])  # Create the second linked list\n",
    "\n",
    "\n",
    "result1 = add_two_linked_lists(l1, l2)  # Add the two linked lists\n",
    "result2 = add_two_linked_lists(l3, l4)  # Add the two linked lists\n",
    "result3 = add_two_linked_lists(l5, l6)  # Add the two linked lists\n",
    "\n",
    "\n",
    "output1 = convert_to_list(result1)  # Convert the resulting linked list to a list of values\n",
    "print(output1)\n",
    "output2 = convert_to_list(result2)  # Convert the resulting linked list to a list of values\n",
    "print(output2)  \n",
    "output3 = convert_to_list(result3)  # Convert the resulting linked list to a list of values\n",
    "print(output3)"
   ]
  },
  {
   "cell_type": "code",
   "execution_count": null,
   "id": "7d040720",
   "metadata": {},
   "outputs": [],
   "source": []
  }
 ],
 "metadata": {
  "kernelspec": {
   "display_name": "Python 3 (ipykernel)",
   "language": "python",
   "name": "python3"
  },
  "language_info": {
   "codemirror_mode": {
    "name": "ipython",
    "version": 3
   },
   "file_extension": ".py",
   "mimetype": "text/x-python",
   "name": "python",
   "nbconvert_exporter": "python",
   "pygments_lexer": "ipython3",
   "version": "3.10.9"
  }
 },
 "nbformat": 4,
 "nbformat_minor": 5
}
