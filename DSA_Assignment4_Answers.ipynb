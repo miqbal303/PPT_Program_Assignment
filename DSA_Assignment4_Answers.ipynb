{
 "cells": [
  {
   "cell_type": "markdown",
   "id": "b22c2645",
   "metadata": {},
   "source": [
    "💡**Question 1**\n",
    "Given three integer arrays arr1, arr2 and arr3 **sorted** in **strictly increasing** order, return a sorted array of **only** the integers that appeared in **all** three arrays.\n",
    "\n",
    "**Example 1:**\n",
    "\n",
    "Input: arr1 = [1,2,3,4,5], arr2 = [1,2,5,7,9], arr3 = [1,3,4,5,8]\n",
    "\n",
    "Output: [1,5]\n",
    "\n",
    "**Explanation:** Only 1 and 5 appeared in the three arrays."
   ]
  },
  {
   "cell_type": "code",
   "execution_count": 1,
   "id": "1338a407",
   "metadata": {},
   "outputs": [
    {
     "name": "stdout",
     "output_type": "stream",
     "text": [
      "[1, 5]\n"
     ]
    }
   ],
   "source": [
    "def common_element(arr1,arr2,arr3):\n",
    "    i,j,k = 0,0,0 # Pointers for each array\n",
    "    result = []  # Store common array\n",
    "    \n",
    "    \n",
    "    while i < len(arr1) and j < len(arr2) and k < len(arr3):\n",
    "        if arr1[i]==arr2[j]==arr3[k]:\n",
    "            result.append(arr1[i])\n",
    "            i += 1\n",
    "            j += 1\n",
    "            k += 1\n",
    "            \n",
    "        else:\n",
    "            min_val = min(arr1[i],arr2[j],arr3[k])\n",
    "            if arr1[i] == min_val:\n",
    "                i += 1\n",
    "            if arr2[j] == min_val:\n",
    "                j += 1\n",
    "            if arr3[k] == min_val:\n",
    "                k += 1\n",
    "                \n",
    "    return result\n",
    "            \n",
    "            \n",
    "# Example usage\n",
    "arr1 = [1, 2, 3, 4, 5]\n",
    "arr2 = [1, 2, 5, 7, 9]\n",
    "arr3 = [1, 3, 4, 5, 8]\n",
    "result = common_element(arr1, arr2, arr3)\n",
    "print(result)"
   ]
  },
  {
   "cell_type": "markdown",
   "id": "bd6d1b3b",
   "metadata": {},
   "source": [
    "**************************************************************"
   ]
  },
  {
   "cell_type": "markdown",
   "id": "9a651ab6",
   "metadata": {},
   "source": [
    "\n",
    "💡 **Question 2**\n",
    "\n",
    "Given two **0-indexed** integer arrays nums1 and nums2, return *a list* answer *of size* 2 *where:*\n",
    "\n",
    "- answer[0] *is a list of all **distinct** integers in* nums1 *which are **not** present in* nums2*.*\n",
    "- answer[1] *is a list of all **distinct** integers in* nums2 *which are **not** present in* nums1.\n",
    "\n",
    "**Note** that the integers in the lists may be returned in **any** order.\n",
    "\n",
    "**Example 1:**\n",
    "\n",
    "**Input:** nums1 = [1,2,3], nums2 = [2,4,6]\n",
    "\n",
    "**Output:** [[1,3],[4,6]]\n",
    "\n",
    "**Explanation:**\n",
    "\n",
    "For nums1, nums1[1] = 2 is present at index 0 of nums2, whereas nums1[0] = 1 and nums1[2] = 3 are not present in nums2. Therefore, answer[0] = [1,3].\n",
    "\n",
    "For nums2, nums2[0] = 2 is present at index 1 of nums1, whereas nums2[1] = 4 and nums2[2] = 6 are not present in nums2. Therefore, answer[1] = [4,6].\n"
   ]
  },
  {
   "cell_type": "code",
   "execution_count": 2,
   "id": "0e5613fb",
   "metadata": {},
   "outputs": [
    {
     "name": "stdout",
     "output_type": "stream",
     "text": [
      "[[1, 3], [4, 6]]\n"
     ]
    }
   ],
   "source": [
    "def find_distinct_numbers(nums1, nums2):\n",
    "    \"\"\"\n",
    "    Finds the distinct numbers in nums1 and nums2.\n",
    "  \n",
    "    Args:\n",
    "      nums1: The first array.\n",
    "      nums2: The second array.\n",
    "  \n",
    "    Returns:\n",
    "      A list of two lists, where the first list contains the distinct numbers in\n",
    "      nums1 that are not present in nums2, and the second list contains the distinct\n",
    "      numbers in nums2 that are not present in nums1.\n",
    "    \"\"\"\n",
    "    \n",
    "    # Create two sets to store dinstinct integers from num1 and nums2\n",
    "    \n",
    "    set1 = set(nums1)\n",
    "    set2 = set(nums2)\n",
    "    \n",
    "    #Store distinct integers not present\n",
    "    result1 = []\n",
    "    result2 = []\n",
    "    \n",
    "    # Iterate over nums1 and check for integers not present in nums2\n",
    "    for num in nums1:\n",
    "        if num not in set2:\n",
    "            result1.append(num)\n",
    "            \n",
    "    # Iterate over nums2 and check for integers not present in nums1        \n",
    "    for num in nums2:\n",
    "        if num not in set1:\n",
    "            result2.append(num)\n",
    "            \n",
    "    # Return the final answer as a list of lists        \n",
    "    return [result1, result2]\n",
    "    \n",
    "\n",
    "    \n",
    "if __name__ == \"__main__\":\n",
    "    \n",
    "    nums1 = [1, 2, 3]\n",
    "    nums2 = [2, 4, 6]\n",
    "    answer = find_distinct_numbers(nums1, nums2)\n",
    "    print(answer)    "
   ]
  },
  {
   "cell_type": "markdown",
   "id": "a40fb227",
   "metadata": {},
   "source": [
    "***************************************************************************************************************************"
   ]
  },
  {
   "cell_type": "markdown",
   "id": "446f8d32",
   "metadata": {},
   "source": [
    "\n",
    "💡 **Question 3**\n",
    "Given a 2D integer array matrix, return *the **transpose** of* matrix.\n",
    "\n",
    "The **transpose** of a matrix is the matrix flipped over its main diagonal, switching the matrix's row and column indices.\n",
    "\n",
    "**Example 1:**\n",
    "\n",
    "Input: matrix = [[1,2,3],[4,5,6],[7,8,9]]\n",
    "\n",
    "Output: [[1,4,7],[2,5,8],[3,6,9]]\n",
    "<img src=\"https://assets.leetcode.com/uploads/2021/02/10/hint_transpose.png\" />\n",
    "https://assets.leetcode.com/uploads/2021/02/10/hint_transpose.png"
   ]
  },
  {
   "cell_type": "code",
   "execution_count": 3,
   "id": "82517b13",
   "metadata": {},
   "outputs": [
    {
     "name": "stdout",
     "output_type": "stream",
     "text": [
      "[[1, 4, 7], [2, 5, 8], [3, 6, 9]]\n"
     ]
    }
   ],
   "source": [
    "def transpose(matrix):\n",
    "    \"\"\"\n",
    "    Transposes a 2D integer array.\n",
    "  \n",
    "    Args:\n",
    "      matrix: The 2D integer array.\n",
    "  \n",
    "    Returns:\n",
    "      The transpose of the matrix.\n",
    "    \"\"\"\n",
    "    n = len(matrix)  # Number of rows in the original matrix\n",
    "    m = len(matrix[0])  # Number of columns in the original matrix\n",
    "\n",
    "    # Initialize the result matrix with dimensions m x n\n",
    "    result = [[0] * n for _ in range(m)]\n",
    "\n",
    "    # Iterate over each element of the original matrix\n",
    "    for i in range(n):\n",
    "        for j in range(m):\n",
    "            # Place the element at position (j, i) in the result matrix\n",
    "            result[j][i] = matrix[i][j]\n",
    "\n",
    "    return result\n",
    "\n",
    "\n",
    "if __name__ == \"__main__\":\n",
    "    matrix = [[1,2,3],[4,5,6],[7,8,9]]\n",
    "    \n",
    "    print(transpose(matrix))"
   ]
  },
  {
   "cell_type": "markdown",
   "id": "d5c015bf",
   "metadata": {},
   "source": [
    "*************************************************************************************************************************"
   ]
  },
  {
   "cell_type": "markdown",
   "id": "2e330395",
   "metadata": {},
   "source": [
    "\n",
    "💡 **Question 4**\n",
    "Given an integer array nums of 2n integers, group these integers into n pairs (a1, b1), (a2, b2), ..., (an, bn) such that the sum of min(ai, bi) for all i is **maximized**. Return *the maximized sum*.\n",
    "\n",
    "**Example 1:**\n",
    "\n",
    "Input: nums = [1,4,3,2]\n",
    "\n",
    "Output: 4\n",
    "\n",
    "**Explanation:** All possible pairings (ignoring the ordering of elements) are:\n",
    "\n",
    "1. (1, 4), (2, 3) -> min(1, 4) + min(2, 3) = 1 + 2 = 3\n",
    "\n",
    "2. (1, 3), (2, 4) -> min(1, 3) + min(2, 4) = 1 + 2 = 3\n",
    "\n",
    "3. (1, 2), (3, 4) -> min(1, 2) + min(3, 4) = 1 + 3 = 4\n",
    "\n",
    "So the maximum possible sum is 4.\n"
   ]
  },
  {
   "cell_type": "code",
   "execution_count": 4,
   "id": "75cae20d",
   "metadata": {},
   "outputs": [
    {
     "name": "stdout",
     "output_type": "stream",
     "text": [
      "4\n"
     ]
    }
   ],
   "source": [
    "def max_pair_sum(nums):\n",
    "    \"\"\"\n",
    "    Finds the maximum sum of min(ai, bi) for all i in nums.\n",
    "  \n",
    "    Args:\n",
    "      nums: The integer array.\n",
    "  \n",
    "    Returns:\n",
    "      The maximum sum.\n",
    "    \"\"\"\n",
    "    \n",
    "    nums.sort()  # Sort the input array in non-decreasing order\n",
    "    max_sum = 0\n",
    "\n",
    "    # Iterate over the array by pairs and add the smaller value to max_sum\n",
    "    for i in range(0, len(nums), 2):\n",
    "        max_sum += nums[i]\n",
    "\n",
    "    return max_sum\n",
    "\n",
    "if __name__ == \"__main__\":\n",
    "    \n",
    "    nums = [1,4,3,2]\n",
    "    print(max_pair_sum(nums))"
   ]
  },
  {
   "cell_type": "markdown",
   "id": "2a9efc9f",
   "metadata": {},
   "source": [
    "*************************************************************************************************************************"
   ]
  },
  {
   "cell_type": "markdown",
   "id": "5963845b",
   "metadata": {},
   "source": [
    "<aside>\n",
    "💡 **Question 5**\n",
    "You have n coins and you want to build a staircase with these coins. The staircase consists of k rows where the ith row has exactly i coins. The last row of the staircase **may be** incomplete.\n",
    "\n",
    "Given the integer n, return *the number of **complete rows** of the staircase you will build*.\n",
    "\n",
    "**Example 1:**\n",
    "\n",
    "[]()\n",
    "\n",
    "<img src=\"https://assets.leetcode.com/uploads/2021/04/09/arrangecoins1-grid.jpg\" />\n",
    "\n",
    "**Input:** n = 5\n",
    "\n",
    "**Output:** 2\n",
    "\n",
    "**Explanation:** Because the 3rd row is incomplete, we return 2.\n",
    "\n",
    "</aside>"
   ]
  },
  {
   "cell_type": "code",
   "execution_count": 5,
   "id": "f657178d",
   "metadata": {},
   "outputs": [
    {
     "name": "stdout",
     "output_type": "stream",
     "text": [
      "2\n",
      "3\n"
     ]
    }
   ],
   "source": [
    "def staircase_rows(n):\n",
    "    \"\"\"\n",
    "    Finds the number of complete rows of a staircase with n coins.\n",
    "  \n",
    "    Args:\n",
    "      n: The number of coins.\n",
    "  \n",
    "    Returns:\n",
    "      The number of complete rows.\n",
    "    \"\"\"\n",
    "    row = 0          # Number of complete rows\n",
    "    sum_coins = 0    # Sum of coins used\n",
    "\n",
    "    # Iterate until the sum of coins used becomes greater than n\n",
    "    while sum_coins <= n:\n",
    "        row += 1                # Increment the row count\n",
    "        sum_coins += row        # Add the current row's coins to the sum\n",
    "\n",
    "    return row - 1    # Subtract 1 to account for the last incomplete row\n",
    "\n",
    "\n",
    "if __name__ == \"__main__\":\n",
    "    n1=5\n",
    "    n2 = 6\n",
    "    \n",
    "    print(staircase_rows(n1))\n",
    "    print(staircase_rows(n2))"
   ]
  },
  {
   "cell_type": "markdown",
   "id": "92254327",
   "metadata": {},
   "source": [
    "***************************************************************************************************************************"
   ]
  },
  {
   "cell_type": "markdown",
   "id": "659bf54d",
   "metadata": {},
   "source": [
    "\n",
    "💡 **Question 6**\n",
    "Given an integer array nums sorted in **non-decreasing** order, return *an array of **the squares of each number** sorted in non-decreasing order*.\n",
    "\n",
    "**Example 1:**\n",
    "\n",
    "Input: nums = [-4,-1,0,3,10]\n",
    "\n",
    "Output: [0,1,9,16,100]\n",
    "\n",
    "**Explanation:** After squaring, the array becomes [16,1,0,9,100].\n",
    "After sorting, it becomes [0,1,9,16,100]\n",
    "\n"
   ]
  },
  {
   "cell_type": "code",
   "execution_count": 6,
   "id": "199a755d",
   "metadata": {},
   "outputs": [
    {
     "name": "stdout",
     "output_type": "stream",
     "text": [
      "[0, 1, 9, 16, 100]\n"
     ]
    }
   ],
   "source": [
    "def square_and_sort(nums):\n",
    "  \"\"\"\n",
    "  Squares each number in nums and sorts the resulting array in non-decreasing order.\n",
    "\n",
    "  Args:\n",
    "    nums: The input array.\n",
    "\n",
    "  Returns:\n",
    "    The array of squared numbers sorted in non-decreasing order.\n",
    "  \"\"\"\n",
    "\n",
    "  squared_nums = []\n",
    "  for num in nums:\n",
    "    squared_nums.append(num * num)\n",
    "\n",
    "  squared_nums.sort()\n",
    "\n",
    "  return squared_nums\n",
    "\n",
    "if __name__ == \"__main__\":\n",
    "    nums = [-4,-1,0,3,10]\n",
    "    \n",
    "    print(square_and_sort(nums))"
   ]
  },
  {
   "cell_type": "markdown",
   "id": "0a44cfdd",
   "metadata": {},
   "source": [
    "*************************************************************************************************************************"
   ]
  },
  {
   "cell_type": "markdown",
   "id": "e7484a78",
   "metadata": {},
   "source": [
    "💡 **Question 7**\n",
    "You are given an m x n matrix M initialized with all 0's and an array of operations ops, where ops[i] = [ai, bi] means M[x][y] should be incremented by one for all 0 <= x < ai and 0 <= y < bi.\n",
    "\n",
    "Count and return *the number of maximum integers in the matrix after performing all the operations*\n",
    "\n",
    "**Example 1:**\n",
    "\n",
    "<img src=\"https://assets.leetcode.com/uploads/2020/10/02/ex1.jpg\" />    \n",
    "\n",
    "**Input:** m = 3, n = 3, ops = [[2,2],[3,3]]\n",
    "\n",
    "**Output:** 4\n",
    "\n",
    "**Explanation:** The maximum integer in M is 2, and there are four of it in M. So return 4.\n"
   ]
  },
  {
   "cell_type": "code",
   "execution_count": 7,
   "id": "fba01d0e",
   "metadata": {},
   "outputs": [
    {
     "name": "stdout",
     "output_type": "stream",
     "text": [
      "4\n"
     ]
    }
   ],
   "source": [
    "def maxCount(m, n, ops):\n",
    "    \"\"\"\n",
    "    Counts the number of maximum integers in a matrix after performing a series of operations.\n",
    "    \n",
    "    Args:\n",
    "        m: Integer, the number of rows in the matrix.\n",
    "        n: Integer, the number of columns in the matrix.\n",
    "        ops: List of lists, where ops[i] = [ai, bi] represents an operation to increment values in the matrix.\n",
    "\n",
    "    Returns:\n",
    "        Integer, the number of maximum integers in the resulting matrix.\n",
    "    \"\"\"\n",
    "    min_row = m       # Minimum row dimension of the resulting submatrix\n",
    "    min_col = n       # Minimum column dimension of the resulting submatrix\n",
    "\n",
    "    # Iterate over each operation to determine the minimum dimensions\n",
    "    for op in ops:\n",
    "        min_row = min(min_row, op[0])\n",
    "        min_col = min(min_col, op[1])\n",
    "\n",
    "    return min_row * min_col\n",
    "\n",
    "\n",
    "if __name__ == \"__main__\":\n",
    "    m = 3\n",
    "    n = 3\n",
    "    ops = [[2,2],[3,3]]\n",
    "    print(maxCount(m, n, ops))"
   ]
  },
  {
   "cell_type": "markdown",
   "id": "5e0dfcf2",
   "metadata": {},
   "source": [
    "*************************************************************************************************************************"
   ]
  },
  {
   "cell_type": "markdown",
   "id": "4f9f13f8",
   "metadata": {},
   "source": [
    "💡 **Question 8**\n",
    "\n",
    "Given the array nums consisting of 2n elements in the form [x1,x2,...,xn,y1,y2,...,yn].\n",
    "\n",
    "*Return the array in the form* [x1,y1,x2,y2,...,xn,yn].\n",
    "\n",
    "**Example 1:**\n",
    "\n",
    "**Input:** nums = [2,5,1,3,4,7], n = 3\n",
    "\n",
    "**Output:** [2,3,5,4,1,7]\n",
    "\n",
    "**Explanation:** Since x1=2, x2=5, x3=1, y1=3, y2=4, y3=7 then the answer is [2,3,5,4,1,7].\n"
   ]
  },
  {
   "cell_type": "code",
   "execution_count": 8,
   "id": "0666edae",
   "metadata": {},
   "outputs": [
    {
     "name": "stdout",
     "output_type": "stream",
     "text": [
      "[2, 3, 5, 4, 1, 7]\n"
     ]
    }
   ],
   "source": [
    "def shuffle(nums, n):\n",
    "    \"\"\"\n",
    "    Transforms the given array nums into the required form by interleaving x and y values.\n",
    "\n",
    "    Args:\n",
    "        nums: List of integers, the input array consisting of 2n elements.\n",
    "        n: Integer, the number of pairs (x, y) in the input array.\n",
    "\n",
    "    Returns:\n",
    "        List of integers, the transformed array in the form [x1, y1, x2, y2, ..., xn, yn].\n",
    "    \"\"\"\n",
    "    result = []   # Result array to store the transformed elements\n",
    "    i = 0        # Pointer i starting from 0\n",
    "    j = n        # Pointer j starting from n\n",
    "\n",
    "    # Iterate while i is less than n\n",
    "    while i < n:\n",
    "        result.append(nums[i])   # Append nums[i] (x value) to the result array\n",
    "        result.append(nums[j])   # Append nums[j] (y value) to the result array\n",
    "        i += 1                   # Increment i by 1\n",
    "        j += 1                   # Increment j by 1\n",
    "\n",
    "    return result\n",
    "\n",
    "\n",
    "if __name__ == \"__main__\":\n",
    "    nums = [2,5,1,3,4,7]\n",
    "    n = 3\n",
    "    print(shuffle(nums, n))"
   ]
  },
  {
   "cell_type": "markdown",
   "id": "e942b9af",
   "metadata": {},
   "source": [
    "*************************************************************************************************************************"
   ]
  }
 ],
 "metadata": {
  "kernelspec": {
   "display_name": "Python 3 (ipykernel)",
   "language": "python",
   "name": "python3"
  },
  "language_info": {
   "codemirror_mode": {
    "name": "ipython",
    "version": 3
   },
   "file_extension": ".py",
   "mimetype": "text/x-python",
   "name": "python",
   "nbconvert_exporter": "python",
   "pygments_lexer": "ipython3",
   "version": "3.10.9"
  }
 },
 "nbformat": 4,
 "nbformat_minor": 5
}
