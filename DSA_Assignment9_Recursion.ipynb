{
 "cells": [
  {
   "cell_type": "markdown",
   "id": "e8691d55",
   "metadata": {},
   "source": [
    "<aside>\n",
    "💡 **Question 1**\n",
    "\n",
    "Given an integer `n`, return *`true` if it is a power of two. Otherwise, return `false`*.\n",
    "\n",
    "An integer `n` is a power of two, if there exists an integer `x` such that `n == 2x`.\n",
    "\n",
    "**Example 1:**\n",
    "Input: n = 1 \n",
    "\n",
    "Output: true\n",
    "\n",
    "**Example 2:**\n",
    "Input: n = 16 \n",
    "\n",
    "Output: true\n",
    "\n",
    "**Example 3:**\n",
    "Input: n = 3 \n",
    "\n",
    "Output: false\n",
    "\n",
    "</aside>"
   ]
  },
  {
   "cell_type": "code",
   "execution_count": 2,
   "id": "a309bfad",
   "metadata": {},
   "outputs": [
    {
     "name": "stdout",
     "output_type": "stream",
     "text": [
      "True\n",
      "True\n",
      "False\n"
     ]
    }
   ],
   "source": [
    "def is_power_of_two(n):\n",
    "    \"\"\"\n",
    "    Determines if an integer is a power of two.\n",
    "  \n",
    "    Args:\n",
    "      n (int): The integer to check.\n",
    "  \n",
    "    Returns:\n",
    "      bool: True if n is a power of two, False otherwise.\n",
    "  \n",
    "    Example:\n",
    "      n = 1\n",
    "      print(is_power_of_two(n))  # Output: true\n",
    "    \"\"\"\n",
    "    # Check if n is less than or equal to 0\n",
    "    if n <= 0:\n",
    "        return False\n",
    "\n",
    "    # Use bitwise AND operation between n and n-1\n",
    "    # If n is a power of two, the result will be 0\n",
    "    # because a power of two has only one bit set to 1\n",
    "    # and subtracting 1 from it will result in a number\n",
    "    # with all bits set to 1 before the bit corresponding to the power of two.\n",
    "    if n & (n - 1) == 0:\n",
    "        return True\n",
    "    else:\n",
    "        return False\n",
    "\n",
    "\n",
    "if __name__ == \"__main__\":\n",
    "\n",
    "    print(is_power_of_two(1)) \n",
    "    print(is_power_of_two(16))\n",
    "    print(is_power_of_two(3))\n",
    "\n"
   ]
  },
  {
   "cell_type": "markdown",
   "id": "e5ad5d72",
   "metadata": {},
   "source": [
    "***************************************************************************************************************************"
   ]
  },
  {
   "cell_type": "markdown",
   "id": "47bf1869",
   "metadata": {},
   "source": [
    "<aside>\n",
    "💡 **Question 2**\n",
    "\n",
    "Given a number n, find the sum of the first natural numbers.\n",
    "\n",
    "**Example 1:**\n",
    "\n",
    "Input: n = 3 \n",
    "\n",
    "Output: 6\n",
    "\n",
    "**Example 2:**\n",
    "\n",
    "Input  : 5 \n",
    "\n",
    "Output : 15\n",
    "\n",
    "</aside>"
   ]
  },
  {
   "cell_type": "code",
   "execution_count": 4,
   "id": "fbed0b63",
   "metadata": {},
   "outputs": [
    {
     "name": "stdout",
     "output_type": "stream",
     "text": [
      "6\n",
      "15\n"
     ]
    }
   ],
   "source": [
    "def sum_of_first_natural_numbers(n):\n",
    "    \"\"\"\n",
    "    Finds the sum of the first n natural numbers.\n",
    "  \n",
    "    Args:\n",
    "      n (int): The number of natural numbers to sum.\n",
    "  \n",
    "    Returns:\n",
    "      int: The sum of the first n natural numbers.\n",
    "  \n",
    "    Example:\n",
    "      n = 3\n",
    "      print(sum_of_first_natural_numbers(n))  # Output: 6\n",
    "    \"\"\"\n",
    "  \n",
    "    if n <= 0:\n",
    "      return 0\n",
    "    return n * (n + 1) // 2\n",
    "\n",
    "\n",
    "if __name__ == \"__main__\":\n",
    "    print(sum_of_first_natural_numbers(3))\n",
    "    print(sum_of_first_natural_numbers(5))\n",
    "\n"
   ]
  },
  {
   "cell_type": "markdown",
   "id": "c454723f",
   "metadata": {},
   "source": [
    "***************************************************************************************************************************"
   ]
  },
  {
   "cell_type": "markdown",
   "id": "e60001f9",
   "metadata": {},
   "source": [
    "<aside>\n",
    "💡 **Question 3**\n",
    "\n",
    "****Given a positive integer, N. Find the factorial of N. \n",
    "\n",
    "**Example 1:**\n",
    "\n",
    "Input: N = 5 \n",
    "\n",
    "Output: 120\n",
    "\n",
    "**Example 2:**\n",
    "\n",
    "Input: N = 4\n",
    "\n",
    "Output: 24\n",
    "\n",
    "</aside>"
   ]
  },
  {
   "cell_type": "code",
   "execution_count": 6,
   "id": "379431e7",
   "metadata": {},
   "outputs": [
    {
     "name": "stdout",
     "output_type": "stream",
     "text": [
      "120\n",
      "24\n"
     ]
    }
   ],
   "source": [
    "def factorial(N):\n",
    "    \"\"\"\n",
    "    Finds the factorial of a positive integer.\n",
    "  \n",
    "    Args:\n",
    "      N (int): The positive integer to find the factorial of.\n",
    "  \n",
    "    Returns:\n",
    "      int: The factorial of N.\n",
    "  \n",
    "    Example:\n",
    "      N = 5\n",
    "      print(factorial(N))  # Output: 120\n",
    "    \"\"\"\n",
    "  \n",
    "    if N < 0:\n",
    "      raise ValueError(\"N must be a positive integer.\")\n",
    "    if N == 0:\n",
    "      return 1\n",
    "    else:\n",
    "      return N * factorial(N - 1)\n",
    "\n",
    "\n",
    "if __name__ == \"__main__\":\n",
    "    print(factorial(5))\n",
    "    print(factorial(4))\n"
   ]
  },
  {
   "cell_type": "markdown",
   "id": "28da4778",
   "metadata": {},
   "source": [
    "***************************************************************************************************************************"
   ]
  },
  {
   "cell_type": "markdown",
   "id": "435350dc",
   "metadata": {},
   "source": [
    "<aside>\n",
    "💡 **Question 4**\n",
    "\n",
    "Given a number N and a power P, the task is to find the exponent of this number raised to the given power, i.e. N^P.\n",
    "\n",
    "**Example 1 :** \n",
    "\n",
    "Input: N = 5, P = 2\n",
    "\n",
    "Output: 25\n",
    "\n",
    "**Example 2 :**\n",
    "Input: N = 2, P = 5\n",
    "\n",
    "Output: 32\n",
    "\n",
    "</aside>"
   ]
  },
  {
   "cell_type": "code",
   "execution_count": 8,
   "id": "39461105-a2c2-4aa2-a3b0-6a209c15e821",
   "metadata": {},
   "outputs": [
    {
     "name": "stdout",
     "output_type": "stream",
     "text": [
      "25\n"
     ]
    }
   ],
   "source": [
    "def power(N, P):\n",
    "    \"\"\"\n",
    "    Finds the exponent of a number raised to a given power.\n",
    "  \n",
    "    Args:\n",
    "      N (int): The number to raise to the power P.\n",
    "      P (int): The power to raise N to.\n",
    "  \n",
    "    Returns:\n",
    "      int: The exponent of N raised to the power P.\n",
    "  \n",
    "    Example:\n",
    "      N = 5, P = 2\n",
    "      print(power(N, P))  # Output: 25\n",
    "    \"\"\"\n",
    "  \n",
    "    if P < 0:\n",
    "      raise ValueError(\"P must be a non-negative integer.\")\n",
    "    if P == 0:\n",
    "      return 1\n",
    "    else:\n",
    "      return N * power(N, P - 1)\n",
    "\n",
    "\n",
    "if __name__ == \"__main__\":\n",
    "    N = 5\n",
    "    P = 2\n",
    "    print(power(N, P))\n"
   ]
  },
  {
   "cell_type": "markdown",
   "id": "a8afa918",
   "metadata": {},
   "source": [
    "***************************************************************************************************************************"
   ]
  },
  {
   "cell_type": "markdown",
   "id": "68abc2c2",
   "metadata": {},
   "source": [
    "<aside>\n",
    "💡 **Question 5**\n",
    "\n",
    "Given an array of integers **arr**, the task is to find maximum element of that array using recursion.\n",
    "\n",
    "**Example 1:**\n",
    "\n",
    "Input: arr = {1, 4, 3, -5, -4, 8, 6};\n",
    "Output: 8\n",
    "\n",
    "**Example 2:**\n",
    "\n",
    "Input: arr = {1, 4, 45, 6, 10, -8};\n",
    "Output: 45\n",
    "\n",
    "</aside>"
   ]
  },
  {
   "cell_type": "code",
   "execution_count": 13,
   "id": "41d100e3",
   "metadata": {},
   "outputs": [
    {
     "name": "stdout",
     "output_type": "stream",
     "text": [
      "8\n",
      "45\n"
     ]
    }
   ],
   "source": [
    "def max_element(arr, n):\n",
    "    \"\"\"\n",
    "    Finds the maximum element of an array using recursion.\n",
    "\n",
    "    Args:\n",
    "      arr (list): The array to find the maximum element of.\n",
    "      n (int): The length of the array.\n",
    "\n",
    "    Returns:\n",
    "      int: The maximum element of the array.\n",
    "    \"\"\"\n",
    "    # Base case: if array is empty, return None\n",
    "    if n == 0:\n",
    "        return None\n",
    "    # Base case: if array has only one element, return that element\n",
    "    elif n == 1:\n",
    "        return arr[0]\n",
    "    else:\n",
    "        # Recursive case: find the maximum element of the rest of the array\n",
    "        max_element_of_rest = max_element(arr[1:], n - 1)\n",
    "        # Compare the maximum element of the rest with the first element of the array\n",
    "        return max(arr[0], max_element_of_rest)\n",
    "\n",
    "\n",
    "if __name__ == \"__main__\":\n",
    "    arr1 = [1, 4, 3, -5, -4, 8, 6]\n",
    "    n1 = len(arr1)\n",
    "    \n",
    "    arr2 = [1, 4, 45, 6, 10, -8]\n",
    "    n2 = len(arr2)\n",
    "    print(max_element(arr1, n1))\n",
    "    print(max_element(arr2, n2))\n"
   ]
  },
  {
   "cell_type": "markdown",
   "id": "1de5fc8b",
   "metadata": {},
   "source": [
    "***************************************************************************************************************************"
   ]
  },
  {
   "cell_type": "markdown",
   "id": "b1f95108",
   "metadata": {},
   "source": [
    "<aside>\n",
    "💡 **Question 6**\n",
    "\n",
    "Given first term (a), common difference (d) and a integer N of the Arithmetic Progression series, the task is to find Nth term of the series.\n",
    "\n",
    "**Example 1:**\n",
    "\n",
    "Input : a = 2 d = 1 N = 5\n",
    "Output : 6\n",
    "The 5th term of the series is : 6\n",
    "\n",
    "**Example 2:**\n",
    "\n",
    "Input : a = 5 d = 2 N = 10\n",
    "Output : 23\n",
    "The 10th term of the series is : 23\n",
    "\n",
    "</aside>"
   ]
  },
  {
   "cell_type": "code",
   "execution_count": 16,
   "id": "03171f23",
   "metadata": {},
   "outputs": [
    {
     "name": "stdout",
     "output_type": "stream",
     "text": [
      "23\n"
     ]
    }
   ],
   "source": [
    "def nthTermAP(a, d, N):\n",
    "    \"\"\"\n",
    "    Finds the Nth term of an arithmetic progression series.\n",
    "\n",
    "    Args:\n",
    "      a (int): The first term of the series.\n",
    "      d (int): The common difference between terms.\n",
    "      N (int): The term number to find.\n",
    "\n",
    "    Returns:\n",
    "      int: The Nth term of the series.\n",
    "    \"\"\"\n",
    "    # Calculate the Nth term using the formula: a + (N - 1) * d\n",
    "    nthTerm = a + (N - 1) * d\n",
    "    return nthTerm\n",
    "\n",
    "\n",
    "if __name__ == \"__main__\":\n",
    "    a = 5\n",
    "    d = 2\n",
    "    N = 10\n",
    "    print(nth_term_of_arithmetic_progression(a, d, N))"
   ]
  },
  {
   "cell_type": "markdown",
   "id": "6a7b4faa",
   "metadata": {},
   "source": [
    "***************************************************************************************************************************"
   ]
  },
  {
   "cell_type": "markdown",
   "id": "3fc10f68",
   "metadata": {},
   "source": [
    "<aside>\n",
    "💡 **Question 7**\n",
    "\n",
    "Given a string S, the task is to write a program to print all permutations of a given string.\n",
    "\n",
    "**Example 1:**\n",
    "\n",
    "***Input:***\n",
    "\n",
    "*S = “ABC”*\n",
    "\n",
    "***Output:***\n",
    "\n",
    "*“ABC”, “ACB”, “BAC”, “BCA”, “CBA”, “CAB”*\n",
    "\n",
    "**Example 2:**\n",
    "\n",
    "***Input:***\n",
    "\n",
    "*S = “XY”*\n",
    "\n",
    "***Output:***\n",
    "\n",
    "*“XY”, “YX”*\n",
    "\n",
    "</aside>"
   ]
  },
  {
   "cell_type": "code",
   "execution_count": 3,
   "id": "8bab67d6-7edb-485b-abea-40bd1eeda1e0",
   "metadata": {},
   "outputs": [
    {
     "name": "stdout",
     "output_type": "stream",
     "text": [
      "ABC\n",
      "ACB\n",
      "BAC\n",
      "BCA\n",
      "CAB\n",
      "CBA\n"
     ]
    }
   ],
   "source": [
    "def permutations(S):\n",
    "    \"\"\"\n",
    "    Generates all permutations of a given string.\n",
    "\n",
    "    Args:\n",
    "      S (str): The string to permute.\n",
    "\n",
    "    Returns:\n",
    "      list: List of all permutations of the string.\n",
    "    \"\"\"\n",
    "    # Base case: if the length of the string is 0, return an empty list\n",
    "    if len(S) == 0:\n",
    "        return []\n",
    "    # Base case: if the length of the string is 1, return a list containing the string itself\n",
    "    elif len(S) == 1:\n",
    "        return [S]\n",
    "    else:\n",
    "        permutations_list = []  # Store permutations in a list\n",
    "        for i in range(len(S)):\n",
    "            remaining_chars = S[:i] + S[i + 1:]  # Remove the current character at index i\n",
    "            for perm in permutations(remaining_chars):\n",
    "                permutations_list.append(S[i] + perm)  # Add current character and permutation to the list\n",
    "        return permutations_list\n",
    "\n",
    "\n",
    "if __name__ == \"__main__\":\n",
    "    S = \"ABC\"\n",
    "    permuted_strings = permutations(S)\n",
    "    for perm in permuted_strings:\n",
    "        print(perm)\n"
   ]
  },
  {
   "cell_type": "markdown",
   "id": "eaa04473",
   "metadata": {},
   "source": [
    "***************************************************************************************************************************"
   ]
  },
  {
   "cell_type": "markdown",
   "id": "e0dd5b64",
   "metadata": {},
   "source": [
    "<aside>\n",
    "💡 **Question 8**\n",
    "\n",
    "Given an array, find a product of all array elements.\n",
    "\n",
    "**Example 1:**\n",
    "\n",
    "Input  : arr[] = {1, 2, 3, 4, 5}\n",
    "Output : 120\n",
    "**Example 2:**\n",
    "\n",
    "Input  : arr[] = {1, 6, 3}\n",
    "Output : 18\n",
    "\n",
    "</aside>"
   ]
  },
  {
   "cell_type": "code",
   "execution_count": 5,
   "id": "47027be7",
   "metadata": {},
   "outputs": [
    {
     "name": "stdout",
     "output_type": "stream",
     "text": [
      "120\n"
     ]
    }
   ],
   "source": [
    "def product_of_array_elements(arr, n):\n",
    "    \"\"\"\n",
    "    Finds the product of all elements in an array.\n",
    "\n",
    "    Args:\n",
    "      arr (list): The input array.\n",
    "\n",
    "    Returns:\n",
    "      int: The product of all elements in the array.\n",
    "    \"\"\"\n",
    "    product = 1  # Initialize the product to 1\n",
    "    for num in arr:\n",
    "        product *= num  # Multiply each element with the product\n",
    "    return product\n",
    "\n",
    "\n",
    "if __name__ == \"__main__\":\n",
    "    arr = [1, 2, 3, 4, 5]\n",
    "    n = len(arr)\n",
    "    print(product_of_array_elements(arr, n))\n"
   ]
  },
  {
   "cell_type": "markdown",
   "id": "b25ba644",
   "metadata": {},
   "source": [
    "***************************************************************************************************************************"
   ]
  }
 ],
 "metadata": {
  "kernelspec": {
   "display_name": "Python 3 (ipykernel)",
   "language": "python",
   "name": "python3"
  },
  "language_info": {
   "codemirror_mode": {
    "name": "ipython",
    "version": 3
   },
   "file_extension": ".py",
   "mimetype": "text/x-python",
   "name": "python",
   "nbconvert_exporter": "python",
   "pygments_lexer": "ipython3",
   "version": "3.10.6"
  }
 },
 "nbformat": 4,
 "nbformat_minor": 5
}
