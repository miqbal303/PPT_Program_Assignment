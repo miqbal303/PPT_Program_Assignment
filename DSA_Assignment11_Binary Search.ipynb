{
 "cells": [
  {
   "cell_type": "markdown",
   "id": "d334357b",
   "metadata": {},
   "source": [
    "<aside>\n",
    "💡 **Question 1**\n",
    "\n",
    "Given a non-negative integer `x`, return *the square root of* `x` *rounded down to the nearest integer*. The returned integer should be **non-negative** as well.\n",
    "\n",
    "You **must not use** any built-in exponent function or operator.\n",
    "\n",
    "- For example, do not use `pow(x, 0.5)` in c++ or `x ** 0.5` in python.\n",
    "\n",
    "**Example 1:**\n",
    "Input: x = 4\n",
    "Output: 2\n",
    "Explanation: The square root of 4 is 2, so we return 2.\n",
    "\n",
    "**Example 2:**\n",
    "    \n",
    "Input: x = 8\n",
    "Output: 2\n",
    "Explanation: The square root of 8 is 2.82842..., and since we round it down to the nearest integer, 2 is returned.    \n",
    "</aside>"
   ]
  },
  {
   "cell_type": "code",
   "execution_count": 1,
   "id": "0d779a75-cd22-497e-bc64-3dcc1b13d088",
   "metadata": {},
   "outputs": [
    {
     "name": "stdout",
     "output_type": "stream",
     "text": [
      "2\n",
      "2\n"
     ]
    }
   ],
   "source": [
    "def mySqrt(x):\n",
    "    # If x is 0 or 1, the square root is equal to x\n",
    "    if x < 2:\n",
    "        return x\n",
    "\n",
    "    # Initialize left and right boundaries for binary search\n",
    "    left = 0\n",
    "    right = x\n",
    "\n",
    "    # Perform binary search until left and right meet\n",
    "    while left <= right:\n",
    "        # Calculate the mid-point\n",
    "        mid = (left + right) // 2\n",
    "\n",
    "        # If the square of the mid-point is greater than x, update the right boundary\n",
    "        if mid * mid > x:\n",
    "            right = mid - 1\n",
    "        else:\n",
    "            # If the square of the mid-point is less than or equal to x, update the left boundary\n",
    "            left = mid + 1\n",
    "\n",
    "    # Return the right boundary as the square root of x rounded down to the nearest integer\n",
    "    return right\n",
    "\n",
    "print(mySqrt(4))\n",
    "print(mySqrt(8))"
   ]
  },
  {
   "cell_type": "markdown",
   "id": "2a9522ab",
   "metadata": {},
   "source": [
    "***************************************************************************************************************************"
   ]
  },
  {
   "cell_type": "markdown",
   "id": "e1744ae1",
   "metadata": {},
   "source": [
    "<aside>\n",
    "💡 **Question 2**\n",
    "\n",
    "A peak element is an element that is strictly greater than its neighbors.\n",
    "\n",
    "Given a **0-indexed** integer array `nums`, find a peak element, and return its index. If the array contains multiple peaks, return the index to **any of the peaks**.\n",
    "\n",
    "You may imagine that `nums[-1] = nums[n] = -∞`. In other words, an element is always considered to be strictly greater than a neighbor that is outside the array.\n",
    "\n",
    "You must write an algorithm that runs in `O(log n)` time.\n",
    "\n",
    "**Example 1:**\n",
    "\n",
    "Input: nums = [1,2,3,1]\n",
    "Output: 2\n",
    "Explanation: 3 is a peak element and your function should return the index number 2.\n",
    "    \n",
    "**Example 2:**\n",
    "    \n",
    "Input: nums = [1,2,1,3,5,6,4]\n",
    "Output: 5\n",
    "Explanation: Your function can return either index number 1 where the peak element is 2, or index number 5 where the peak element is 6.    \n",
    "    \n",
    "</aside>"
   ]
  },
  {
   "cell_type": "code",
   "execution_count": 2,
   "id": "9b188bf6-8c4c-4081-9d9d-62e4459e2025",
   "metadata": {},
   "outputs": [
    {
     "name": "stdout",
     "output_type": "stream",
     "text": [
      "2\n",
      "5\n"
     ]
    }
   ],
   "source": [
    "def findPeakElement(nums):\n",
    "    # Initialize the left and right pointers\n",
    "    left = 0\n",
    "    right = len(nums) - 1\n",
    "\n",
    "    # Perform binary search until left and right meet\n",
    "    while left < right:\n",
    "        # Calculate the mid-point\n",
    "        mid = (left + right) // 2\n",
    "\n",
    "        # If nums[mid] is less than nums[mid + 1], update left to be mid + 1\n",
    "        # since the peak element must be on the right side of mid\n",
    "        if nums[mid] < nums[mid + 1]:\n",
    "            left = mid + 1\n",
    "        else:\n",
    "            # If nums[mid] is greater than or equal to nums[mid + 1], update right to be mid\n",
    "            # since the peak element must be on the left side of or equal to mid\n",
    "            right = mid\n",
    "\n",
    "    # Return the left pointer as the index of the peak element\n",
    "    return left\n",
    "\n",
    "print(findPeakElement([1, 2, 3, 1]))\n",
    "print(findPeakElement([1, 2, 1, 3, 5, 6, 4]))\n"
   ]
  },
  {
   "cell_type": "markdown",
   "id": "7dad4142",
   "metadata": {},
   "source": [
    "***************************************************************************************************************************"
   ]
  },
  {
   "cell_type": "markdown",
   "id": "813d5314",
   "metadata": {},
   "source": [
    "<aside>\n",
    "💡 **Question 3**\n",
    "\n",
    "****\n",
    "\n",
    "Given an array `nums` containing `n` distinct numbers in the range `[0, n]`, return *the only number in the range that is missing from the array.*\n",
    "\n",
    "**Example 1:**\n",
    "\n",
    "    \n",
    "Input: nums = [3,0,1]\n",
    "Output: 2\n",
    "Explanation: n = 3 since there are 3 numbers, so all numbers are in the range [0,3]. 2 is the missing number in the range since it does not appear in nums.\n",
    "\n",
    "**Example 2:**    \n",
    "    \n",
    "Input: nums = [0,1]\n",
    "Output: 2\n",
    "Explanation: n = 2 since there are 2 numbers, so all numbers are in the range [0,2]. 2 is the missing number in the range since it does not appear in nums.\n",
    "\n",
    "    \n",
    "**Example 3:**\n",
    "    \n",
    "Input: nums = [9,6,4,2,3,5,7,0,1]\n",
    "Output: 8\n",
    "Explanation: n = 9 since there are 9 numbers, so all numbers are in the range [0,9]. 8 is the missing number in the range since it does not appear in nums.    \n",
    "    \n",
    "</aside>"
   ]
  },
  {
   "cell_type": "code",
   "execution_count": 3,
   "id": "eb8db8b9-ac02-444a-a35d-c6a9bee31b4e",
   "metadata": {},
   "outputs": [
    {
     "name": "stdout",
     "output_type": "stream",
     "text": [
      "2\n",
      "2\n",
      "8\n"
     ]
    }
   ],
   "source": [
    "def missingNumber(nums):\n",
    "    # Get the length of the array\n",
    "    n = len(nums)\n",
    "    \n",
    "    # Calculate the expected sum of numbers in the range [0, n]\n",
    "    expected_sum = (n * (n + 1)) // 2\n",
    "\n",
    "    # Iterate through each element in nums and subtract it from the expected sum\n",
    "    for num in nums:\n",
    "        expected_sum -= num\n",
    "\n",
    "    # The remaining value is the missing number\n",
    "    return expected_sum\n",
    "\n",
    "print(missingNumber([3, 0, 1]))\n",
    "print(missingNumber([0, 1]))\n",
    "print(missingNumber([9, 6, 4, 2, 3, 5, 7, 0, 1]))\n"
   ]
  },
  {
   "cell_type": "markdown",
   "id": "80830308",
   "metadata": {},
   "source": [
    "***************************************************************************************************************************"
   ]
  },
  {
   "cell_type": "markdown",
   "id": "a82feeb5",
   "metadata": {},
   "source": [
    "<aside>\n",
    "💡 **Question 4**\n",
    "\n",
    "Given an array of integers `nums` containing `n + 1` integers where each integer is in the range `[1, n]` inclusive.\n",
    "\n",
    "There is only **one repeated number** in `nums`, return *this repeated number*.\n",
    "\n",
    "You must solve the problem **without** modifying the array `nums` and uses only constant extra space.\n",
    "\n",
    "**Example 1:**\n",
    "    \n",
    "Input: nums = [1,3,4,2,2]\n",
    "Output: 2\n",
    "    \n",
    "    \n",
    "Example 2:\n",
    "Input: nums = [3,1,3,4,2]\n",
    "Output: 3    \n",
    "    \n",
    "</aside>"
   ]
  },
  {
   "cell_type": "code",
   "execution_count": 5,
   "id": "a2c41ed5-5184-4bee-870d-f5afea77a353",
   "metadata": {},
   "outputs": [
    {
     "name": "stdout",
     "output_type": "stream",
     "text": [
      "2\n",
      "3\n"
     ]
    }
   ],
   "source": [
    "def find_repeated_number(nums):\n",
    "    \"\"\"\n",
    "    Finds the repeated number in the array `nums`.\n",
    "\n",
    "    Args:\n",
    "        nums: The array of integers.\n",
    "\n",
    "    Returns:\n",
    "        The repeated number.\n",
    "    \"\"\"\n",
    "\n",
    "    # Create an empty set to store the seen numbers\n",
    "    seen = set()\n",
    "\n",
    "    # Iterate through each element in nums\n",
    "    for num in nums:\n",
    "        # If the number is already in the set, it is the repeated number\n",
    "        if num in seen:\n",
    "            return num\n",
    "        else:\n",
    "            # Add the number to the set if it has not been seen before\n",
    "            seen.add(num)\n",
    "\n",
    "    # Return -1 if no repeated number is found\n",
    "    return -1\n",
    "\n",
    "\n",
    "print(find_repeated_number([1,3,4,2,2]))\n",
    "print(find_repeated_number([3,1,3,4,2]))"
   ]
  },
  {
   "cell_type": "markdown",
   "id": "c5188685",
   "metadata": {},
   "source": [
    "***************************************************************************************************************************"
   ]
  },
  {
   "cell_type": "markdown",
   "id": "1a931b4e",
   "metadata": {},
   "source": [
    "<aside>\n",
    "💡 **Question 5**\n",
    "\n",
    "Given two integer arrays `nums1` and `nums2`, return *an array of their intersection*. Each element in the result must be **unique** and you may return the result in **any order**.\n",
    "\n",
    "**Example 1:**\n",
    "\n",
    "```\n",
    "Input: nums1 = [1,2,2,1], nums2 = [2,2]\n",
    "Output: [2]\n",
    "\n",
    "```\n",
    "\n",
    "**Example 2:**\n",
    "    \n",
    "Input: nums1 = [4,9,5], nums2 = [9,4,9,8,4]\n",
    "Output: [9,4]\n",
    "Explanation: [4,9] is also accepted.    \n",
    "\n",
    "</aside>"
   ]
  },
  {
   "cell_type": "code",
   "execution_count": 6,
   "id": "c7466497-e3b4-423c-89ec-fcc4de535e6c",
   "metadata": {},
   "outputs": [
    {
     "name": "stdout",
     "output_type": "stream",
     "text": [
      "[2]\n",
      "[9, 4]\n"
     ]
    }
   ],
   "source": [
    "def intersection(nums1, nums2):\n",
    "    \"\"\"\n",
    "    Finds the intersection of the two integer arrays `nums1` and `nums2`.    \n",
    "    Args:\n",
    "        nums1: The first integer array.\n",
    "        nums2: The second integer array.    \n",
    "    Returns:\n",
    "        An array of the intersection of the two arrays.\n",
    "    \"\"\"    \n",
    "    \n",
    "    set1 = set(nums1)\n",
    "    set2 = set(nums2)\n",
    "    intersect = list(set1 & set2)\n",
    "    return intersect\n",
    "\n",
    "print(intersection([1, 2, 2, 1], [2, 2]))  # Output: [2]\n",
    "print(intersection([4, 9, 5], [9, 4, 9, 8, 4]))  # Output: [9, 4]       "
   ]
  },
  {
   "cell_type": "markdown",
   "id": "df39a268",
   "metadata": {},
   "source": [
    "***************************************************************************************************************************"
   ]
  },
  {
   "cell_type": "markdown",
   "id": "897e30ce",
   "metadata": {},
   "source": [
    "<aside>\n",
    "💡 **Question 6**\n",
    "\n",
    "Suppose an array of length `n` sorted in ascending order is **rotated** between `1` and `n` times. For example, the array `nums = [0,1,2,4,5,6,7]` might become:\n",
    "\n",
    "- `[4,5,6,7,0,1,2]` if it was rotated `4` times.\n",
    "- `[0,1,2,4,5,6,7]` if it was rotated `7` times.\n",
    "\n",
    "Notice that **rotating** an array `[a[0], a[1], a[2], ..., a[n-1]]` 1 time results in the array `[a[n-1], a[0], a[1], a[2], ..., a[n-2]]`.\n",
    "\n",
    "Given the sorted rotated array `nums` of **unique** elements, return *the minimum element of this array*.\n",
    "\n",
    "You must write an algorithm that runs in `O(log n) time.`\n",
    "\n",
    "**Example 1:**\n",
    "\n",
    "```\n",
    "Input: nums = [3,4,5,1,2]\n",
    "Output: 1\n",
    "Explanation: The original array was [1,2,3,4,5] rotated 3 times.\n",
    "\n",
    "```\n",
    "\n",
    "**Example 2:**\n",
    "\n",
    "```\n",
    "Input: nums = [4,5,6,7,0,1,2]\n",
    "Output: 0\n",
    "Explanation: The original array was [0,1,2,4,5,6,7] and it was rotated 4 times.\n",
    "\n",
    "```\n",
    "\n",
    "**Example 3:**\n",
    "Input: nums = [11,13,15,17]\n",
    "Output: 11\n",
    "Explanation: The original array was [11,13,15,17] and it was rotated 4 times.\n",
    "</aside>"
   ]
  },
  {
   "cell_type": "code",
   "execution_count": 7,
   "id": "5ac7ce41-b393-434e-8b85-4b279ace7f57",
   "metadata": {},
   "outputs": [
    {
     "name": "stdout",
     "output_type": "stream",
     "text": [
      "1\n",
      "0\n",
      "11\n"
     ]
    }
   ],
   "source": [
    "def findMin(nums):\n",
    "    \"\"\"\n",
    "    Finds the minimum element in the rotated sorted array `nums`.\n",
    "\n",
    "    Args:\n",
    "        nums: The rotated sorted array.\n",
    "\n",
    "    Returns:\n",
    "        The minimum element in the array.\n",
    "    \"\"\"\n",
    "    left = 0\n",
    "    right = len(nums) - 1\n",
    "\n",
    "    if nums[left] < nums[right]:\n",
    "        return nums[left]\n",
    "\n",
    "    while left < right:\n",
    "        mid = (left + right) // 2\n",
    "\n",
    "        if nums[mid] > nums[mid + 1]:\n",
    "            return nums[mid + 1]\n",
    "\n",
    "        if nums[mid] < nums[mid - 1]:\n",
    "            return nums[mid]\n",
    "\n",
    "        if nums[mid] > nums[left]:\n",
    "            left = mid + 1\n",
    "        else:\n",
    "            right = mid - 1\n",
    "\n",
    "    return nums[left]\n",
    "\n",
    "\n",
    "print(findMin([3, 4, 5, 1, 2]))\n",
    "print(findMin([4, 5, 6, 7, 0, 1, 2]))\n",
    "print(findMin([11, 13, 15, 17]))\n"
   ]
  },
  {
   "cell_type": "markdown",
   "id": "ec44a728",
   "metadata": {},
   "source": [
    "***************************************************************************************************************************"
   ]
  },
  {
   "cell_type": "markdown",
   "id": "75c361b5",
   "metadata": {},
   "source": [
    "<aside>\n",
    "💡 **Question 7**\n",
    "\n",
    "Given an array of integers `nums` sorted in non-decreasing order, find the starting and ending position of a given `target` value.\n",
    "\n",
    "If `target` is not found in the array, return `[-1, -1]`.\n",
    "\n",
    "You must write an algorithm with `O(log n)` runtime complexity.\n",
    "\n",
    "**Example 1:**\n",
    "\n",
    "```\n",
    "Input: nums = [5,7,7,8,8,10], target = 8\n",
    "Output: [3,4]\n",
    "\n",
    "```\n",
    "\n",
    "**Example 2:**\n",
    "\n",
    "```\n",
    "Input: nums = [5,7,7,8,8,10], target = 6\n",
    "Output: [-1,-1]\n",
    "\n",
    "```\n",
    "\n",
    "**Example 3:**\n",
    "Input: nums = [], target = 0\n",
    "Output: [-1,-1]\n",
    "</aside>"
   ]
  },
  {
   "cell_type": "code",
   "execution_count": 8,
   "id": "57d24f89-a9eb-416c-ba27-c14fead775c4",
   "metadata": {},
   "outputs": [
    {
     "name": "stdout",
     "output_type": "stream",
     "text": [
      "[3, 4]\n",
      "[-1, -1]\n",
      "[-1, -1]\n"
     ]
    }
   ],
   "source": [
    "def searchRange(nums, target):\n",
    "    \"\"\"\n",
    "    Finds the starting and ending position of the target value in the array `nums`.\n",
    "\n",
    "    Args:\n",
    "        nums: The sorted array.\n",
    "        target: The target value.\n",
    "\n",
    "    Returns:\n",
    "        A list of the starting and ending position of the target value.\n",
    "    \"\"\"    \n",
    "    \n",
    "    \n",
    "    left = -1\n",
    "    right = -1\n",
    "\n",
    "    # Binary search for the leftmost occurrence\n",
    "    low = 0\n",
    "    high = len(nums) - 1\n",
    "    while low <= high:\n",
    "        mid = (low + high) // 2\n",
    "        if nums[mid] == target:\n",
    "            left = mid\n",
    "            high = mid - 1\n",
    "        elif nums[mid] < target:\n",
    "            low = mid + 1\n",
    "        else:\n",
    "            high = mid - 1\n",
    "\n",
    "    # Binary search for the rightmost occurrence\n",
    "    low = 0\n",
    "    high = len(nums) - 1\n",
    "    while low <= high:\n",
    "        mid = (low + high) // 2\n",
    "        if nums[mid] == target:\n",
    "            right = mid\n",
    "            low = mid + 1\n",
    "        elif nums[mid] < target:\n",
    "            low = mid + 1\n",
    "        else:\n",
    "            high = mid - 1\n",
    "\n",
    "    return [left, right]\n",
    "\n",
    "\n",
    "print(searchRange([5, 7, 7, 8, 8, 10], 8))\n",
    "print(searchRange([5, 7, 7, 8, 8, 10], 6))\n",
    "print(searchRange([], 0))\n"
   ]
  },
  {
   "cell_type": "markdown",
   "id": "a0dbb861",
   "metadata": {},
   "source": [
    "***************************************************************************************************************************"
   ]
  },
  {
   "cell_type": "markdown",
   "id": "ca49d517",
   "metadata": {},
   "source": [
    "<aside>\n",
    "💡 **Question 8**\n",
    "\n",
    "Given two integer arrays `nums1` and `nums2`, return *an array of their intersection*. Each element in the result must appear as many times as it shows in both arrays and you may return the result in **any order**.\n",
    "\n",
    "**Example 1:**\n",
    "\n",
    "```\n",
    "Input: nums1 = [1,2,2,1], nums2 = [2,2]\n",
    "Output: [2,2]\n",
    "\n",
    "```\n",
    "\n",
    "**Example 2:**\n",
    "    \n",
    "Input: nums1 = [4,9,5], nums2 = [9,4,9,8,4]\n",
    "Output: [4,9]\n",
    "Explanation: [9,4] is also accepted.    \n",
    "\n",
    "</aside>"
   ]
  },
  {
   "cell_type": "code",
   "execution_count": 12,
   "id": "d998acd1-1162-43d1-a0ba-f4445a030b0b",
   "metadata": {},
   "outputs": [
    {
     "name": "stdout",
     "output_type": "stream",
     "text": [
      "[2, 2]\n",
      "[4, 9]\n"
     ]
    }
   ],
   "source": [
    "def intersect(nums1, nums2):\n",
    "    \"\"\"\n",
    "    Returns the intersection of two integer arrays, considering the occurrence count.\n",
    "\n",
    "    Args:\n",
    "        nums1: The first integer array.\n",
    "        nums2: The second integer array.\n",
    "\n",
    "    Returns:\n",
    "        The intersection of the two arrays, with each element appearing as many times as it shows in both arrays.\n",
    "\n",
    "    \"\"\"\n",
    "\n",
    "    # Create empty dictionaries to store the element counts\n",
    "    counter1 = {}\n",
    "    counter2 = {}\n",
    "\n",
    "    # Count occurrences in nums1\n",
    "    for num in nums1:\n",
    "        counter1[num] = counter1.get(num, 0) + 1\n",
    "\n",
    "    # Count occurrences in nums2\n",
    "    for num in nums2:\n",
    "        counter2[num] = counter2.get(num, 0) + 1\n",
    "\n",
    "    # Create an empty list to store the intersection result\n",
    "    result = []\n",
    "\n",
    "    # Find the intersection by iterating through the keys in counter1\n",
    "    for num in counter1:\n",
    "        if num in counter2:\n",
    "            # Append the element repeated for the minimum occurrence count between counter1 and counter2\n",
    "            result.extend([num] * min(counter1[num], counter2[num]))\n",
    "\n",
    "    return result\n",
    "\n",
    "\n",
    "print(intersect([1, 2, 2, 1], [2, 2]))\n",
    "print(intersect([4, 9, 5], [9, 4, 9, 8, 4]))\n"
   ]
  },
  {
   "cell_type": "markdown",
   "id": "4ef3a817",
   "metadata": {},
   "source": [
    "***************************************************************************************************************************"
   ]
  }
 ],
 "metadata": {
  "kernelspec": {
   "display_name": "Python 3 (ipykernel)",
   "language": "python",
   "name": "python3"
  },
  "language_info": {
   "codemirror_mode": {
    "name": "ipython",
    "version": 3
   },
   "file_extension": ".py",
   "mimetype": "text/x-python",
   "name": "python",
   "nbconvert_exporter": "python",
   "pygments_lexer": "ipython3",
   "version": "3.10.6"
  }
 },
 "nbformat": 4,
 "nbformat_minor": 5
}
