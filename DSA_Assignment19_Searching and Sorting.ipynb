{
 "cells": [
  {
   "cell_type": "markdown",
   "id": "b1b01a0f",
   "metadata": {},
   "source": [
    "<aside>\n",
    "💡 1. **Merge k Sorted Lists**\n",
    "\n",
    "You are given an array of `k` linked-lists `lists`, each linked-list is sorted in ascending order.\n",
    "\n",
    "*Merge all the linked-lists into one sorted linked-list and return it.*\n",
    "\n",
    "**Example 1:**\n",
    "\n",
    "```\n",
    "Input: lists = [[1,4,5],[1,3,4],[2,6]]\n",
    "Output: [1,1,2,3,4,4,5,6]\n",
    "Explanation: The linked-lists are:\n",
    "[\n",
    "  1->4->5,\n",
    "  1->3->4,\n",
    "  2->6\n",
    "]\n",
    "merging them into one sorted list:\n",
    "1->1->2->3->4->4->5->6\n",
    "\n",
    "```\n",
    "\n",
    "**Example 2:**\n",
    "\n",
    "```\n",
    "Input: lists = []\n",
    "Output: []\n",
    "\n",
    "```\n",
    "\n",
    "**Example 3:**\n",
    "\n",
    "```\n",
    "Input: lists = [[]]\n",
    "Output: []\n",
    "\n",
    "```\n",
    "\n",
    "**Constraints:**\n",
    "\n",
    "- `k == lists.length`\n",
    "- `0 <= k <= 10000`\n",
    "- `0 <= lists[i].length <= 500`\n",
    "- `-10000 <= lists[i][j] <= 10000`\n",
    "- `lists[i]` is sorted in **ascending order**.\n",
    "- The sum of `lists[i].length` will not exceed `10000`.\n",
    "</aside>"
   ]
  },
  {
   "cell_type": "markdown",
   "id": "7a95877d",
   "metadata": {},
   "source": [
    "***************************************************************************************************************************"
   ]
  },
  {
   "cell_type": "markdown",
   "id": "30678fd0",
   "metadata": {},
   "source": [
    "<aside>\n",
    "💡 2. **Count of Smaller Numbers After Self**\n",
    "\n",
    "Given an integer array `nums`, return *an integer array* `counts` *where* `counts[i]` *is the number of smaller elements to the right of* `nums[i]`.\n",
    "\n",
    "**Example 1:**\n",
    "\n",
    "```\n",
    "Input: nums = [5,2,6,1]\n",
    "Output: [2,1,1,0]\n",
    "Explanation:\n",
    "To the right of 5 there are2 smaller elements (2 and 1).\n",
    "To the right of 2 there is only1 smaller element (1).\n",
    "To the right of 6 there is1 smaller element (1).\n",
    "To the right of 1 there is0 smaller element.\n",
    "\n",
    "```\n",
    "\n",
    "**Example 2:**\n",
    "\n",
    "```\n",
    "Input: nums = [-1]\n",
    "Output: [0]\n",
    "\n",
    "```\n",
    "\n",
    "**Example 3:**\n",
    "\n",
    "```\n",
    "Input: nums = [-1,-1]\n",
    "Output: [0,0]\n",
    "\n",
    "```\n",
    "\n",
    "**Constraints:**\n",
    "\n",
    "- `1 <= nums.length <= 100000`\n",
    "- `-10000 <= nums[i] <= 10000`\n",
    "</aside>"
   ]
  },
  {
   "cell_type": "markdown",
   "id": "7a102c44",
   "metadata": {},
   "source": [
    "***************************************************************************************************************************"
   ]
  },
  {
   "cell_type": "markdown",
   "id": "5764e3f9",
   "metadata": {},
   "source": [
    "<aside>\n",
    "💡 3. **Sort an Array**\n",
    "\n",
    "Given an array of integers `nums`, sort the array in ascending order and return it.\n",
    "\n",
    "You must solve the problem **without using any built-in** functions in `O(nlog(n))` time complexity and with the smallest space complexity possible.\n",
    "\n",
    "**Example 1:**\n",
    "\n",
    "```\n",
    "Input: nums = [5,2,3,1]\n",
    "Output: [1,2,3,5]\n",
    "Explanation: After sorting the array, the positions of some numbers are not changed (for example, 2 and 3), while the positions of other numbers are changed (for example, 1 and 5).\n",
    "\n",
    "```\n",
    "\n",
    "**Example 2:**\n",
    "\n",
    "```\n",
    "Input: nums = [5,1,1,2,0,0]\n",
    "Output: [0,0,1,1,2,5]\n",
    "Explanation: Note that the values of nums are not necessairly unique.\n",
    "\n",
    "```\n",
    "\n",
    "**Constraints:**\n",
    "\n",
    "- `1 <= nums.length <= 5 * 10000`\n",
    "- `-5 * 104 <= nums[i] <= 5 * 10000`\n",
    "</aside>"
   ]
  },
  {
   "cell_type": "markdown",
   "id": "38baac85",
   "metadata": {},
   "source": [
    "***************************************************************************************************************************"
   ]
  },
  {
   "cell_type": "markdown",
   "id": "2d54998b",
   "metadata": {},
   "source": [
    "<aside>\n",
    "💡 4. **Move all zeroes to end of array**\n",
    "\n",
    "Given an array of random numbers, Push all the zero’s of a given array to the end of the array. For example, if the given arrays is {1, 9, 8, 4, 0, 0, 2, 7, 0, 6, 0}, it should be changed to {1, 9, 8, 4, 2, 7, 6, 0, 0, 0, 0}. The order of all other elements should be same. Expected time complexity is O(n) and extra space is O(1).\n",
    "\n",
    "**Example:**\n",
    "Input :  arr[] = {1, 2, 0, 4, 3, 0, 5, 0};\n",
    "Output : arr[] = {1, 2, 4, 3, 5, 0, 0, 0};\n",
    "\n",
    "Input : arr[]  = {1, 2, 0, 0, 0, 3, 6};\n",
    "Output : arr[] = {1, 2, 3, 6, 0, 0, 0};\n",
    "</aside>"
   ]
  },
  {
   "cell_type": "markdown",
   "id": "f2608132",
   "metadata": {},
   "source": [
    "***************************************************************************************************************************"
   ]
  },
  {
   "cell_type": "markdown",
   "id": "d66b3ac4",
   "metadata": {},
   "source": [
    "<aside>\n",
    "💡 5. **Rearrange array in alternating positive & negative items with O(1) extra space**\n",
    "\n",
    "Given an **array of positive** and **negative numbers**, arrange them in an **alternate** fashion such that every positive number is followed by a negative and vice-versa maintaining the **order of appearance**. The number of positive and negative numbers need not be equal. If there are more positive numbers they appear at the end of the array. If there are more negative numbers, they too appear at the end of the array.\n",
    "\n",
    "**Examples:**\n",
    "\n",
    "> Input:  arr[] = {1, 2, 3, -4, -1, 4}\n",
    "Output: arr[] = {-4, 1, -1, 2, 3, 4}\n",
    "\n",
    "Input:  arr[] = {-5, -2, 5, 2, 4, 7, 1, 8, 0, -8}\n",
    "Output: arr[] = {-5, 5, -2, 2, -8, 4, 7, 1, 8, 0}\n",
    "> \n",
    "</aside>"
   ]
  },
  {
   "cell_type": "markdown",
   "id": "fe43981f",
   "metadata": {},
   "source": [
    "***************************************************************************************************************************"
   ]
  },
  {
   "cell_type": "markdown",
   "id": "71629aeb",
   "metadata": {},
   "source": [
    "<aside>\n",
    "💡 **6. Merge two sorted arrays**\n",
    "\n",
    "Given two sorted arrays, the task is to merge them in a sorted manner.\n",
    "\n",
    "**Examples:**\n",
    "\n",
    "> Input: arr1[] = { 1, 3, 4, 5}, arr2[] = {2, 4, 6, 8} \n",
    "Output: arr3[] = {1, 2, 3, 4, 4, 5, 6, 8}\n",
    "\n",
    "Input: arr1[] = { 5, 8, 9}, arr2[] = {4, 7, 8}\n",
    "Output: arr3[] = {4, 5, 7, 8, 8, 9}\n",
    "> \n",
    "</aside>"
   ]
  },
  {
   "cell_type": "markdown",
   "id": "b9a1bcc5",
   "metadata": {},
   "source": [
    "***************************************************************************************************************************"
   ]
  },
  {
   "cell_type": "markdown",
   "id": "7268aa11",
   "metadata": {},
   "source": [
    "<aside>\n",
    "💡 7. **Intersection of Two Arrays**\n",
    "\n",
    "Given two integer arrays `nums1` and `nums2`, return *an array of their intersection*. Each element in the result must be **unique** and you may return the result in **any order**.\n",
    "\n",
    "**Example 1:**\n",
    "\n",
    "```\n",
    "Input: nums1 = [1,2,2,1], nums2 = [2,2]\n",
    "Output: [2]\n",
    "\n",
    "```\n",
    "\n",
    "**Example 2:**\n",
    "\n",
    "```\n",
    "Input: nums1 = [4,9,5], nums2 = [9,4,9,8,4]\n",
    "Output: [9,4]\n",
    "Explanation: [4,9] is also accepted.\n",
    "\n",
    "```\n",
    "\n",
    "**Constraints:**\n",
    "\n",
    "- `1 <= nums1.length, nums2.length <= 1000`\n",
    "- `0 <= nums1[i], nums2[i] <= 1000`\n",
    "</aside>"
   ]
  },
  {
   "cell_type": "markdown",
   "id": "5199eb68",
   "metadata": {},
   "source": [
    "***************************************************************************************************************************"
   ]
  },
  {
   "cell_type": "markdown",
   "id": "d1051d21",
   "metadata": {},
   "source": [
    "<aside>\n",
    "💡 8. **Intersection of Two Arrays II**\n",
    "\n",
    "Given two integer arrays `nums1` and `nums2`, return *an array of their intersection*. Each element in the result must appear as many times as it shows in both arrays and you may return the result in **any order**.\n",
    "\n",
    "**Example 1:**\n",
    "\n",
    "```\n",
    "Input: nums1 = [1,2,2,1], nums2 = [2,2]\n",
    "Output: [2,2]\n",
    "\n",
    "```\n",
    "\n",
    "**Example 2:**\n",
    "\n",
    "```\n",
    "Input: nums1 = [4,9,5], nums2 = [9,4,9,8,4]\n",
    "Output: [4,9]\n",
    "Explanation: [9,4] is also accepted.\n",
    "\n",
    "```\n",
    "\n",
    "**Constraints:**\n",
    "\n",
    "- `1 <= nums1.length, nums2.length <= 1000`\n",
    "- `0 <= nums1[i], nums2[i] <= 1000`\n",
    "</aside>"
   ]
  },
  {
   "cell_type": "markdown",
   "id": "034a826f",
   "metadata": {},
   "source": [
    "***************************************************************************************************************************"
   ]
  },
  {
   "cell_type": "markdown",
   "id": "34a53cba",
   "metadata": {},
   "source": []
  },
  {
   "cell_type": "markdown",
   "id": "445d3b1f",
   "metadata": {},
   "source": [
    "***************************************************************************************************************************"
   ]
  },
  {
   "cell_type": "markdown",
   "id": "723ab2f2",
   "metadata": {},
   "source": []
  },
  {
   "cell_type": "markdown",
   "id": "e94f8ef5",
   "metadata": {},
   "source": []
  }
 ],
 "metadata": {
  "kernelspec": {
   "display_name": "Python 3 (ipykernel)",
   "language": "python",
   "name": "python3"
  },
  "language_info": {
   "codemirror_mode": {
    "name": "ipython",
    "version": 3
   },
   "file_extension": ".py",
   "mimetype": "text/x-python",
   "name": "python",
   "nbconvert_exporter": "python",
   "pygments_lexer": "ipython3",
   "version": "3.10.9"
  }
 },
 "nbformat": 4,
 "nbformat_minor": 5
}
