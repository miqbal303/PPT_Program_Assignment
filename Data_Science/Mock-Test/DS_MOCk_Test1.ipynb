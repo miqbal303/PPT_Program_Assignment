{
 "cells": [
  {
   "cell_type": "markdown",
   "id": "10cf9349",
   "metadata": {},
   "source": [
    "17. Write a function that takes a list of numbers as input and returns a new list containing only the even numbers from the input list. Use list comprehension to solve this problem.\n",
    "\n",
    "Example:\n",
    "\n",
    "Input: [1, 2, 3, 4, 5, 6, 7, 8, 9, 10]\n",
    "\n",
    "Output: [2, 4, 6, 8, 10]"
   ]
  },
  {
   "cell_type": "code",
   "execution_count": 1,
   "id": "5741cd7f",
   "metadata": {},
   "outputs": [
    {
     "name": "stdout",
     "output_type": "stream",
     "text": [
      "[2, 4, 6, 8, 10]\n"
     ]
    }
   ],
   "source": [
    "def get_even_numbers(numbers):\n",
    "    \"\"\"\n",
    "    Returns a new list containing only the even numbers from the input list.\n",
    "\n",
    "    Args:\n",
    "        numbers: A list of numbers.\n",
    "\n",
    "    Returns:\n",
    "        A new list containing only the even numbers from the input list.\n",
    "    \"\"\"\n",
    "    # Use list comprehension to create a new list with only the even numbers\n",
    "    return [num for num in numbers if num % 2 == 0]\n",
    "\n",
    "\n",
    "if __name__ == \"__main__\":\n",
    "    numbers = [1, 2, 3, 4, 5, 6, 7, 8, 9, 10]\n",
    "    even_numbers = get_even_numbers(numbers)\n",
    "    print(even_numbers)\n"
   ]
  },
  {
   "cell_type": "markdown",
   "id": "19b39a32",
   "metadata": {},
   "source": [
    "***************************************************************************************************************************"
   ]
  },
  {
   "cell_type": "markdown",
   "id": "dd4fce26",
   "metadata": {},
   "source": [
    "18. Implement a decorator function called ‘timer’ that measures the execution time of a function. The ‘timer’ decorator should print the time taken by the decorated function to execute. Use the ‘time’ module in Python to calculate the execution time.\n",
    "\n",
    "Example:\n",
    "\n",
    "import time\n",
    "\n",
    "@timer\n",
    "def my_function():\n",
    "    # Function code goes here\n",
    "    time.sleep(2)\n",
    "\n",
    "my_function()\n",
    "\n",
    "Output:\n",
    "\"Execution time: 2.00123 seconds\""
   ]
  },
  {
   "cell_type": "code",
   "execution_count": 2,
   "id": "52d6dfe7",
   "metadata": {},
   "outputs": [
    {
     "name": "stdout",
     "output_type": "stream",
     "text": [
      "Execution time: 2.0076656341552734 seconds\n"
     ]
    }
   ],
   "source": [
    "import time\n",
    "\n",
    "def timer(func):\n",
    "    \"\"\"\n",
    "    Decorator function that measures the execution time of a function.\n",
    "\n",
    "    Args:\n",
    "        func: The function to be decorated.\n",
    "\n",
    "    Returns:\n",
    "        The decorated function.\n",
    "    \"\"\"\n",
    "\n",
    "    def wrapper(*args, **kwargs):\n",
    "        # Start the timer\n",
    "        start_time = time.time()\n",
    "\n",
    "        # Call the original function\n",
    "        result = func(*args, **kwargs)\n",
    "\n",
    "        # Calculate the execution time\n",
    "        execution_time = time.time() - start_time\n",
    "\n",
    "        # Print the execution time\n",
    "        print(\"Execution time:\", execution_time, \"seconds\")\n",
    "\n",
    "        # Return the result of the original function\n",
    "        return result\n",
    "\n",
    "    # Return the wrapper function\n",
    "    return wrapper\n",
    "\n",
    "\n",
    "@timer\n",
    "def my_function():\n",
    "    \"\"\"\n",
    "    Example function to be decorated.\n",
    "    \"\"\"\n",
    "    time.sleep(2)\n",
    "\n",
    "\n",
    "if __name__ == \"__main__\":\n",
    "    # Call the decorated function\n",
    "    my_function()\n"
   ]
  },
  {
   "cell_type": "markdown",
   "id": "e6e138ab",
   "metadata": {},
   "source": [
    "***************************************************************************************************************************"
   ]
  },
  {
   "cell_type": "markdown",
   "id": "bb991c4d",
   "metadata": {},
   "source": [
    "19. Write a function called ‘calculate_mean’ that takes a list of numbers as input and returns the mean (average) of the numbers. The function should calculate the mean using the sum of the numbers divided by the total count.\n",
    "\n",
    "Example:\n",
    "\n",
    "def calculate_mean(numbers):\n",
    "    total = sum(numbers)\n",
    "    count = len(numbers)\n",
    "    mean = total / count\n",
    "    return mean\n",
    "\n",
    "data = [10, 15, 20, 25, 30]\n",
    "mean_value = calculate_mean(data)\n",
    "print(\"Mean:\", mean_value)\n",
    "\n",
    "Output:\n",
    "Mean: 20.0"
   ]
  },
  {
   "cell_type": "code",
   "execution_count": 3,
   "id": "1b7d9462",
   "metadata": {},
   "outputs": [
    {
     "name": "stdout",
     "output_type": "stream",
     "text": [
      "Mean: 20.0\n"
     ]
    }
   ],
   "source": [
    "def calculate_mean(numbers):\n",
    "    \"\"\"\n",
    "    Calculates the mean (average) of a list of numbers.\n",
    "\n",
    "    Args:\n",
    "        numbers: A list of numbers.\n",
    "\n",
    "    Returns:\n",
    "        The mean of the numbers.\n",
    "    \"\"\"\n",
    "\n",
    "    # Check if the list is empty\n",
    "    if len(numbers) == 0:\n",
    "        # Return None if the list is empty\n",
    "        return None\n",
    "    else:\n",
    "        # Calculate the mean if the list is not empty\n",
    "        total = sum(numbers)  # Calculate the sum of numbers\n",
    "        count = len(numbers)  # Count the number of elements in the list\n",
    "        mean = total / count  # Calculate the mean by dividing the total by the count\n",
    "        return mean\n",
    "\n",
    "\n",
    "if __name__ == \"__main__\":\n",
    "    # Test the calculate_mean function with a sample list of numbers\n",
    "    data = [10, 15, 20, 25, 30]\n",
    "    mean_value = calculate_mean(data)\n",
    "    print(\"Mean:\", mean_value)\n"
   ]
  },
  {
   "cell_type": "markdown",
   "id": "b0d74574",
   "metadata": {},
   "source": [
    "***************************************************************************************************************************"
   ]
  },
  {
   "cell_type": "markdown",
   "id": "02c945a8",
   "metadata": {},
   "source": [
    "20. Write a function called ‘perform_hypothesis_test’ that takes two lists of numbers as input, representing two samples. The function should perform a two-sample t-test and return the p-value. Use the ‘scipy.stats’ module in Python to calculate the t-test and p-value.\n",
    "\n",
    "Example:\n",
    "\n",
    "from scipy import stats\n",
    "\n",
    "def perform_hypothesis_test(sample1, sample2):\n",
    "    t_statistic, p_value = stats.ttest_ind(sample1, sample2)\n",
    "    return p_value\n",
    "\n",
    "sample1 = [5, 10, 15, 20, 25]\n",
    "sample2 = [10, 20, 30, 40, 50]\n",
    "p_value = perform_hypothesis_test(sample1, sample2)\n",
    "print(\"P-value:\", p_value)\n",
    "\n",
    "Output:\n",
    "P-value: 0.1064706396450037\n",
    "8 points\n"
   ]
  },
  {
   "cell_type": "code",
   "execution_count": 4,
   "id": "34f706d2",
   "metadata": {},
   "outputs": [
    {
     "name": "stdout",
     "output_type": "stream",
     "text": [
      "The P-value is: 0.09434977284243756\n"
     ]
    }
   ],
   "source": [
    "import scipy.stats\n",
    "\n",
    "def perform_hypothesis_test(sample_1, sample_2):\n",
    "  \"\"\"\n",
    "  Performs a two-sample t-test and returns the p-value.\n",
    "\n",
    "  Args:\n",
    "    sample_1: A list of numbers representing the first sample.\n",
    "    sample_2: A list of numbers representing the second sample.\n",
    "\n",
    "  Returns:\n",
    "    The p-value of the two-sample t-test.\n",
    "  \"\"\"\n",
    "\n",
    "  ttest, pvalue = scipy.stats.ttest_ind(sample1, sample2)\n",
    "  return pvalue\n",
    "\n",
    "\n",
    "if __name__ == \"__main__\":\n",
    "    sample1 = [5, 10, 15, 20, 25]\n",
    "    sample2 = [10, 20, 30, 40, 50]\n",
    "    pvalue = perform_hypothesis_test(sample1, sample2)\n",
    "    print(\"The P-value is:\", pvalue)\n"
   ]
  },
  {
   "cell_type": "code",
   "execution_count": null,
   "id": "f2c4818b",
   "metadata": {},
   "outputs": [],
   "source": []
  }
 ],
 "metadata": {
  "kernelspec": {
   "display_name": "Python 3 (ipykernel)",
   "language": "python",
   "name": "python3"
  },
  "language_info": {
   "codemirror_mode": {
    "name": "ipython",
    "version": 3
   },
   "file_extension": ".py",
   "mimetype": "text/x-python",
   "name": "python",
   "nbconvert_exporter": "python",
   "pygments_lexer": "ipython3",
   "version": "3.10.9"
  }
 },
 "nbformat": 4,
 "nbformat_minor": 5
}
