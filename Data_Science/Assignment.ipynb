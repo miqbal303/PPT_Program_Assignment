{
 "cells": [
  {
   "cell_type": "markdown",
   "id": "8d2176c7",
   "metadata": {},
   "source": [
    "**Q1. Write a Python program to reverse a string without using any built-in string reversal functions.**"
   ]
  },
  {
   "cell_type": "code",
   "execution_count": 1,
   "id": "8fe67a95",
   "metadata": {},
   "outputs": [
    {
     "name": "stdout",
     "output_type": "stream",
     "text": [
      "The reversed string is: !dlrow ,olleH\n",
      "The reversed string is: egaugnal gnimmargorp a si nohtyP\n"
     ]
    }
   ],
   "source": [
    "def reverse_string(string):\n",
    "  \"\"\"\n",
    "  Reverses a string without using any built-in string reversal functions.\n",
    "\n",
    "  Args:\n",
    "    string: The string to reverse.\n",
    "\n",
    "  Returns:\n",
    "    A reversed string.\n",
    "  \"\"\"\n",
    "\n",
    "  reversed_string = \"\"  # Initialize an empty string to store the reversed string\n",
    "  for i in range(len(string) - 1, -1, -1):  # Iterate over the indices of the string in reverse order\n",
    "    reversed_string += string[i]  # Append the character at the current index to the reversed string\n",
    "\n",
    "  return reversed_string  # Return the reversed string\n",
    "\n",
    "\n",
    "if __name__ == \"__main__\":\n",
    "  string1 = \"Hello, world!\"  # Test string1\n",
    "  string2 = \"Python is a programming language\" # Test string2\n",
    "    \n",
    "  reversed_string1 = reverse_string(string1) # Call the reverse_string function with the test string\n",
    "  reversed_string2 = reverse_string(string2) \n",
    "  print(\"The reversed string is:\", reversed_string1)\n",
    "  print(\"The reversed string is:\", reversed_string2)"
   ]
  },
  {
   "cell_type": "markdown",
   "id": "daf7d483",
   "metadata": {},
   "source": [
    "***************************************************************************************************************************"
   ]
  },
  {
   "cell_type": "markdown",
   "id": "2c750373",
   "metadata": {},
   "source": [
    "**Q2. Implement a function to check if a given string is a palindrome.**"
   ]
  },
  {
   "cell_type": "code",
   "execution_count": 2,
   "id": "54bcc197",
   "metadata": {},
   "outputs": [
    {
     "name": "stdout",
     "output_type": "stream",
     "text": [
      "String 1: Not Palindrome\n",
      "String 2: Palindrome\n"
     ]
    }
   ],
   "source": [
    "def is_palindrome(string):\n",
    "    \"\"\"\n",
    "    Checks if a string is a palindrome.\n",
    "  \n",
    "    Args:\n",
    "      string: The string to check.\n",
    "  \n",
    "    Returns:\n",
    "      A string indicating whether it is a palindrome or not.\n",
    "    \"\"\"\n",
    "    if string == string[::-1]:  # Compare the original string with its reverse\n",
    "        return \"Palindrome\"  # Return \"Palindrome\" if the string is the same as its reverse\n",
    "    else:\n",
    "        return \"Not Palindrome\"  # Return \"Not Palindrome\" if the string is not the same as its reverse\n",
    "\n",
    "if __name__ == \"__main__\":\n",
    "    string1 = \"Hello, world!\"  # Test string1\n",
    "    string2 = \"eye\"  # Test string2\n",
    "\n",
    "    result1 = is_palindrome(string1)  # Call the is_palindrome function with test string1\n",
    "    result2 = is_palindrome(string2)  # Call the is_palindrome function with test string2\n",
    "\n",
    "    print(\"String 1:\", result1)  # Print the result for test string1\n",
    "    print(\"String 2:\", result2)  # Print the result for test string2\n"
   ]
  },
  {
   "cell_type": "markdown",
   "id": "ad37aca5",
   "metadata": {},
   "source": [
    "***************************************************************************************************************************"
   ]
  },
  {
   "cell_type": "markdown",
   "id": "20d36511",
   "metadata": {},
   "source": [
    "**Q3. Write a program to find the largest element in a given list.**"
   ]
  },
  {
   "cell_type": "code",
   "execution_count": 47,
   "id": "e3adaf69",
   "metadata": {},
   "outputs": [
    {
     "name": "stdout",
     "output_type": "stream",
     "text": [
      "The largest element is: 27\n",
      "The largest element is: 89\n"
     ]
    }
   ],
   "source": [
    "def find_largest_element(lst):\n",
    "    \"\"\"\n",
    "    Finds the largest element in a given list.\n",
    "  \n",
    "    Args:\n",
    "      lst: The list to search for the largest element.\n",
    "  \n",
    "    Returns:\n",
    "      The largest element in the list.\n",
    "    \"\"\"\n",
    "    largest = lst[0]  # Assume the first element as the largest\n",
    "\n",
    "    # Iterate through the remaining elements in the list\n",
    "    for num in lst[1:]:\n",
    "        if num > largest:\n",
    "            largest = num  # Update largest if a larger element is found\n",
    "\n",
    "    return largest\n",
    "\n",
    "if __name__ == \"__main__\":\n",
    "    my_list1 = [10, 5, 27, 8, 15]  # Test list\n",
    "    my_list2 = [69, 89, 79, 8, 15]  # Test list\n",
    "\n",
    "    largest_element1 = find_largest_element(my_list1)  # Call the find_largest_element function with the test list\n",
    "    largest_element2 = find_largest_element(my_list2)\n",
    "\n",
    "    print(\"The largest element is:\", largest_element1)  # Print the largest element\n",
    "    print(\"The largest element is:\", largest_element2)  # Print the largest element\n"
   ]
  },
  {
   "cell_type": "markdown",
   "id": "9e5f6418",
   "metadata": {},
   "source": [
    "***************************************************************************************************************************"
   ]
  },
  {
   "cell_type": "markdown",
   "id": "615b14ad",
   "metadata": {},
   "source": [
    "**Q4. Implement a function to count the occurrence of each element in a list.**"
   ]
  },
  {
   "cell_type": "code",
   "execution_count": 48,
   "id": "fef26510",
   "metadata": {},
   "outputs": [
    {
     "name": "stdout",
     "output_type": "stream",
     "text": [
      "Element Counts: {3: 4, 4: 5}\n",
      "Element Counts: {3: 4, 4: 5}\n"
     ]
    }
   ],
   "source": [
    "def count_elements(lst):\n",
    "    \"\"\"\n",
    "    Counts the occurrence of each element in a list.\n",
    "  \n",
    "    Args:\n",
    "      lst: The list to count the elements.\n",
    "  \n",
    "    Returns:\n",
    "      A dictionary where the keys are the elements and the values are their counts.\n",
    "    \"\"\"\n",
    "    counts = {}  # Create an empty dictionary to store the element counts\n",
    "\n",
    "    for element in lst:\n",
    "        if element in counts:\n",
    "            counts[element] += 1  # If the element is already in the dictionary, increment its count\n",
    "        else:\n",
    "            counts[element] = 1  # If the element is not in the dictionary, add it with a count of 1\n",
    "\n",
    "    return counts\n",
    "\n",
    "if __name__ == \"__main__\":\n",
    "    my_list1 = [1, 2, 3, 2, 1, 3, 1, 1, 4]  # Test list\n",
    "    my_list2 = [3, 3, 3, 3, 4, 4, 4, 4, 4]\n",
    "\n",
    "    element_counts1 = count_elements(my_list2)  # Call the count_elements function with the test list\n",
    "    element_counts2 = count_elements(my_list2)  \n",
    "\n",
    "    print(\"Element Counts:\", element_counts1)  # Print the element counts dictionary\n",
    "    print(\"Element Counts:\", element_counts2)\n"
   ]
  },
  {
   "cell_type": "markdown",
   "id": "28d4b13a",
   "metadata": {},
   "source": [
    "***************************************************************************************************************************"
   ]
  },
  {
   "cell_type": "markdown",
   "id": "0da1e5ae",
   "metadata": {},
   "source": [
    "**Q5. Write a Python program to find the second largest number in a list.**"
   ]
  },
  {
   "cell_type": "code",
   "execution_count": 5,
   "id": "e78d6a9a",
   "metadata": {},
   "outputs": [
    {
     "name": "stdout",
     "output_type": "stream",
     "text": [
      "The second largest number is: 15\n"
     ]
    }
   ],
   "source": [
    "def find_second_largest(lst):\n",
    "    \"\"\"\n",
    "    Finds the second largest number in a list.\n",
    "  \n",
    "    Args:\n",
    "      lst: The list to search for the second largest number.\n",
    "  \n",
    "    Returns:\n",
    "      The second largest number in the list.\n",
    "    \"\"\"\n",
    "    if len(lst) < 2:\n",
    "        return \"List should have at least two elements\"\n",
    "    \n",
    "    largest = max(lst[0], lst[1])  # Assume the first two elements as the largest and second largest\n",
    "    \n",
    "    second_largest = min(lst[0], lst[1])  # Assume the first two elements as the second largest and largest\n",
    "    \n",
    "    for num in lst[2:]:  # Iterate through the remaining elements in the list\n",
    "        if num > largest:\n",
    "            second_largest = largest  # Update the second largest and largest accordingly\n",
    "            largest = num\n",
    "        elif num > second_largest:\n",
    "            second_largest = num\n",
    "    \n",
    "    return second_largest\n",
    "\n",
    "if __name__ == \"__main__\":\n",
    "    my_list = [10, 5, 27, 8, 15]  # Test list\n",
    "\n",
    "    second_largest_number = find_second_largest(my_list)  # Call the find_second_largest function with the test list\n",
    "\n",
    "    print(\"The second largest number is:\", second_largest_number)  # Print the second largest number"
   ]
  },
  {
   "cell_type": "markdown",
   "id": "4336f3b3",
   "metadata": {},
   "source": [
    "***************************************************************************************************************************"
   ]
  },
  {
   "cell_type": "markdown",
   "id": "42f8067b",
   "metadata": {},
   "source": [
    "**Q6. Implement a function to remove duplicate elements from a list.**"
   ]
  },
  {
   "cell_type": "code",
   "execution_count": 3,
   "id": "a08855d9",
   "metadata": {},
   "outputs": [
    {
     "name": "stdout",
     "output_type": "stream",
     "text": [
      "Unique Elements: [1, 2, 3, 5, 4]\n"
     ]
    }
   ],
   "source": [
    "def remove_duplicates(lst):\n",
    "    \"\"\"\n",
    "    Removes duplicate elements from a list.\n",
    "  \n",
    "    Args:\n",
    "      lst: The list to remove duplicates from.\n",
    "  \n",
    "    Returns:\n",
    "      A new list with duplicate elements removed.\n",
    "    \"\"\"\n",
    "    unique_list = []  # Create an empty list to store the unique elements\n",
    "\n",
    "    for element in lst:\n",
    "        if element not in unique_list:\n",
    "            unique_list.append(element)  # Append the element to unique_list if it is not already present\n",
    "\n",
    "    return unique_list\n",
    "\n",
    "if __name__ == \"__main__\":\n",
    "    my_list = [1, 2, 3, 2, 1, 3, 5, 1, 4,5,5]  # Test list\n",
    "\n",
    "    unique_elements = remove_duplicates(my_list)  # Call the remove_duplicates function with the test list\n",
    "\n",
    "    print(\"Unique Elements:\", unique_elements)  # Print the list with duplicate elements removed\n"
   ]
  },
  {
   "cell_type": "markdown",
   "id": "d0eee3ea",
   "metadata": {},
   "source": [
    "***************************************************************************************************************************"
   ]
  },
  {
   "cell_type": "markdown",
   "id": "b1e81dc2",
   "metadata": {},
   "source": [
    "**Q7. Write a program to calculate the factorial of a given number.**"
   ]
  },
  {
   "cell_type": "code",
   "execution_count": 4,
   "id": "817699a6",
   "metadata": {},
   "outputs": [
    {
     "name": "stdout",
     "output_type": "stream",
     "text": [
      "The factorial of 5 is: 120\n",
      "The factorial of 6 is: 720\n"
     ]
    }
   ],
   "source": [
    "def factorial(n):\n",
    "    \"\"\"\n",
    "    Calculates the factorial of a given number.\n",
    "  \n",
    "    Args:\n",
    "      n: The number to calculate the factorial of.\n",
    "  \n",
    "    Returns:\n",
    "      The factorial of the given number.\n",
    "    \"\"\"\n",
    "    if n < 0:\n",
    "        return \"Factorial is not defined for negative numbers\"\n",
    "    elif n == 0 or n == 1:\n",
    "        return 1\n",
    "    else:\n",
    "        result = 1\n",
    "        for i in range(2, n+1):\n",
    "            result *= i\n",
    "        return result\n",
    "\n",
    "if __name__ == \"__main__\":\n",
    "    number1 = 5  # Test number\n",
    "    number2 = 6\n",
    "\n",
    "    factorial_result1 = factorial(number1)  # Call the factorial function with the test number\n",
    "    factorial_result2 = factorial(number2)\n",
    "\n",
    "    print(\"The factorial of\", number1, \"is:\", factorial_result1) \n",
    "    print(\"The factorial of\", number2, \"is:\", factorial_result2)\n"
   ]
  },
  {
   "cell_type": "markdown",
   "id": "b4f4e548",
   "metadata": {},
   "source": [
    "***************************************************************************************************************************"
   ]
  },
  {
   "cell_type": "markdown",
   "id": "f3c65a99",
   "metadata": {},
   "source": [
    "**Q8. Implement a function to check if a given number is prime.**"
   ]
  },
  {
   "cell_type": "code",
   "execution_count": 6,
   "id": "9046324d",
   "metadata": {},
   "outputs": [
    {
     "name": "stdout",
     "output_type": "stream",
     "text": [
      "17 is prime\n"
     ]
    }
   ],
   "source": [
    "def is_prime(n):\n",
    "    \"\"\"\n",
    "    Checks if a given number is prime.\n",
    "  \n",
    "    Args:\n",
    "      n: The number to check.\n",
    "  \n",
    "    Returns:\n",
    "      True if the number is prime, False otherwise.\n",
    "    \"\"\"\n",
    "    if n <= 1:\n",
    "        return False  # Numbers less than or equal to 1 are not prime\n",
    "\n",
    "    # Check for divisibility from 2 to the square root of n\n",
    "    for i in range(2, int(n**0.5) + 1):\n",
    "        if n % i == 0:\n",
    "            return False  # If n is divisible by any number, it is not prime\n",
    "\n",
    "    return True  # If no divisors are found, the number is prime\n",
    "\n",
    "if __name__ == \"__main__\":\n",
    "    number = 17  # Test number\n",
    "    #number = 16\n",
    "\n",
    "    is_prime_result = is_prime(number)  # Call the is_prime function with the test number\n",
    "\n",
    "    if is_prime_result:\n",
    "        print(number, \"is prime\")  # Print the result if the number is prime\n",
    "    else:\n",
    "        print(number, \"is not prime\")  # Print the result if the number is not prime\n"
   ]
  },
  {
   "cell_type": "markdown",
   "id": "e3344479",
   "metadata": {},
   "source": [
    "***************************************************************************************************************************"
   ]
  },
  {
   "cell_type": "markdown",
   "id": "fedfd83d",
   "metadata": {},
   "source": [
    "**Q9. Write a Python program to sort a list of integers in ascending order.**"
   ]
  },
  {
   "cell_type": "code",
   "execution_count": 9,
   "id": "8d38adc4",
   "metadata": {},
   "outputs": [
    {
     "name": "stdout",
     "output_type": "stream",
     "text": [
      "Sorted List: [1, 3, 5, 8, 10]\n"
     ]
    }
   ],
   "source": [
    "def sort_list(lst):\n",
    "    \"\"\"\n",
    "    Sorts a list of integers in ascending order.\n",
    "  \n",
    "    Args:\n",
    "      lst: The list of integers to sort.\n",
    "  \n",
    "    Returns:\n",
    "      A new list with integers sorted in ascending order.\n",
    "    \"\"\"\n",
    "    sorted_list = lst.copy()  # copy of the original list\n",
    "\n",
    "    sorted_list.sort()  # Sort the list in ascending order\n",
    "\n",
    "    return sorted_list\n",
    "\n",
    "if __name__ == \"__main__\":\n",
    "    my_list = [10, 5, 8, 3, 1]  # Test list\n",
    "\n",
    "    sorted_list = sort_list(my_list)  # Call the sort_list function with the test list\n",
    "\n",
    "    print(\"Sorted List:\", sorted_list)  # Print the sorted list\n"
   ]
  },
  {
   "cell_type": "markdown",
   "id": "cbedd593",
   "metadata": {},
   "source": [
    "***************************************************************************************************************************"
   ]
  },
  {
   "cell_type": "markdown",
   "id": "24182b55",
   "metadata": {},
   "source": [
    "**Q10. Implement a function to find the sum of all numbers in a list.**"
   ]
  },
  {
   "cell_type": "code",
   "execution_count": 10,
   "id": "9cc4d0d6",
   "metadata": {},
   "outputs": [
    {
     "name": "stdout",
     "output_type": "stream",
     "text": [
      "Sum of the list: 15\n"
     ]
    }
   ],
   "source": [
    "def sum_of_list(lst):\n",
    "    \"\"\"\n",
    "    Finds the sum of all numbers in a list.\n",
    "  \n",
    "    Args:\n",
    "      lst: The list of numbers.\n",
    "  \n",
    "    Returns:\n",
    "      The sum of all numbers in the list.\n",
    "    \"\"\"\n",
    "    total_sum = 0  # Initialize the sum to zero\n",
    "\n",
    "    for num in lst:\n",
    "        total_sum += num  # Add each number to the sum\n",
    "\n",
    "    return total_sum\n",
    "\n",
    "if __name__ == \"__main__\":\n",
    "    my_list = [1, 2, 3, 4, 5]  # Test list\n",
    "\n",
    "    list_sum = sum_of_list(my_list)  # Call the sum_of_list function with the test list\n",
    "\n",
    "    print(\"Sum of the list:\", list_sum)  # Print the sum of the list\n"
   ]
  },
  {
   "cell_type": "markdown",
   "id": "f229c5c8",
   "metadata": {},
   "source": [
    "**Q11. Write a program to find the common elements between two lists.**"
   ]
  },
  {
   "cell_type": "code",
   "execution_count": 11,
   "id": "e6fb52f0",
   "metadata": {},
   "outputs": [
    {
     "name": "stdout",
     "output_type": "stream",
     "text": [
      "Common Elements: [4, 5]\n"
     ]
    }
   ],
   "source": [
    "def find_common_elements(list1, list2):\n",
    "    \"\"\"\n",
    "    Finds the common elements between two lists.\n",
    "  \n",
    "    Args:\n",
    "      list1: The first list.\n",
    "      list2: The second list.\n",
    "  \n",
    "    Returns:\n",
    "      A new list containing the common elements between the two lists.\n",
    "    \"\"\"\n",
    "    common_elements = []  # Create an empty list to store the common elements\n",
    "\n",
    "    for element in list1:\n",
    "        if element in list2:\n",
    "            common_elements.append(element)  # Append the element to common_elements if it is present in both lists\n",
    "\n",
    "    return common_elements\n",
    "\n",
    "if __name__ == \"__main__\":\n",
    "    list1 = [1, 2, 3, 4, 5]  # Test list 1\n",
    "    list2 = [4, 5, 6, 7, 8]  # Test list 2\n",
    "\n",
    "    common_elements = find_common_elements(list1, list2)  \n",
    "\n",
    "    print(\"Common Elements:\", common_elements) \n"
   ]
  },
  {
   "cell_type": "markdown",
   "id": "97830039",
   "metadata": {},
   "source": [
    "***************************************************************************************************************************"
   ]
  },
  {
   "cell_type": "markdown",
   "id": "6e697dc1",
   "metadata": {},
   "source": [
    "**Q12. Implement a function to check if a given string is an anagram of another string.**"
   ]
  },
  {
   "attachments": {},
   "cell_type": "markdown",
   "id": "271c6d60",
   "metadata": {},
   "source": [
    "<img src='https://miro.medium.com/v2/resize:fit:1400/0*MnkyuT07R3uveIlb'>"
   ]
  },
  {
   "cell_type": "code",
   "execution_count": 12,
   "id": "55bc7b34",
   "metadata": {},
   "outputs": [
    {
     "name": "stdout",
     "output_type": "stream",
     "text": [
      "listen and silent are anagrams.\n"
     ]
    }
   ],
   "source": [
    "def is_anagram(string1, string2):\n",
    "    \"\"\"\n",
    "    Checks if a given string is an anagram of another string.\n",
    "  \n",
    "    Args:\n",
    "      string1: The first string.\n",
    "      string2: The second string.\n",
    "  \n",
    "    Returns:\n",
    "      True if the strings are anagrams, False otherwise.\n",
    "    \"\"\"\n",
    "    # Convert both strings to lowercase and remove whitespace\n",
    "    string1 = string1.lower().replace(\" \", \"\")\n",
    "    string2 = string2.lower().replace(\" \", \"\")\n",
    "\n",
    "    # Check if the lengths of the strings are equal\n",
    "    if len(string1) != len(string2):\n",
    "        return False\n",
    "\n",
    "    # Sort the characters of both strings\n",
    "    sorted_string1 = sorted(string1)\n",
    "    sorted_string2 = sorted(string2)\n",
    "\n",
    "    # Compare the sorted strings\n",
    "    if sorted_string1 == sorted_string2:\n",
    "        return True\n",
    "    else:\n",
    "        return False\n",
    "\n",
    "if __name__ == \"__main__\":\n",
    "    str1 = \"listen\"  # Test string 1\n",
    "    str2 = \"silent\"  # Test string 2\n",
    "\n",
    "    is_anagram_result = is_anagram(str1, str2)  # Call the is_anagram function with the two test strings\n",
    "\n",
    "    if is_anagram_result:\n",
    "        print(str1, \"and\", str2, \"are anagrams.\")  # Print the result if the strings are anagrams\n",
    "    else:\n",
    "        print(str1, \"and\", str2, \"are not anagrams.\")  # Print the result if the strings are not anagrams\n"
   ]
  },
  {
   "cell_type": "markdown",
   "id": "af028dda",
   "metadata": {},
   "source": [
    "***************************************************************************************************************************"
   ]
  },
  {
   "cell_type": "markdown",
   "id": "a425e8ac",
   "metadata": {},
   "source": [
    "**Q13. Write a Python program to generate all permutations of a given string.**"
   ]
  },
  {
   "cell_type": "markdown",
   "id": "9114f2ed",
   "metadata": {},
   "source": [
    "<img src= 'https://prepinsta.com/wp-content/uploads/2020/07/Permutation2.webp'>"
   ]
  },
  {
   "cell_type": "code",
   "execution_count": 13,
   "id": "e65e6ad5",
   "metadata": {},
   "outputs": [
    {
     "name": "stdout",
     "output_type": "stream",
     "text": [
      "Permutations of abc :\n",
      "abc\n",
      "acb\n",
      "bac\n",
      "bca\n",
      "cab\n",
      "cba\n"
     ]
    }
   ],
   "source": [
    "from itertools import permutations\n",
    "\n",
    "def generate_permutations(string):\n",
    "    \"\"\"\n",
    "    Generates all permutations of a given string.\n",
    "  \n",
    "    Args:\n",
    "      string: The string to generate permutations for.\n",
    "  \n",
    "    Returns:\n",
    "      A list of all permutations of the string.\n",
    "    \"\"\"\n",
    "    # Use the permutations function from itertools\n",
    "    perms = permutations(string)\n",
    "\n",
    "    # Convert the permutations iterator to a list of strings\n",
    "    perm_list = [''.join(perm) for perm in perms]\n",
    "\n",
    "    return perm_list\n",
    "\n",
    "if __name__ == \"__main__\":\n",
    "    input_string = \"abc\"  # Test string\n",
    "\n",
    "    permutations_list = generate_permutations(input_string)  # Call the generate_permutations function with the test string\n",
    "\n",
    "    print(\"Permutations of\", input_string, \":\")\n",
    "    for perm in permutations_list:\n",
    "        print(perm)  # Print each permutation\n"
   ]
  },
  {
   "cell_type": "markdown",
   "id": "44c8fc7d",
   "metadata": {},
   "source": [
    "***************************************************************************************************************************"
   ]
  },
  {
   "cell_type": "markdown",
   "id": "9995aaaa",
   "metadata": {},
   "source": [
    "**Q14. Implement a function to calculate the Fibonacci sequence up to a given number of terms.**"
   ]
  },
  {
   "cell_type": "markdown",
   "id": "0c4e51e4",
   "metadata": {},
   "source": [
    "<img src = 'https://mocomi.com/wp-content/uploads/2016/11/MOC_GIFO_Fibonacci-Sequence.gif'>"
   ]
  },
  {
   "cell_type": "code",
   "execution_count": 14,
   "id": "6ddf89f9",
   "metadata": {},
   "outputs": [
    {
     "name": "stdout",
     "output_type": "stream",
     "text": [
      "Fibonacci sequence with 10 terms:\n",
      "[0, 1, 1, 2, 3, 5, 8, 13, 21, 34]\n"
     ]
    }
   ],
   "source": [
    "def fibonacci_sequence(n):\n",
    "    \"\"\"\n",
    "    Calculates the Fibonacci sequence up to a given number of terms.\n",
    "  \n",
    "    Args:\n",
    "      n: The number of terms in the Fibonacci sequence.\n",
    "  \n",
    "    Returns:\n",
    "      A list containing the Fibonacci sequence.\n",
    "    \"\"\"\n",
    "    sequence = []  # Initialize an empty list to store the Fibonacci sequence\n",
    "\n",
    "    if n <= 0:\n",
    "        return sequence\n",
    "\n",
    "    # Add the first and second terms to the sequence\n",
    "    sequence.append(0)\n",
    "    if n > 1:\n",
    "        sequence.append(1)\n",
    "\n",
    "    # Calculate the subsequent terms of the Fibonacci sequence\n",
    "    while len(sequence) < n:\n",
    "        next_term = sequence[-1] + sequence[-2]\n",
    "        sequence.append(next_term)\n",
    "\n",
    "    return sequence\n",
    "\n",
    "if __name__ == \"__main__\":\n",
    "    num_terms = 10  # Number of terms in the Fibonacci sequence\n",
    "\n",
    "    fibonacci_sequence_list = fibonacci_sequence(num_terms)  # Call the fibonacci_sequence function with the number of terms\n",
    "\n",
    "    print(\"Fibonacci sequence with\", num_terms, \"terms:\")\n",
    "    print(fibonacci_sequence_list)  # Print the Fibonacci sequence\n"
   ]
  },
  {
   "cell_type": "markdown",
   "id": "6851f75f",
   "metadata": {},
   "source": [
    "***************************************************************************************************************************"
   ]
  },
  {
   "cell_type": "markdown",
   "id": "4e0e773e",
   "metadata": {},
   "source": [
    "**Q15. Write a program to find the median of a list of numbers.**"
   ]
  },
  {
   "cell_type": "code",
   "execution_count": 15,
   "id": "7402dea2",
   "metadata": {},
   "outputs": [
    {
     "name": "stdout",
     "output_type": "stream",
     "text": [
      "Median: 4.0\n"
     ]
    }
   ],
   "source": [
    "def find_median(numbers):\n",
    "    \"\"\"\n",
    "    Finds the median of a list of numbers.\n",
    "  \n",
    "    Args:\n",
    "      numbers: The list of numbers.\n",
    "  \n",
    "    Returns:\n",
    "      The median of the list.\n",
    "    \"\"\"\n",
    "    sorted_numbers = sorted(numbers)  # Sort the list in ascending order\n",
    "    length = len(sorted_numbers)  # Get the length of the list\n",
    "\n",
    "    if length % 2 == 1:\n",
    "        # If the length is odd, return the middle element\n",
    "        median = sorted_numbers[length // 2]\n",
    "    else:\n",
    "        # If the length is even, return the average of the two middle elements\n",
    "        middle_right = length // 2\n",
    "        middle_left = middle_right - 1\n",
    "        median = (sorted_numbers[middle_left] + sorted_numbers[middle_right]) / 2\n",
    "\n",
    "    return median\n",
    "\n",
    "if __name__ == \"__main__\":\n",
    "    number_list = [7, 2, 5, 1, 9, 3]  # Test list of numbers\n",
    "\n",
    "    median_value = find_median(number_list)  # Call the find_median function with the test list\n",
    "\n",
    "    print(\"Median:\", median_value)  # Print the median value\n"
   ]
  },
  {
   "cell_type": "markdown",
   "id": "5ac6ae16",
   "metadata": {},
   "source": [
    "***************************************************************************************************************************"
   ]
  },
  {
   "cell_type": "markdown",
   "id": "21609120",
   "metadata": {},
   "source": [
    "**Q16. Implement a function to check if a given list is sorted in non-decreasing order.**"
   ]
  },
  {
   "cell_type": "code",
   "execution_count": 16,
   "id": "fd58447a",
   "metadata": {},
   "outputs": [
    {
     "name": "stdout",
     "output_type": "stream",
     "text": [
      "The list is sorted in non-decreasing order.\n"
     ]
    }
   ],
   "source": [
    "def is_sorted(numbers):\n",
    "    \"\"\"\n",
    "    Checks if a given list is sorted in non-decreasing order.\n",
    "  \n",
    "    Args:\n",
    "      numbers: The list of numbers.\n",
    "  \n",
    "    Returns:\n",
    "      True if the list is sorted in non-decreasing order, False otherwise.\n",
    "    \"\"\"\n",
    "    # Check if each element is less than or equal to the next element\n",
    "    for i in range(len(numbers) - 1):\n",
    "        if numbers[i] > numbers[i + 1]:\n",
    "            return False\n",
    "\n",
    "    return True\n",
    "\n",
    "if __name__ == \"__main__\":\n",
    "    number_list = [1, 3, 5, 7, 9]  # Test list of numbers\n",
    "\n",
    "    is_sorted_result = is_sorted(number_list)  # Call the is_sorted function with the test list\n",
    "\n",
    "    if is_sorted_result:\n",
    "        print(\"The list is sorted in non-decreasing order.\")\n",
    "    else:\n",
    "        print(\"The list is not sorted in non-decreasing order.\")\n"
   ]
  },
  {
   "cell_type": "markdown",
   "id": "e56adad1",
   "metadata": {},
   "source": [
    "***************************************************************************************************************************"
   ]
  },
  {
   "cell_type": "markdown",
   "id": "cfd3038d",
   "metadata": {},
   "source": [
    "**Q17. Write a Python program to find the intersection of two lists.**"
   ]
  },
  {
   "cell_type": "code",
   "execution_count": 17,
   "id": "9f669944",
   "metadata": {},
   "outputs": [
    {
     "name": "stdout",
     "output_type": "stream",
     "text": [
      "Intersection: [4, 5]\n"
     ]
    }
   ],
   "source": [
    "def find_intersection(list1, list2):\n",
    "    \"\"\"\n",
    "    Finds the intersection of two lists.\n",
    "  \n",
    "    Args:\n",
    "      list1: The first list.\n",
    "      list2: The second list.\n",
    "  \n",
    "    Returns:\n",
    "      A list containing the intersection of the two lists.\n",
    "    \"\"\"\n",
    "    intersection = []\n",
    "\n",
    "    # Iterate through elements in list1\n",
    "    for item in list1:\n",
    "        # Check if item is in list2 and not already in the intersection list\n",
    "        if item in list2 and item not in intersection:\n",
    "            intersection.append(item)\n",
    "\n",
    "    return intersection\n",
    "\n",
    "if __name__ == \"__main__\":\n",
    "    list1 = [1, 2, 3, 4, 5]\n",
    "    list2 = [4, 5, 6, 7, 8]\n",
    "\n",
    "    intersection_list = find_intersection(list1, list2)\n",
    "\n",
    "    print(\"Intersection:\", intersection_list)\n"
   ]
  },
  {
   "cell_type": "markdown",
   "id": "c1641623",
   "metadata": {},
   "source": [
    "***************************************************************************************************************************"
   ]
  },
  {
   "cell_type": "markdown",
   "id": "afc00132",
   "metadata": {},
   "source": [
    "**Q18. Implement a function to find the maximum subarray sum in a given list.**"
   ]
  },
  {
   "cell_type": "code",
   "execution_count": 18,
   "id": "e580a55d",
   "metadata": {},
   "outputs": [
    {
     "name": "stdout",
     "output_type": "stream",
     "text": [
      "Maximum subarray sum: 6\n"
     ]
    }
   ],
   "source": [
    "def find_maximum_subarray_sum(numbers):\n",
    "    \"\"\"\n",
    "    Finds the maximum subarray sum in a given list.\n",
    "  \n",
    "    Args:\n",
    "      numbers: The list of numbers.\n",
    "  \n",
    "    Returns:\n",
    "      The maximum subarray sum.\n",
    "    \"\"\"\n",
    "    if not numbers:\n",
    "        return 0\n",
    "\n",
    "    current_sum = max_sum = numbers[0]\n",
    "\n",
    "    for num in numbers[1:]:\n",
    "        current_sum = max(num, current_sum + num)\n",
    "        max_sum = max(max_sum, current_sum)\n",
    "\n",
    "    return max_sum\n",
    "\n",
    "if __name__ == \"__main__\":\n",
    "    number_list = [-2, 1, -3, 4, -1, 2, 1, -5, 4]  # Test list of numbers\n",
    "\n",
    "    maximum_subarray_sum = find_maximum_subarray_sum(number_list)  # Call the find_maximum_subarray_sum function with the test list\n",
    "\n",
    "    print(\"Maximum subarray sum:\", maximum_subarray_sum)  # Print the maximum subarray sum\n"
   ]
  },
  {
   "cell_type": "markdown",
   "id": "70245e3b",
   "metadata": {},
   "source": [
    "***************************************************************************************************************************"
   ]
  },
  {
   "cell_type": "markdown",
   "id": "e3c6281c",
   "metadata": {},
   "source": [
    "**Q19. Write a program to remove all vowels from a given string.**"
   ]
  },
  {
   "cell_type": "code",
   "execution_count": 19,
   "id": "d26760ba",
   "metadata": {},
   "outputs": [
    {
     "name": "stdout",
     "output_type": "stream",
     "text": [
      "String without vowels: Hll, Wrld!\n"
     ]
    }
   ],
   "source": [
    "def remove_vowels(string):\n",
    "    \"\"\"\n",
    "    Removes all vowels from a given string.\n",
    "\n",
    "    Args:\n",
    "      string: The input string.\n",
    "\n",
    "    Returns:\n",
    "      The string with vowels removed.\n",
    "    \"\"\"\n",
    "    vowels = ['a', 'e', 'i', 'o', 'u', 'A', 'E', 'I', 'O', 'U']\n",
    "    string_without_vowels = \"\"\n",
    "\n",
    "    for char in string:\n",
    "        if char not in vowels:\n",
    "            string_without_vowels += char\n",
    "\n",
    "    return string_without_vowels\n",
    "\n",
    "if __name__ == \"__main__\":\n",
    "    input_string = \"Hello, World!\"  # Test string\n",
    "\n",
    "    result_string = remove_vowels(input_string)  # Call the remove_vowels function with the test string\n",
    "\n",
    "    print(\"String without vowels:\", result_string)  # Print the string without vowels\n"
   ]
  },
  {
   "cell_type": "markdown",
   "id": "c9d16624",
   "metadata": {},
   "source": [
    "***************************************************************************************************************************"
   ]
  },
  {
   "cell_type": "markdown",
   "id": "2c59c29c",
   "metadata": {},
   "source": [
    "**Q20. Implement a function to reverse the order of words in a given sentence.**"
   ]
  },
  {
   "cell_type": "code",
   "execution_count": 20,
   "id": "05413c8e",
   "metadata": {},
   "outputs": [
    {
     "name": "stdout",
     "output_type": "stream",
     "text": [
      "Reversed sentence: sentence. a is This world! Hello,\n"
     ]
    }
   ],
   "source": [
    "def reverse_sentence(sentence):\n",
    "    \"\"\"\n",
    "    Reverses the order of words in a given sentence.\n",
    "\n",
    "    Args:\n",
    "      sentence: The input sentence.\n",
    "\n",
    "    Returns:\n",
    "      The sentence with words reversed.\n",
    "    \"\"\"\n",
    "    words = sentence.split()  # Split the sentence into words\n",
    "    reversed_words = words[::-1]  # Reverse the order of words\n",
    "\n",
    "    reversed_sentence = ' '.join(reversed_words)  # Join the reversed words with spaces\n",
    "\n",
    "    return reversed_sentence\n",
    "\n",
    "if __name__ == \"__main__\":\n",
    "    input_sentence = \"Hello, world! This is a sentence.\"  # Test sentence\n",
    "\n",
    "    result_sentence = reverse_sentence(input_sentence)  # Call the reverse_sentence function with the test sentence\n",
    "\n",
    "    print(\"Reversed sentence:\", result_sentence)  # Print the reversed sentence\n"
   ]
  },
  {
   "cell_type": "markdown",
   "id": "b5aea859",
   "metadata": {},
   "source": [
    "***************************************************************************************************************************"
   ]
  },
  {
   "cell_type": "markdown",
   "id": "05a6b20f",
   "metadata": {},
   "source": [
    "**Q21. Write a Python program to check if two strings are anagrams of each other.**"
   ]
  },
  {
   "cell_type": "code",
   "execution_count": 21,
   "id": "e8b18d40",
   "metadata": {},
   "outputs": [
    {
     "name": "stdout",
     "output_type": "stream",
     "text": [
      "The strings are anagrams.\n"
     ]
    }
   ],
   "source": [
    "def are_anagrams(string1, string2):\n",
    "    \"\"\"\n",
    "    Checks if two strings are anagrams of each other.\n",
    "\n",
    "    Args:\n",
    "      string1: The first string.\n",
    "      string2: The second string.\n",
    "\n",
    "    Returns:\n",
    "      True if the strings are anagrams, False otherwise.\n",
    "    \"\"\"\n",
    "    # Convert the strings to lowercase and remove whitespace\n",
    "    string1 = string1.lower().replace(\" \", \"\")\n",
    "    string2 = string2.lower().replace(\" \", \"\")\n",
    "\n",
    "    # Check if the sorted characters of the strings are equal\n",
    "    return sorted(string1) == sorted(string2)\n",
    "\n",
    "if __name__ == \"__main__\":\n",
    "    input_string1 = \"listen\"  # Test string 1\n",
    "    input_string2 = \"silent\"  # Test string 2\n",
    "\n",
    "    if are_anagrams(input_string1, input_string2):\n",
    "        print(\"The strings are anagrams.\")\n",
    "    else:\n",
    "        print(\"The strings are not anagrams.\")\n"
   ]
  },
  {
   "cell_type": "markdown",
   "id": "cd21ed0a",
   "metadata": {},
   "source": [
    "***************************************************************************************************************************"
   ]
  },
  {
   "cell_type": "markdown",
   "id": "56a68122",
   "metadata": {},
   "source": [
    "**Q22. Implement a function to find the first non-repeating character in a string.**"
   ]
  },
  {
   "cell_type": "code",
   "execution_count": 22,
   "id": "831a36ad",
   "metadata": {},
   "outputs": [
    {
     "name": "stdout",
     "output_type": "stream",
     "text": [
      "First non-repeating character: c\n"
     ]
    }
   ],
   "source": [
    "def find_first_non_repeating_char(string):\n",
    "    \"\"\"\n",
    "    Finds the first non-repeating character in a given string.\n",
    "\n",
    "    Args:\n",
    "      string: The input string.\n",
    "\n",
    "    Returns:\n",
    "      The first non-repeating character, or None if there is no non-repeating character.\n",
    "    \"\"\"\n",
    "    char_counts = {}  # Dictionary to store the counts of characters\n",
    "\n",
    "    # Count the occurrences of each character in the string\n",
    "    for char in string:\n",
    "        char_counts[char] = char_counts.get(char, 0) + 1\n",
    "\n",
    "    # Find the first character with count 1\n",
    "    for char in string:\n",
    "        if char_counts[char] == 1:\n",
    "            return char\n",
    "\n",
    "    return None  # Return None if no non-repeating character is found\n",
    "\n",
    "if __name__ == \"__main__\":\n",
    "    input_string = \"abbcadde\"  # Test string\n",
    "\n",
    "    first_non_repeating_char = find_first_non_repeating_char(input_string)  # Call the find_first_non_repeating_char function with the test string\n",
    "\n",
    "    if first_non_repeating_char is not None:\n",
    "        print(\"First non-repeating character:\", first_non_repeating_char)\n",
    "    else:\n",
    "        print(\"No non-repeating character found.\")\n"
   ]
  },
  {
   "cell_type": "markdown",
   "id": "b881893c",
   "metadata": {},
   "source": [
    "***************************************************************************************************************************"
   ]
  },
  {
   "cell_type": "markdown",
   "id": "1ec8f20f",
   "metadata": {},
   "source": [
    "**Q23. Write a program to find the prime factors of a given number.**"
   ]
  },
  {
   "cell_type": "code",
   "execution_count": 23,
   "id": "55d1fb76",
   "metadata": {},
   "outputs": [
    {
     "name": "stdout",
     "output_type": "stream",
     "text": [
      "Prime factors of 84 are: [2, 2, 3, 7]\n"
     ]
    }
   ],
   "source": [
    "def find_prime_factors(number):\n",
    "    \"\"\"\n",
    "    Finds the prime factors of a given number.\n",
    "\n",
    "    Args:\n",
    "      number: The input number.\n",
    "\n",
    "    Returns:\n",
    "      A list of prime factors of the number.\n",
    "    \"\"\"\n",
    "    prime_factors = []  # List to store the prime factors\n",
    "\n",
    "    # Check divisibility by 2\n",
    "    while number % 2 == 0:\n",
    "        prime_factors.append(2)\n",
    "        number //= 2\n",
    "\n",
    "    # Check divisibility by odd numbers\n",
    "    factor = 3\n",
    "    while factor * factor <= number:\n",
    "        if number % factor == 0:\n",
    "            prime_factors.append(factor)\n",
    "            number //= factor\n",
    "        else:\n",
    "            factor += 2\n",
    "\n",
    "    # If the remaining number is greater than 1, it is a prime factor\n",
    "    if number > 1:\n",
    "        prime_factors.append(number)\n",
    "\n",
    "    return prime_factors\n",
    "\n",
    "if __name__ == \"__main__\":\n",
    "    input_number = 84  # Test number\n",
    "\n",
    "    prime_factors = find_prime_factors(input_number)  # Call the find_prime_factors function with the test number\n",
    "\n",
    "    print(\"Prime factors of\", input_number, \"are:\", prime_factors)\n"
   ]
  },
  {
   "cell_type": "markdown",
   "id": "668c3492",
   "metadata": {},
   "source": [
    "***************************************************************************************************************************"
   ]
  },
  {
   "cell_type": "markdown",
   "id": "1a2d60c2",
   "metadata": {},
   "source": [
    "**Q24. Implement a function to check if a given number is a power of two.**"
   ]
  },
  {
   "cell_type": "code",
   "execution_count": 24,
   "id": "6108969e",
   "metadata": {},
   "outputs": [
    {
     "name": "stdout",
     "output_type": "stream",
     "text": [
      "16 is a power of two.\n"
     ]
    }
   ],
   "source": [
    "def is_power_of_two(number):\n",
    "    \"\"\"\n",
    "    Checks if a given number is a power of two.\n",
    "\n",
    "    Args:\n",
    "      number: The input number.\n",
    "\n",
    "    Returns:\n",
    "      True if the number is a power of two, False otherwise.\n",
    "    \"\"\"\n",
    "    if number <= 0:\n",
    "        return False\n",
    "\n",
    "    # A power of two has only one bit set in its binary representation\n",
    "    # So, if we subtract 1 from a power of two, all bits will be set to 1\n",
    "    # Therefore, bitwise AND of the number and (number - 1) should be zero\n",
    "    return (number & (number - 1)) == 0\n",
    "\n",
    "if __name__ == \"__main__\":\n",
    "    input_number = 16  # Test number\n",
    "\n",
    "    if is_power_of_two(input_number):\n",
    "        print(input_number, \"is a power of two.\")\n",
    "    else:\n",
    "        print(input_number, \"is not a power of two.\")\n"
   ]
  },
  {
   "cell_type": "markdown",
   "id": "e03a1528",
   "metadata": {},
   "source": [
    "***************************************************************************************************************************"
   ]
  },
  {
   "cell_type": "markdown",
   "id": "63157a3b",
   "metadata": {},
   "source": [
    "**Q25. Write a Python program to merge two sorted lists into a single sorted list.**"
   ]
  },
  {
   "cell_type": "code",
   "execution_count": 25,
   "id": "62803070",
   "metadata": {},
   "outputs": [
    {
     "name": "stdout",
     "output_type": "stream",
     "text": [
      "Merged sorted list: [1, 2, 3, 4, 5, 6, 7, 8, 9, 10]\n"
     ]
    }
   ],
   "source": [
    "def merge_sorted_lists(list1, list2):\n",
    "    \"\"\"\n",
    "    Merges two sorted lists into a single sorted list.\n",
    "\n",
    "    Args:\n",
    "      list1: The first sorted list.\n",
    "      list2: The second sorted list.\n",
    "\n",
    "    Returns:\n",
    "      The merged sorted list.\n",
    "    \"\"\"\n",
    "    merged_list = []  # List to store the merged result\n",
    "    i = 0  # Index for list1\n",
    "    j = 0  # Index for list2\n",
    "\n",
    "    # Merge the lists while there are elements in both lists\n",
    "    while i < len(list1) and j < len(list2):\n",
    "        if list1[i] < list2[j]:\n",
    "            merged_list.append(list1[i])\n",
    "            i += 1\n",
    "        else:\n",
    "            merged_list.append(list2[j])\n",
    "            j += 1\n",
    "\n",
    "    # Add the remaining elements from list1, if any\n",
    "    while i < len(list1):\n",
    "        merged_list.append(list1[i])\n",
    "        i += 1\n",
    "\n",
    "    # Add the remaining elements from list2, if any\n",
    "    while j < len(list2):\n",
    "        merged_list.append(list2[j])\n",
    "        j += 1\n",
    "\n",
    "    return merged_list\n",
    "\n",
    "if __name__ == \"__main__\":\n",
    "    input_list1 = [1, 4, 6, 8, 10]  # Test sorted list 1\n",
    "    input_list2 = [2, 3, 5, 7, 9]   # Test sorted list 2\n",
    "\n",
    "    merged_list = merge_sorted_lists(input_list1, input_list2)  # Call the merge_sorted_lists function with the test lists\n",
    "\n",
    "    print(\"Merged sorted list:\", merged_list)\n"
   ]
  },
  {
   "cell_type": "markdown",
   "id": "589a5285",
   "metadata": {},
   "source": [
    "***************************************************************************************************************************"
   ]
  },
  {
   "cell_type": "markdown",
   "id": "4ea6c281",
   "metadata": {},
   "source": [
    "**Q26. Implement a function to find the mode of a list of numbers.**"
   ]
  },
  {
   "cell_type": "code",
   "execution_count": 26,
   "id": "4955e57c",
   "metadata": {},
   "outputs": [
    {
     "name": "stdout",
     "output_type": "stream",
     "text": [
      "Mode of the list: [3]\n"
     ]
    }
   ],
   "source": [
    "from collections import Counter\n",
    "\n",
    "def find_mode(numbers):\n",
    "    \"\"\"\n",
    "    Finds the mode of a list of numbers.\n",
    "\n",
    "    Args:\n",
    "      numbers: The list of numbers.\n",
    "\n",
    "    Returns:\n",
    "      The mode of the list.\n",
    "    \"\"\"\n",
    "    # Count the occurrences of each number using Counter\n",
    "    count = Counter(numbers)\n",
    "\n",
    "    # Get the number(s) with the maximum count\n",
    "    max_count = max(count.values())\n",
    "    mode = [num for num, freq in count.items() if freq == max_count]\n",
    "\n",
    "    return mode\n",
    "\n",
    "if __name__ == \"__main__\":\n",
    "    input_numbers = [1, 2, 2, 3, 3, 3, 4, 4, 5]  # Test numbers\n",
    "\n",
    "    mode = find_mode(input_numbers)  # Call the find_mode function with the test numbers\n",
    "\n",
    "    print(\"Mode of the list:\", mode)\n"
   ]
  },
  {
   "cell_type": "markdown",
   "id": "3618474e",
   "metadata": {},
   "source": [
    "***************************************************************************************************************************"
   ]
  },
  {
   "cell_type": "markdown",
   "id": "1b5fcf6a",
   "metadata": {},
   "source": [
    "**Q27. Write a program to find the greatest common divisor (GCD) of two numbers.**"
   ]
  },
  {
   "cell_type": "code",
   "execution_count": 27,
   "id": "e7c00b51",
   "metadata": {},
   "outputs": [
    {
     "name": "stdout",
     "output_type": "stream",
     "text": [
      "GCD of 36 and 48 is: 12\n"
     ]
    }
   ],
   "source": [
    "def find_gcd(a, b):\n",
    "    \"\"\"\n",
    "    Finds the greatest common divisor (GCD) of two numbers.\n",
    "\n",
    "    Args:\n",
    "      a: The first number.\n",
    "      b: The second number.\n",
    "\n",
    "    Returns:\n",
    "      The GCD of the two numbers.\n",
    "    \"\"\"\n",
    "    # Ensure a is greater than or equal to b\n",
    "    if a < b:\n",
    "        a, b = b, a\n",
    "\n",
    "    while b != 0:\n",
    "        # Calculate the remainder using the modulo operator\n",
    "        remainder = a % b\n",
    "\n",
    "        # Update a and b for the next iteration\n",
    "        a = b\n",
    "        b = remainder\n",
    "\n",
    "    return a\n",
    "\n",
    "if __name__ == \"__main__\":\n",
    "    number1 = 36  # Test number 1\n",
    "    number2 = 48  # Test number 2\n",
    "\n",
    "    gcd = find_gcd(number1, number2)  # Call the find_gcd function with the test numbers\n",
    "\n",
    "    print(\"GCD of\", number1, \"and\", number2, \"is:\", gcd)\n"
   ]
  },
  {
   "cell_type": "markdown",
   "id": "d0c8139f",
   "metadata": {},
   "source": [
    "***************************************************************************************************************************"
   ]
  },
  {
   "cell_type": "markdown",
   "id": "a06d7e10",
   "metadata": {},
   "source": [
    "**Q28. Implement a function to calculate the square root of a given number.**"
   ]
  },
  {
   "cell_type": "code",
   "execution_count": 28,
   "id": "c9569457",
   "metadata": {},
   "outputs": [
    {
     "name": "stdout",
     "output_type": "stream",
     "text": [
      "Square root of 25 is: 5.0\n"
     ]
    }
   ],
   "source": [
    "def calculate_square_root(number, epsilon=1e-6):\n",
    "    \"\"\"\n",
    "    Calculates the square root of a number using the Babylonian method.\n",
    "\n",
    "    Args:\n",
    "      number: The number to calculate the square root of.\n",
    "      epsilon: The desired level of accuracy (optional).\n",
    "\n",
    "    Returns:\n",
    "      The square root of the number.\n",
    "    \"\"\"\n",
    "    if number < 0:\n",
    "        raise ValueError(\"Square root is not defined for negative numbers.\")\n",
    "\n",
    "    guess = number  # Initial guess\n",
    "    previous_guess = 0  # Previous guess\n",
    "\n",
    "    while abs(guess - previous_guess) > epsilon:\n",
    "        previous_guess = guess\n",
    "        guess = (guess + number / guess) / 2\n",
    "\n",
    "    return guess\n",
    "\n",
    "if __name__ == \"__main__\":\n",
    "    input_number = 25  # Test number\n",
    "\n",
    "    square_root = calculate_square_root(input_number)  # Call the calculate_square_root function with the test number\n",
    "\n",
    "    print(\"Square root of\", input_number, \"is:\", square_root)\n"
   ]
  },
  {
   "cell_type": "markdown",
   "id": "c0b758e2",
   "metadata": {},
   "source": [
    "***************************************************************************************************************************"
   ]
  },
  {
   "cell_type": "markdown",
   "id": "9cf5cc2a",
   "metadata": {},
   "source": [
    "**Q29. Write a Python program to check if a given string is a valid palindrome ignoring non-alphanumeric characters.**"
   ]
  },
  {
   "cell_type": "code",
   "execution_count": 29,
   "id": "0259dae2",
   "metadata": {},
   "outputs": [
    {
     "name": "stdout",
     "output_type": "stream",
     "text": [
      "Is the string a valid palindrome: True\n",
      "Is the string a valid palindrome: False\n"
     ]
    }
   ],
   "source": [
    "import re\n",
    "\n",
    "def is_valid_palindrome(string):\n",
    "    \"\"\"\n",
    "    Checks if a given string is a valid palindrome, ignoring non-alphanumeric characters.\n",
    "\n",
    "    Args:\n",
    "      string: The string to check.\n",
    "\n",
    "    Returns:\n",
    "      True if the string is a valid palindrome, False otherwise.\n",
    "    \"\"\"\n",
    "    # Remove non-alphanumeric characters and convert to lowercase\n",
    "    cleaned_string = re.sub(r'[^a-zA-Z0-9]', '', string.lower())\n",
    "\n",
    "    # Compare the cleaned string with its reversed version\n",
    "    return cleaned_string == cleaned_string[::-1]\n",
    "\n",
    "if __name__ == \"__main__\":\n",
    "    input_string1 = \"A man, a plan, a canal: Panama!\"  # Test string 1\n",
    "    input_string2 = \"race a car\"  # Test string 2\n",
    "\n",
    "    is_palindrome1 = is_valid_palindrome(input_string1)  # Call the is_valid_palindrome function with test string 1\n",
    "    is_palindrome2 = is_valid_palindrome(input_string2)  # Call the is_valid_palindrome function with test string 2\n",
    "\n",
    "    print(\"Is the string a valid palindrome:\", is_palindrome1)\n",
    "    print(\"Is the string a valid palindrome:\", is_palindrome2)\n"
   ]
  },
  {
   "cell_type": "markdown",
   "id": "92c58125",
   "metadata": {},
   "source": [
    "***************************************************************************************************************************"
   ]
  },
  {
   "cell_type": "markdown",
   "id": "c85aaae7",
   "metadata": {},
   "source": [
    "**Q30. Implement a function to find the minimum element in a rotated sorted list.**"
   ]
  },
  {
   "cell_type": "code",
   "execution_count": 30,
   "id": "2d2443a3",
   "metadata": {},
   "outputs": [
    {
     "name": "stdout",
     "output_type": "stream",
     "text": [
      "Minimum element in the rotated sorted list: 0\n"
     ]
    }
   ],
   "source": [
    "def find_minimum_rotated(arr):\n",
    "    \"\"\"\n",
    "    Finds the minimum element in a rotated sorted list.\n",
    "\n",
    "    Args:\n",
    "      arr: The rotated sorted list.\n",
    "\n",
    "    Returns:\n",
    "      The minimum element in the list.\n",
    "    \"\"\"\n",
    "    low = 0\n",
    "    high = len(arr) - 1\n",
    "\n",
    "    while low < high:\n",
    "        mid = low + (high - low) // 2\n",
    "\n",
    "        if arr[mid] > arr[high]:\n",
    "            low = mid + 1\n",
    "        else:\n",
    "            high = mid\n",
    "\n",
    "    return arr[low]\n",
    "\n",
    "if __name__ == \"__main__\":\n",
    "    rotated_list = [4, 5, 6, 7, 0, 1, 2]  # Test rotated sorted list\n",
    "\n",
    "    minimum_element = find_minimum_rotated(rotated_list)  # Call the find_minimum_rotated function with the test list\n",
    "\n",
    "    print(\"Minimum element in the rotated sorted list:\", minimum_element)\n"
   ]
  },
  {
   "cell_type": "markdown",
   "id": "b34fc71b",
   "metadata": {},
   "source": [
    "***************************************************************************************************************************"
   ]
  },
  {
   "cell_type": "markdown",
   "id": "a2d634b0",
   "metadata": {},
   "source": [
    "**Q31. Write a program to find the sum of all even numbers in a list.**"
   ]
  },
  {
   "cell_type": "code",
   "execution_count": 31,
   "id": "b9f27f94",
   "metadata": {},
   "outputs": [
    {
     "name": "stdout",
     "output_type": "stream",
     "text": [
      "Sum of even numbers in the list: 30\n"
     ]
    }
   ],
   "source": [
    "def sum_even_numbers(numbers):\n",
    "    \"\"\"\n",
    "    Finds the sum of all even numbers in a list.\n",
    "\n",
    "    Args:\n",
    "      numbers: The list of numbers.\n",
    "\n",
    "    Returns:\n",
    "      The sum of all even numbers.\n",
    "    \"\"\"\n",
    "    sum_even = 0\n",
    "\n",
    "    for num in numbers:\n",
    "        if num % 2 == 0:\n",
    "            sum_even += num\n",
    "\n",
    "    return sum_even\n",
    "\n",
    "if __name__ == \"__main__\":\n",
    "    number_list = [1, 2, 3, 4, 5, 6, 7, 8, 9, 10]  # Test list\n",
    "\n",
    "    sum_even = sum_even_numbers(number_list)  # Call the sum_even_numbers function with the test list\n",
    "\n",
    "    print(\"Sum of even numbers in the list:\", sum_even)\n"
   ]
  },
  {
   "cell_type": "markdown",
   "id": "78bde01e",
   "metadata": {},
   "source": [
    "***************************************************************************************************************************"
   ]
  },
  {
   "cell_type": "markdown",
   "id": "d46fcf24",
   "metadata": {},
   "source": [
    "**Q32. Implement a function to calculate the power of a number using recursion.**"
   ]
  },
  {
   "cell_type": "code",
   "execution_count": 32,
   "id": "4071e141",
   "metadata": {},
   "outputs": [
    {
     "name": "stdout",
     "output_type": "stream",
     "text": [
      "2 raised to the power of 3 is: 8\n"
     ]
    }
   ],
   "source": [
    "def power(base, exponent):\n",
    "    \"\"\"\n",
    "    Calculates the power of a number using recursion.\n",
    "\n",
    "    Args:\n",
    "      base: The base number.\n",
    "      exponent: The exponent.\n",
    "\n",
    "    Returns:\n",
    "      The result of base raised to the exponent.\n",
    "    \"\"\"\n",
    "    if exponent == 0:\n",
    "        return 1\n",
    "    elif exponent > 0:\n",
    "        return base * power(base, exponent - 1)\n",
    "    else:\n",
    "        return 1 / power(base, -exponent)\n",
    "\n",
    "if __name__ == \"__main__\":\n",
    "    base = 2\n",
    "    exponent = 3\n",
    "\n",
    "    result = power(base, exponent)\n",
    "    print(f\"{base} raised to the power of {exponent} is: {result}\")\n"
   ]
  },
  {
   "cell_type": "markdown",
   "id": "7b4b6342",
   "metadata": {},
   "source": [
    "***************************************************************************************************************************"
   ]
  },
  {
   "cell_type": "markdown",
   "id": "4ab0395b",
   "metadata": {},
   "source": [
    "**Q33. Write a Python program to remove duplicates from a list while preserving the order.**"
   ]
  },
  {
   "cell_type": "code",
   "execution_count": 33,
   "id": "36832cdb",
   "metadata": {},
   "outputs": [
    {
     "name": "stdout",
     "output_type": "stream",
     "text": [
      "List with duplicates removed: [1, 3, 2, 5, 6, 4]\n"
     ]
    }
   ],
   "source": [
    "def remove_duplicates_preserve_order(lst):\n",
    "    \"\"\"\n",
    "    Removes duplicates from a list while preserving the order.\n",
    "\n",
    "    Args:\n",
    "      lst: The list.\n",
    "\n",
    "    Returns:\n",
    "      The list with duplicates removed.\n",
    "    \"\"\"\n",
    "    seen = set()\n",
    "    result = []\n",
    "\n",
    "    for item in lst:\n",
    "        if item not in seen:\n",
    "            seen.add(item)\n",
    "            result.append(item)\n",
    "\n",
    "    return result\n",
    "\n",
    "if __name__ == \"__main__\":\n",
    "    my_list = [1, 3, 2, 2, 1, 5, 6, 3, 4, 5]\n",
    "\n",
    "    new_list = remove_duplicates_preserve_order(my_list)\n",
    "    print(\"List with duplicates removed:\", new_list)\n"
   ]
  },
  {
   "cell_type": "markdown",
   "id": "c791ebe5",
   "metadata": {},
   "source": [
    "***************************************************************************************************************************"
   ]
  },
  {
   "cell_type": "markdown",
   "id": "ef1f39a8",
   "metadata": {},
   "source": [
    "**Q34. Implement a function to find the longest common prefix among a list of strings.**"
   ]
  },
  {
   "cell_type": "code",
   "execution_count": 34,
   "id": "d1fa30cc",
   "metadata": {},
   "outputs": [
    {
     "name": "stdout",
     "output_type": "stream",
     "text": [
      "Longest common prefix: fl\n"
     ]
    }
   ],
   "source": [
    "def longest_common_prefix(strings):\n",
    "    \"\"\"\n",
    "    Finds the longest common prefix among a list of strings.\n",
    "\n",
    "    Args:\n",
    "      strings: The list of strings.\n",
    "\n",
    "    Returns:\n",
    "      The longest common prefix string.\n",
    "    \"\"\"\n",
    "    if not strings:\n",
    "        return \"\"\n",
    "\n",
    "    # Find the minimum length string in the list\n",
    "    min_length = min(len(string) for string in strings)\n",
    "\n",
    "    prefix = \"\"\n",
    "    for i in range(min_length):\n",
    "        char = strings[0][i]  # Get the character at position i in the first string\n",
    "\n",
    "        # Check if the character is the same in all strings\n",
    "        if all(string[i] == char for string in strings):\n",
    "            prefix += char\n",
    "        else:\n",
    "            break\n",
    "\n",
    "    return prefix\n",
    "\n",
    "if __name__ == \"__main__\":\n",
    "    string_list = [\"flower\", \"flow\", \"flight\"]  # Test list of strings\n",
    "\n",
    "    common_prefix = longest_common_prefix(string_list)  # Call the longest_common_prefix function with the test list\n",
    "\n",
    "    print(\"Longest common prefix:\", common_prefix)\n"
   ]
  },
  {
   "cell_type": "markdown",
   "id": "cfb1a703",
   "metadata": {},
   "source": [
    "***************************************************************************************************************************"
   ]
  },
  {
   "cell_type": "markdown",
   "id": "4ca1eee7",
   "metadata": {},
   "source": [
    "**Q35. Write a program to check if a given number is a perfect square.**"
   ]
  },
  {
   "cell_type": "code",
   "execution_count": 35,
   "id": "520625f6",
   "metadata": {},
   "outputs": [
    {
     "name": "stdout",
     "output_type": "stream",
     "text": [
      "16 is a perfect square.\n"
     ]
    }
   ],
   "source": [
    "def is_perfect_square(num):\n",
    "    \"\"\"\n",
    "    Checks if a given number is a perfect square.\n",
    "\n",
    "    Args:\n",
    "      num: The number to check.\n",
    "\n",
    "    Returns:\n",
    "      True if the number is a perfect square, False otherwise.\n",
    "    \"\"\"\n",
    "    if num < 0:\n",
    "        return False\n",
    "\n",
    "    # Use the property that the square root of a perfect square is an integer\n",
    "    root = int(num ** 0.5)\n",
    "\n",
    "    return root * root == num\n",
    "\n",
    "if __name__ == \"__main__\":\n",
    "    number = 16  # Test number\n",
    "\n",
    "    if is_perfect_square(number):\n",
    "        print(number, \"is a perfect square.\")\n",
    "    else:\n",
    "        print(number, \"is not a perfect square.\")\n"
   ]
  },
  {
   "cell_type": "markdown",
   "id": "3bc3e3b4",
   "metadata": {},
   "source": [
    "***************************************************************************************************************************"
   ]
  },
  {
   "cell_type": "markdown",
   "id": "91ec964b",
   "metadata": {},
   "source": [
    "**Q36. Implement a function to calculate the product of all elements in a list.**"
   ]
  },
  {
   "cell_type": "code",
   "execution_count": 36,
   "id": "e839b3e4",
   "metadata": {},
   "outputs": [
    {
     "name": "stdout",
     "output_type": "stream",
     "text": [
      "Product: 120\n"
     ]
    }
   ],
   "source": [
    "def calculate_product(lst):\n",
    "    \"\"\"\n",
    "    Calculates the product of all elements in a list.\n",
    "\n",
    "    Args:\n",
    "      lst: The list of numbers.\n",
    "\n",
    "    Returns:\n",
    "      The product of all elements.\n",
    "    \"\"\"\n",
    "    product = 1\n",
    "\n",
    "    for num in lst:\n",
    "        product *= num\n",
    "\n",
    "    return product\n",
    "\n",
    "if __name__ == \"__main__\":\n",
    "    numbers = [2, 3, 4, 5]  # Test list of numbers\n",
    "\n",
    "    product = calculate_product(numbers)  # Call the calculate_product function with the test list\n",
    "\n",
    "    print(\"Product:\", product)\n"
   ]
  },
  {
   "cell_type": "markdown",
   "id": "0370748f",
   "metadata": {},
   "source": [
    "***************************************************************************************************************************"
   ]
  },
  {
   "cell_type": "markdown",
   "id": "c32eb642",
   "metadata": {},
   "source": [
    "**Q37. Write a Python program to reverse the order of words in a sentence while preserving the word order.**"
   ]
  },
  {
   "cell_type": "code",
   "execution_count": 37,
   "id": "3bf62b69",
   "metadata": {},
   "outputs": [
    {
     "name": "stdout",
     "output_type": "stream",
     "text": [
      "Reversed sentence: sentence. a is This world! Hello,\n"
     ]
    }
   ],
   "source": [
    "def reverse_words(sentence):\n",
    "    \"\"\"\n",
    "    Reverses the order of words in a sentence while preserving the word order within each word.\n",
    "\n",
    "    Args:\n",
    "      sentence: The input sentence.\n",
    "\n",
    "    Returns:\n",
    "      The reversed sentence.\n",
    "    \"\"\"\n",
    "    words = sentence.split()  # Split the sentence into a list of words\n",
    "    reversed_words = words[::-1]  # Reverse the list of words\n",
    "    reversed_sentence = \" \".join(reversed_words)  # Join the reversed words with spaces\n",
    "\n",
    "    return reversed_sentence\n",
    "\n",
    "if __name__ == \"__main__\":\n",
    "    input_sentence = \"Hello, world! This is a sentence.\"  # Test sentence\n",
    "\n",
    "    reversed_sentence = reverse_words(input_sentence)  # Call the reverse_words function with the test sentence\n",
    "\n",
    "    print(\"Reversed sentence:\", reversed_sentence)\n"
   ]
  },
  {
   "cell_type": "markdown",
   "id": "8de6607e",
   "metadata": {},
   "source": [
    "***************************************************************************************************************************"
   ]
  },
  {
   "cell_type": "markdown",
   "id": "182e22ff",
   "metadata": {},
   "source": [
    "**Q38. Implement a function to find the missing number in a given list of consecutive numbers.**"
   ]
  },
  {
   "cell_type": "code",
   "execution_count": 38,
   "id": "a8a94033",
   "metadata": {},
   "outputs": [
    {
     "name": "stdout",
     "output_type": "stream",
     "text": [
      "Missing number: 4\n"
     ]
    }
   ],
   "source": [
    "def find_missing_number(numbers):\n",
    "    \"\"\"\n",
    "    Finds the missing number in a given list of consecutive numbers.\n",
    "\n",
    "    Args:\n",
    "      numbers: The list of consecutive numbers.\n",
    "\n",
    "    Returns:\n",
    "      The missing number.\n",
    "    \"\"\"\n",
    "    n = len(numbers) + 1  # Total number of elements, including the missing number\n",
    "    expected_sum = (n * (n + 1)) // 2  # Expected sum of all consecutive numbers\n",
    "\n",
    "    actual_sum = sum(numbers)  # Actual sum of the given list\n",
    "\n",
    "    missing_number = expected_sum - actual_sum\n",
    "\n",
    "    return missing_number\n",
    "\n",
    "if __name__ == \"__main__\":\n",
    "    number_list = [1, 2, 3, 5, 6, 7, 8, 9]  # Test list of consecutive numbers\n",
    "\n",
    "    missing_number = find_missing_number(number_list)  # Call the find_missing_number function with the test list\n",
    "\n",
    "    print(\"Missing number:\", missing_number)\n"
   ]
  },
  {
   "cell_type": "markdown",
   "id": "418dc223",
   "metadata": {},
   "source": [
    "***************************************************************************************************************************"
   ]
  },
  {
   "cell_type": "markdown",
   "id": "316b4ea1",
   "metadata": {},
   "source": [
    "**Q39. Write a program to find the sum of digits of a given number.**"
   ]
  },
  {
   "cell_type": "code",
   "execution_count": 39,
   "id": "5a433c5b",
   "metadata": {},
   "outputs": [
    {
     "name": "stdout",
     "output_type": "stream",
     "text": [
      "Sum of digits: 15\n"
     ]
    }
   ],
   "source": [
    "def sum_of_digits(number):\n",
    "    \"\"\"\n",
    "    Finds the sum of digits of a given number.\n",
    "\n",
    "    Args:\n",
    "      number: The input number.\n",
    "\n",
    "    Returns:\n",
    "      The sum of digits.\n",
    "    \"\"\"\n",
    "    # Convert the number to a string to enable digit extraction\n",
    "    number_str = str(number)\n",
    "\n",
    "    digit_sum = 0\n",
    "\n",
    "    for digit_char in number_str:\n",
    "        # Convert each digit character back to an integer and add it to the sum\n",
    "        digit_sum += int(digit_char)\n",
    "\n",
    "    return digit_sum\n",
    "\n",
    "if __name__ == \"__main__\":\n",
    "    input_number = 12345  # Test number\n",
    "\n",
    "    digit_sum = sum_of_digits(input_number)  # Call the sum_of_digits function with the test number\n",
    "\n",
    "    print(\"Sum of digits:\", digit_sum)\n"
   ]
  },
  {
   "cell_type": "markdown",
   "id": "7ffbb4c4",
   "metadata": {},
   "source": [
    "***************************************************************************************************************************"
   ]
  },
  {
   "cell_type": "markdown",
   "id": "e595fa8b",
   "metadata": {},
   "source": [
    "**Q40. Implement a function to check if a given string is a valid palindrome considering case sensitivity.**"
   ]
  },
  {
   "cell_type": "code",
   "execution_count": 40,
   "id": "554a821a",
   "metadata": {},
   "outputs": [
    {
     "name": "stdout",
     "output_type": "stream",
     "text": [
      "The string is a valid palindrome.\n"
     ]
    }
   ],
   "source": [
    "def is_valid_palindrome(string):\n",
    "    \"\"\"\n",
    "    Checks if a given string is a valid palindrome considering case sensitivity.\n",
    "\n",
    "    Args:\n",
    "      string: The input string.\n",
    "\n",
    "    Returns:\n",
    "      True if the string is a valid palindrome, False otherwise.\n",
    "    \"\"\"\n",
    "    # Remove any non-alphanumeric characters and convert the string to lowercase\n",
    "    cleaned_string = ''.join(ch.lower() for ch in string if ch.isalnum())\n",
    "\n",
    "    reversed_string = cleaned_string[::-1]  # Reverse the cleaned string\n",
    "\n",
    "    return cleaned_string == reversed_string\n",
    "\n",
    "if __name__ == \"__main__\":\n",
    "    input_string = \"Madam, in Eden, I'm Adam\"  # Test string\n",
    "\n",
    "    is_palindrome = is_valid_palindrome(input_string)  # Call the is_valid_palindrome function with the test string\n",
    "\n",
    "    if is_palindrome:\n",
    "        print(\"The string is a valid palindrome.\")\n",
    "    else:\n",
    "        print(\"The string is not a valid palindrome.\")\n"
   ]
  },
  {
   "cell_type": "markdown",
   "id": "a1874b56",
   "metadata": {},
   "source": [
    "***************************************************************************************************************************"
   ]
  },
  {
   "cell_type": "markdown",
   "id": "4db792cb",
   "metadata": {},
   "source": [
    "**Q41. Write a Python program to find the smallest missing positive integer in a list.**"
   ]
  },
  {
   "cell_type": "code",
   "execution_count": 41,
   "id": "88b26f8d",
   "metadata": {},
   "outputs": [
    {
     "name": "stdout",
     "output_type": "stream",
     "text": [
      "Smallest missing positive integer: 2\n"
     ]
    }
   ],
   "source": [
    "def find_smallest_missing_positive(nums):\n",
    "    \"\"\"\n",
    "    Finds the smallest missing positive integer in a list.\n",
    "\n",
    "    Args:\n",
    "      nums: The input list of integers.\n",
    "\n",
    "    Returns:\n",
    "      The smallest missing positive integer.\n",
    "    \"\"\"\n",
    "    # Step 1: Mark the presence of positive integers using indices\n",
    "    n = len(nums)\n",
    "\n",
    "    # Mark non-positive integers as 'n+1'\n",
    "    for i in range(n):\n",
    "        if nums[i] <= 0:\n",
    "            nums[i] = n + 1\n",
    "\n",
    "    # Mark the presence of positive integers by changing the sign of corresponding indices\n",
    "    for i in range(n):\n",
    "        num = abs(nums[i])\n",
    "        if num <= n:\n",
    "            nums[num - 1] = -abs(nums[num - 1])\n",
    "\n",
    "    # Step 2: Find the first index with a positive value (indicating a missing positive integer)\n",
    "    for i in range(n):\n",
    "        if nums[i] > 0:\n",
    "            return i + 1\n",
    "\n",
    "    # Step 3: If no missing positive integer found, return 'n+1'\n",
    "    return n + 1\n",
    "\n",
    "if __name__ == \"__main__\":\n",
    "    input_list = [3, 4, -1, 1]  # Test list\n",
    "\n",
    "    smallest_missing = find_smallest_missing_positive(input_list)  # Call the find_smallest_missing_positive function with the test list\n",
    "\n",
    "    print(\"Smallest missing positive integer:\", smallest_missing)\n"
   ]
  },
  {
   "cell_type": "markdown",
   "id": "7abbef75",
   "metadata": {},
   "source": [
    "***************************************************************************************************************************"
   ]
  },
  {
   "cell_type": "markdown",
   "id": "25124a5d",
   "metadata": {},
   "source": [
    "**Q42. Implement a function to find the longest palindrome substring in a given string.**"
   ]
  },
  {
   "cell_type": "code",
   "execution_count": 42,
   "id": "b707992f",
   "metadata": {},
   "outputs": [
    {
     "name": "stdout",
     "output_type": "stream",
     "text": [
      "Longest palindrome substring: aba\n"
     ]
    }
   ],
   "source": [
    "def longest_palindrome_substring(string):\n",
    "    \"\"\"\n",
    "    Finds the longest palindrome substring in a given string.\n",
    "\n",
    "    Args:\n",
    "      string: The input string.\n",
    "\n",
    "    Returns:\n",
    "      The longest palindrome substring.\n",
    "    \"\"\"\n",
    "    if not string:\n",
    "        return \"\"\n",
    "\n",
    "    start = 0\n",
    "    end = 0\n",
    "\n",
    "    for i in range(len(string)):\n",
    "        len1 = expand_around_center(string, i, i)  # For odd-length palindromes\n",
    "        len2 = expand_around_center(string, i, i + 1)  # For even-length palindromes\n",
    "\n",
    "        max_len = max(len1, len2)\n",
    "\n",
    "        if max_len > end - start:\n",
    "            start = i - (max_len - 1) // 2\n",
    "            end = i + max_len // 2\n",
    "\n",
    "    return string[start:end+1]\n",
    "\n",
    "def expand_around_center(string, left, right):\n",
    "    \"\"\"\n",
    "    Expands around the center indices to find the length of a palindrome.\n",
    "\n",
    "    Args:\n",
    "      string: The input string.\n",
    "      left: The left index.\n",
    "      right: The right index.\n",
    "\n",
    "    Returns:\n",
    "      The length of the palindrome.\n",
    "    \"\"\"\n",
    "    while left >= 0 and right < len(string) and string[left] == string[right]:\n",
    "        left -= 1\n",
    "        right += 1\n",
    "\n",
    "    return right - left - 1\n",
    "\n",
    "if __name__ == \"__main__\":\n",
    "    input_string = \"babad\"  # Test string\n",
    "\n",
    "    longest_palindrome = longest_palindrome_substring(input_string)  # Call the longest_palindrome_substring function with the test string\n",
    "\n",
    "    print(\"Longest palindrome substring:\", longest_palindrome)\n"
   ]
  },
  {
   "cell_type": "markdown",
   "id": "2d298241",
   "metadata": {},
   "source": [
    "***************************************************************************************************************************"
   ]
  },
  {
   "cell_type": "markdown",
   "id": "92101708",
   "metadata": {},
   "source": [
    "**Q43. Write a program to find the number of occurrences of a given element in a list.**"
   ]
  },
  {
   "cell_type": "code",
   "execution_count": 43,
   "id": "6d0e3667",
   "metadata": {},
   "outputs": [
    {
     "name": "stdout",
     "output_type": "stream",
     "text": [
      "Number of occurrences: 4\n"
     ]
    }
   ],
   "source": [
    "def count_occurrences(nums, target):\n",
    "    \"\"\"\n",
    "    Finds the number of occurrences of a given element in a list.\n",
    "\n",
    "    Args:\n",
    "      nums: The input list of elements.\n",
    "      target: The element to count occurrences of.\n",
    "\n",
    "    Returns:\n",
    "      The number of occurrences of the target element.\n",
    "    \"\"\"\n",
    "    count = 0\n",
    "\n",
    "    for num in nums:\n",
    "        if num == target:\n",
    "            count += 1\n",
    "\n",
    "    return count\n",
    "\n",
    "if __name__ == \"__main__\":\n",
    "    input_list = [1, 2, 3, 4, 2, 2, 3, 2]  # Test list\n",
    "    target_element = 2  # Test element\n",
    "\n",
    "    occurrences = count_occurrences(input_list, target_element)  # Call the count_occurrences function with the test list and element\n",
    "\n",
    "    print(\"Number of occurrences:\", occurrences)\n"
   ]
  },
  {
   "cell_type": "markdown",
   "id": "b060ee11",
   "metadata": {},
   "source": [
    "***************************************************************************************************************************"
   ]
  },
  {
   "cell_type": "markdown",
   "id": "82c408ab",
   "metadata": {},
   "source": [
    "**Q44. Implement a function to check if a given number is a perfect number.**"
   ]
  },
  {
   "cell_type": "code",
   "execution_count": 44,
   "id": "99032928",
   "metadata": {},
   "outputs": [
    {
     "name": "stdout",
     "output_type": "stream",
     "text": [
      "28 is a perfect number.\n"
     ]
    }
   ],
   "source": [
    "def is_perfect_number(num):\n",
    "    \"\"\"\n",
    "    Checks if a given number is a perfect number.\n",
    "\n",
    "    Args:\n",
    "      num: The number to check.\n",
    "\n",
    "    Returns:\n",
    "      True if the number is a perfect number, False otherwise.\n",
    "    \"\"\"\n",
    "    if num <= 0:\n",
    "        return False\n",
    "\n",
    "    divisor_sum = 0\n",
    "\n",
    "    for i in range(1, num):\n",
    "        if num % i == 0:\n",
    "            divisor_sum += i\n",
    "\n",
    "    return divisor_sum == num\n",
    "\n",
    "if __name__ == \"__main__\":\n",
    "    number = 28  # Test number\n",
    "\n",
    "    is_perfect = is_perfect_number(number)  # Call the is_perfect_number function with the test number\n",
    "\n",
    "    if is_perfect:\n",
    "        print(number, \"is a perfect number.\")\n",
    "    else:\n",
    "        print(number, \"is not a perfect number.\")\n"
   ]
  },
  {
   "cell_type": "markdown",
   "id": "3c2fcf3e",
   "metadata": {},
   "source": [
    "***************************************************************************************************************************"
   ]
  },
  {
   "cell_type": "markdown",
   "id": "ff0920b5",
   "metadata": {},
   "source": [
    "**Q45. Write a Python program to remove all duplicates from a string.**"
   ]
  },
  {
   "cell_type": "code",
   "execution_count": 45,
   "id": "dac6d09f",
   "metadata": {},
   "outputs": [
    {
     "name": "stdout",
     "output_type": "stream",
     "text": [
      "String with duplicates removed: Helo, wrd!\n"
     ]
    }
   ],
   "source": [
    "def remove_duplicates(string):\n",
    "    \"\"\"\n",
    "    Removes all duplicates from a string.\n",
    "\n",
    "    Args:\n",
    "      string: The input string.\n",
    "\n",
    "    Returns:\n",
    "      A string with all duplicates removed.\n",
    "    \"\"\"\n",
    "    unique_chars = \"\"\n",
    "\n",
    "    for char in string:\n",
    "        if char not in unique_chars:\n",
    "            unique_chars += char\n",
    "\n",
    "    return unique_chars\n",
    "\n",
    "if __name__ == \"__main__\":\n",
    "    input_string = \"Hello, world!\"  # Test string\n",
    "\n",
    "    result = remove_duplicates(input_string)  # Call the remove_duplicates function with the test string\n",
    "\n",
    "    print(\"String with duplicates removed:\", result)\n"
   ]
  },
  {
   "cell_type": "markdown",
   "id": "e28ae6d3",
   "metadata": {},
   "source": [
    "***************************************************************************************************************************"
   ]
  },
  {
   "cell_type": "markdown",
   "id": "a5be2456",
   "metadata": {},
   "source": [
    "**Q46. Implement a function to find the first missing positive**"
   ]
  },
  {
   "cell_type": "code",
   "execution_count": 46,
   "id": "41ce4ca9",
   "metadata": {},
   "outputs": [
    {
     "name": "stdout",
     "output_type": "stream",
     "text": [
      "First missing positive: 2\n"
     ]
    }
   ],
   "source": [
    "def find_first_missing_positive(nums):\n",
    "    \"\"\"\n",
    "    Finds the first missing positive integer in a given list.\n",
    "\n",
    "    Args:\n",
    "      nums: The input list of integers.\n",
    "\n",
    "    Returns:\n",
    "      The first missing positive integer.\n",
    "    \"\"\"\n",
    "    n = len(nums)\n",
    "\n",
    "    # Step 1: Mark the presence of positive integers\n",
    "    for i in range(n):\n",
    "        # Ignore non-positive integers and integers larger than n\n",
    "        while 1 <= nums[i] <= n and nums[nums[i] - 1] != nums[i]:\n",
    "            nums[nums[i] - 1], nums[i] = nums[i], nums[nums[i] - 1]\n",
    "\n",
    "    # Step 2: Find the first missing positive integer\n",
    "    for i in range(n):\n",
    "        if nums[i] != i + 1:\n",
    "            return i + 1\n",
    "\n",
    "    # If all positive integers from 1 to n are present, the missing positive is n + 1\n",
    "    return n + 1\n",
    "\n",
    "if __name__ == \"__main__\":\n",
    "    input_list = [3, 4, -1, 1]  # Test list\n",
    "\n",
    "    missing_positive = find_first_missing_positive(input_list)  # Call the find_first_missing_positive function with the test list\n",
    "\n",
    "    print(\"First missing positive:\", missing_positive)\n"
   ]
  },
  {
   "cell_type": "code",
   "execution_count": null,
   "id": "20965f7d",
   "metadata": {},
   "outputs": [],
   "source": []
  }
 ],
 "metadata": {
  "kernelspec": {
   "display_name": "Python 3 (ipykernel)",
   "language": "python",
   "name": "python3"
  },
  "language_info": {
   "codemirror_mode": {
    "name": "ipython",
    "version": 3
   },
   "file_extension": ".py",
   "mimetype": "text/x-python",
   "name": "python",
   "nbconvert_exporter": "python",
   "pygments_lexer": "ipython3",
   "version": "3.10.9"
  }
 },
 "nbformat": 4,
 "nbformat_minor": 5
}
