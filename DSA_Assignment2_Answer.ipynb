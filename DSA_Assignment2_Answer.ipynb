{
 "cells": [
  {
   "cell_type": "markdown",
   "id": "44c22979",
   "metadata": {},
   "source": [
    "**Question 1**\n",
    "Given an integer array nums of 2n integers, group these integers into n pairs (a1, b1), (a2, b2),..., (an, bn) such that the sum of min(ai, bi) for all i is maximized. Return the maximized sum.\n",
    "\n",
    "**Example 1:**\n",
    "Input: nums = [1,4,3,2]\n",
    "Output: 4\n",
    "\n",
    "**Explanation:** All possible pairings (ignoring the ordering of elements) are:\n",
    "\n",
    "1. (1, 4), (2, 3) -> min(1, 4) + min(2, 3) = 1 + 2 = 3\n",
    "2. (1, 3), (2, 4) -> min(1, 3) + min(2, 4) = 1 + 2 = 3\n",
    "3. (1, 2), (3, 4) -> min(1, 2) + min(3, 4) = 1 + 3 = 4\n",
    "So the maximum possible sum is 4"
   ]
  },
  {
   "cell_type": "markdown",
   "id": "c51c18c7",
   "metadata": {},
   "source": [
    "# Ans1"
   ]
  },
  {
   "cell_type": "code",
   "execution_count": 1,
   "id": "0281ecbb",
   "metadata": {},
   "outputs": [
    {
     "name": "stdout",
     "output_type": "stream",
     "text": [
      "4\n"
     ]
    }
   ],
   "source": [
    "def arrayPairSum(nums):\n",
    "    \n",
    "    \"\"\"\"Given an integer array nums of 2n integers, group these integers into n pairs (a1, b1), (a2, b2),..., (an, bn) \n",
    "    such that the sum of min(ai, bi) for all i is maximized. Return the maximized sum.\n",
    "\n",
    "  Args:\n",
    "    nums: An integer array of 2n integers.\n",
    "\n",
    "  Returns:\n",
    "    The maximized sum of min(ai, bi) for all i.\"\"\"\n",
    "  \n",
    "    \n",
    "    nums.sort()    # Sort the array in ascending order\n",
    "    total_sum = 0   # Initialize the sum of min(ai, bi) for all i\n",
    "    for i in range(0, len(nums), 2):\n",
    "        total_sum += nums[i]\n",
    "    return total_sum  # Return the maximized sum\n",
    "\n",
    "nums = [1, 4, 3, 2]\n",
    "result = arrayPairSum(nums)\n",
    "\n",
    "print(result)\n"
   ]
  },
  {
   "cell_type": "markdown",
   "id": "57ba55bb",
   "metadata": {},
   "source": [
    "**Question 2**\n",
    "Alice has n candies, where the ith candy is of type candyType[i]. Alice noticed that she started to gain weight, so she visited a doctor. \n",
    "\n",
    "The doctor advised Alice to only eat n / 2 of the candies she has (n is always even). Alice likes her candies very much, and she wants to eat the maximum number of different types of candies while still following the doctor's advice. \n",
    "\n",
    "Given the integer array candyType of length n, return the maximum number of different types of candies she can eat if she only eats n / 2 of them.\n",
    "\n",
    "**Example 1:**\n",
    "Input: candyType = [1,1,2,2,3,3]\n",
    "Output: 3\n",
    "\n",
    "**Explanation**: Alice can only eat 6 / 2 = 3 candies. Since there are only 3 types, she can eat one of each type."
   ]
  },
  {
   "cell_type": "markdown",
   "id": "c38fab7f",
   "metadata": {},
   "source": [
    "# Ans2"
   ]
  },
  {
   "cell_type": "code",
   "execution_count": 2,
   "id": "4f0bd98d",
   "metadata": {},
   "outputs": [
    {
     "name": "stdout",
     "output_type": "stream",
     "text": [
      "3\n"
     ]
    }
   ],
   "source": [
    "def distributeCandies(candyType):\n",
    "    \"\"\"Given an integer array candyType of length n, return the maximum number of different types of candies \n",
    "      Alice can eat if she only eats n / 2 of them.\n",
    "\n",
    "  Args:\n",
    "    candyType: An integer array of length n.\n",
    "\n",
    "  Returns:\n",
    "    The maximum number of different types of candies Alice can eat.\n",
    "    \"\"\"\n",
    "    \n",
    "    \n",
    "    \n",
    "    unique_candy_types = len(set(candyType)) # Count the number of different types of candies\n",
    "    \n",
    "    \n",
    "    # Calculate the maximum number of candies Alice can eat,\n",
    "    # which is either the number of unique candy types or half of the total candies, whichever is smaller\n",
    "    max_candies = min(unique_candy_types, len(candyType) // 2)\n",
    "    \n",
    "    # Return the maximum number of different types of candies Alice can eat\n",
    "    return max_candies\n",
    "\n",
    "candyType = [1, 1, 2, 2, 3, 3]\n",
    "result = distributeCandies(candyType)\n",
    "print(result)"
   ]
  },
  {
   "cell_type": "markdown",
   "id": "80112b9d",
   "metadata": {},
   "source": [
    "**Question 3**\n",
    "We define a harmonious array as an array where the difference between its maximum value\n",
    "and its minimum value is exactly 1.\n",
    "\n",
    "Given an integer array nums, return the length of its longest harmonious subsequence\n",
    "among all its possible subsequences.\n",
    "\n",
    "A subsequence of an array is a sequence that can be derived from the array by deleting some or no elements without changing the order of the remaining elements.\n",
    "\n",
    "**Example 1:**\n",
    "Input: nums = [1,3,2,2,5,2,3,7]\n",
    "Output: 5\n",
    "\n",
    "**Explanation:** The longest harmonious subsequence is [3,2,2,2,3]."
   ]
  },
  {
   "cell_type": "markdown",
   "id": "a43e465e",
   "metadata": {},
   "source": [
    "# Ans3"
   ]
  },
  {
   "cell_type": "code",
   "execution_count": 3,
   "id": "3bbdd24c",
   "metadata": {},
   "outputs": [
    {
     "name": "stdout",
     "output_type": "stream",
     "text": [
      "5\n"
     ]
    }
   ],
   "source": [
    "def longest_harmonious_subsequence(nums):\n",
    "    count = {}  # Create an empty dictionary to store the count of each number\n",
    "    \n",
    "    # Iterate through the input list\n",
    "    for num in nums:\n",
    "        count[num] = count.get(num, 0) + 1\n",
    "        # Increment the count of the current number in the dictionary.\n",
    "        # If the number is not present in the dictionary, the count will be initialized to 0 and then incremented by 1.\n",
    "    \n",
    "    max_length = 0  # Initialize the maximum length to 0\n",
    "    \n",
    "    # Iterate through the numbers in the dictionary\n",
    "    for num in count:\n",
    "        if num + 1 in count:\n",
    "            # If the current number plus 1 exists in the dictionary, it means there is a valid sequence.\n",
    "            # Update the maximum length by taking the maximum of the current max_length and the sum of counts for the current number and the next number.\n",
    "            max_length = max(max_length, count[num] + count[num + 1])\n",
    "    \n",
    "    return max_length\n",
    "\n",
    "\n",
    "nums = [1, 3, 2, 2, 5, 2, 3, 7]\n",
    "result = longest_harmonious_subsequence(nums)\n",
    "print(result)\n"
   ]
  },
  {
   "cell_type": "markdown",
   "id": "c6e00f9c",
   "metadata": {},
   "source": [
    "**Question 4**\n",
    "You have a long flowerbed in which some of the plots are planted, and some are not.\n",
    "However, flowers cannot be planted in adjacent plots.\n",
    "Given an integer array flowerbed containing 0's and 1's, where 0 means empty and 1 means not empty, and an integer n, return true if n new flowers can be planted in the flowerbed without violating the no-adjacent-flowers rule and false otherwise.\n",
    "\n",
    "**Example 1:**\n",
    "Input: flowerbed = [1,0,0,0,1], n = 1\n",
    "Output: true"
   ]
  },
  {
   "cell_type": "markdown",
   "id": "0102d2d0",
   "metadata": {},
   "source": [
    "# Ans4"
   ]
  },
  {
   "cell_type": "code",
   "execution_count": 4,
   "id": "acee38d1",
   "metadata": {},
   "outputs": [
    {
     "name": "stdout",
     "output_type": "stream",
     "text": [
      "True\n"
     ]
    }
   ],
   "source": [
    "def canPlaceFlowers(flowerbed, n):\n",
    "    count = 0  # Initialize a count variable to keep track of the number of flowers that can be placed\n",
    "    length = len(flowerbed)  # Get the length of the flowerbed\n",
    "    \n",
    "    # Iterate through the flowerbed\n",
    "    for i in range(length):\n",
    "        if flowerbed[i] == 0 and (i == 0 or flowerbed[i-1] == 0) and (i == length-1 or flowerbed[i+1] == 0):\n",
    "            # Check if the current position is empty (0), and the adjacent positions are also empty or out of bounds.\n",
    "            # If all conditions are satisfied, it means a flower can be placed at the current position.\n",
    "            count += 1  # Increment the count of placed flowers\n",
    "            flowerbed[i] = 1  # Mark the current position as planted with a flower\n",
    "            i += 1  # Skip the next position since it is adjacent and cannot have a flower planted there\n",
    "            \n",
    "    return count >= n  # Check if the count of placed flowers is greater than or equal to the required number\n",
    "\n",
    "\n",
    "flowerbed = [1, 0, 0, 0, 1]\n",
    "n = 1\n",
    "result = canPlaceFlowers(flowerbed, n)\n",
    "print(result)  # Output: True\n"
   ]
  },
  {
   "cell_type": "markdown",
   "id": "2b9c04aa",
   "metadata": {},
   "source": [
    "**Question 5**\n",
    "Given an integer array nums, find three numbers whose product is maximum and return the maximum product.\n",
    "\n",
    "**Example 1:**\n",
    "Input: nums = [1,2,3]\n",
    "Output: 6"
   ]
  },
  {
   "cell_type": "markdown",
   "id": "744ab218",
   "metadata": {},
   "source": [
    "# Ans5"
   ]
  },
  {
   "cell_type": "code",
   "execution_count": 5,
   "id": "81d9b605",
   "metadata": {},
   "outputs": [
    {
     "name": "stdout",
     "output_type": "stream",
     "text": [
      "6\n"
     ]
    }
   ],
   "source": [
    "def maximumProduct(nums):\n",
    "    \"\"\"\n",
    "    Given an integer array nums, find three numbers whose product is maximum and return the maximum product.\n",
    "\n",
    "    Args:\n",
    "      nums: An integer array.\n",
    "\n",
    "    Returns:\n",
    "      The maximum product of three numbers in nums.\n",
    "    \"\"\"\n",
    "    nums.sort()  # Sort the array in ascending order\n",
    "    n = len(nums)  # Get the length of the sorted array\n",
    "    \n",
    "    # Calculate two possible products:\n",
    "    # 1. The product of the three largest numbers at the end of the sorted array\n",
    "    product1 = nums[n-1] * nums[n-2] * nums[n-3]\n",
    "    # 2. The product of the two smallest numbers and the largest number in the array\n",
    "    product2 = nums[0] * nums[1] * nums[n-1]\n",
    "    \n",
    "    # Return the maximum of the two products\n",
    "    return max(product1, product2)\n",
    "\n",
    "\n",
    "nums = [1, 2, 3]\n",
    "result = maximumProduct(nums)\n",
    "print(result) \n"
   ]
  },
  {
   "cell_type": "markdown",
   "id": "f4ea919e",
   "metadata": {},
   "source": [
    "**Question 6**\n",
    "Given an array of integers nums which is sorted in ascending order, and an integer target,\n",
    "write a function to search target in nums. If target exists, then return its index. Otherwise,\n",
    "return -1.\n",
    "\n",
    "You must write an algorithm with O(log n) runtime complexity.\n",
    "\n",
    "Input: nums = [-1,0,3,5,9,12], target = 9\n",
    "Output: 4\n",
    "\n",
    "**Explanation:** 9 exists in nums and its index is 4"
   ]
  },
  {
   "cell_type": "markdown",
   "id": "a4340534",
   "metadata": {},
   "source": [
    "# Ans6"
   ]
  },
  {
   "cell_type": "code",
   "execution_count": 6,
   "id": "f9e787e5",
   "metadata": {},
   "outputs": [
    {
     "name": "stdout",
     "output_type": "stream",
     "text": [
      "4\n"
     ]
    }
   ],
   "source": [
    "def binary_search(nums, target):\n",
    "  \"\"\"\n",
    "  Given an array of integers nums which is sorted in ascending order, and an integer target,\n",
    "  write a function to search target in nums. If target exists, then return its index. Otherwise,\n",
    "  return -1.\n",
    "\n",
    "  You must write an algorithm with O(log n) runtime complexity.\n",
    "\n",
    "  Args:\n",
    "    nums: An integer array.\n",
    "    target: The integer to search for.\n",
    "\n",
    "  Returns:\n",
    "    The index of target in nums, or -1 if target does not exist.\n",
    "  \"\"\"\n",
    "\n",
    "  # Initialize the low and high indices.\n",
    "  low = 0\n",
    "  high = len(nums) - 1\n",
    "\n",
    "  # While the low index is less than or equal to the high index,\n",
    "  while low <= high:\n",
    "\n",
    "    # Find the middle index.\n",
    "    mid = (low + high) // 2\n",
    "\n",
    "    # If the target is equal to the element at the middle index,\n",
    "    if nums[mid] == target:\n",
    "\n",
    "      # Return the index of the element at the middle index.\n",
    "      return mid\n",
    "\n",
    "    # If the target is less than the element at the middle index,\n",
    "    elif nums[mid] > target:\n",
    "\n",
    "      # Set the high index to the middle index minus 1.\n",
    "      high = mid - 1\n",
    "\n",
    "    # If the target is greater than the element at the middle index,\n",
    "    else:\n",
    "\n",
    "      # Set the low index to the middle index plus 1.\n",
    "      low = mid + 1\n",
    "\n",
    "  # If the target is not found, return -1.\n",
    "  return -1\n",
    "\n",
    "\n",
    "nums = [-1, 0, 3, 5, 9, 12]\n",
    "target = 9\n",
    "\n",
    "# Find the index of target in nums.\n",
    "index = binary_search(nums, target)\n",
    "\n",
    "# Print the index of target in nums.\n",
    "print(index)\n"
   ]
  },
  {
   "cell_type": "markdown",
   "id": "f15624de",
   "metadata": {},
   "source": [
    "**Question 7**\n",
    "An array is monotonic if it is either monotone increasing or monotone decreasing.\n",
    "\n",
    "An array nums is monotone increasing if for all i <= j, nums[i] <= nums[j]. An array nums is\n",
    "monotone decreasing if for all i <= j, nums[i] >= nums[j].\n",
    "\n",
    "Given an integer array nums, return true if the given array is monotonic, or false otherwise.\n",
    "\n",
    "**Example 1:**\n",
    "Input: nums = [1,2,2,3]\n",
    "Output: true"
   ]
  },
  {
   "cell_type": "markdown",
   "id": "1cfa3d2b",
   "metadata": {},
   "source": [
    "# Ans7"
   ]
  },
  {
   "cell_type": "code",
   "execution_count": 7,
   "id": "acaab072",
   "metadata": {},
   "outputs": [
    {
     "name": "stdout",
     "output_type": "stream",
     "text": [
      "True\n"
     ]
    }
   ],
   "source": [
    "def is_monotonic(nums):\n",
    "  \"\"\"\n",
    "  An array is monotonic if it is either monotone increasing or monotone decreasing.\n",
    "\n",
    "  An array nums is monotone increasing if for all i <= j, nums[i] <= nums[j]. An array nums is\n",
    "  monotone decreasing if for all i <= j, nums[i] >= nums[j].\n",
    "\n",
    "  Given an integer array nums, return true if the given array is monotonic, or false otherwise.\n",
    "\n",
    "  Args:\n",
    "    nums: An integer array.\n",
    "\n",
    "  Returns:\n",
    "    True if the given array is monotonic, or false otherwise.\n",
    "  \"\"\"\n",
    "\n",
    "  # Initialize the increasing flag and decreasing flag.\n",
    "  increasing = True\n",
    "  decreasing = True\n",
    "\n",
    "  # Iterate over the array.\n",
    "  for i in range(1, len(nums)):\n",
    "\n",
    "    # If the current element is less than the previous element, then the array is not monotonic increasing.\n",
    "    if nums[i] < nums[i - 1] and increasing:\n",
    "      increasing = False\n",
    "\n",
    "    # If the current element is greater than the previous element, then the array is not monotonic decreasing.\n",
    "    if nums[i] > nums[i - 1] and decreasing:\n",
    "      decreasing = False\n",
    "\n",
    "  # Return true if the array is monotonic, or false otherwise.\n",
    "  return increasing or decreasing\n",
    "\n",
    "\n",
    "nums = [1, 2, 2, 3]\n",
    "\n",
    "# Check if the given array is monotonic.\n",
    "is_monotonic(nums)\n",
    "\n",
    "# Print the result.\n",
    "print(is_monotonic(nums))\n"
   ]
  },
  {
   "cell_type": "markdown",
   "id": "ebf0d145",
   "metadata": {},
   "source": [
    "**Question 8**\n",
    "You are given an integer array nums and an integer k.\n",
    "\n",
    "In one operation, you can choose any index i where 0 <= i < nums.length and change nums[i] to nums[i] + x where x is an integer from the range [-k, k]. You can apply this operation at most once for each index i.\n",
    "\n",
    "The score of nums is the difference between the maximum and minimum elements in nums.\n",
    "\n",
    "Return the minimum score of nums after applying the mentioned operation at most once for each index in it.\n",
    "\n",
    "**Example 1:**\n",
    "Input: nums = [1], k = 0\n",
    "Output: 0\n",
    "\n",
    "**Explanation:** The score is max(nums) - min(nums) = 1 - 1 = 0."
   ]
  },
  {
   "cell_type": "markdown",
   "id": "bd19a850",
   "metadata": {},
   "source": [
    "# Ans8"
   ]
  },
  {
   "cell_type": "code",
   "execution_count": 8,
   "id": "cb8348e7",
   "metadata": {},
   "outputs": [
    {
     "name": "stdout",
     "output_type": "stream",
     "text": [
      "0\n"
     ]
    }
   ],
   "source": [
    "def min_score_after_operations(nums, k):\n",
    "  \"\"\"\n",
    "  You are given an integer array nums and an integer k.\n",
    "\n",
    "  In one operation, you can choose any index i where 0 <= i < nums.length and change nums[i] to nums[i] + x where x is an integer from the range [-k, k]. You can apply this operation at most once for each index i.\n",
    "\n",
    "  The score of nums is the difference between the maximum and minimum elements in nums.\n",
    "\n",
    "  Return the minimum score of nums after applying the mentioned operation at most once for each index in it.\n",
    "\n",
    "  Args:\n",
    "    nums: An integer array.\n",
    "    k: An integer.\n",
    "\n",
    "  Returns:\n",
    "    The minimum score of nums after applying the mentioned operation at most once for each index in it.\n",
    "  \"\"\"\n",
    "\n",
    "  # Initialize the minimum score.\n",
    "  min_score = float(\"inf\")\n",
    "\n",
    "  # Iterate over the array.\n",
    "  for i in range(len(nums)):\n",
    "\n",
    "    # Find the maximum and minimum elements in the array after applying the operation at index i.\n",
    "    max_element = max(nums[i] + k, nums[i] - k)\n",
    "    min_element = min(nums[i] + k, nums[i] - k)\n",
    "\n",
    "    # Update the minimum score.\n",
    "    min_score = min(min_score, max_element - min_element)\n",
    "\n",
    "  # Return the minimum score.\n",
    "  return min_score\n",
    "\n",
    "\n",
    "nums = [1]\n",
    "k = 0\n",
    "\n",
    "# Find the minimum score of nums after applying the mentioned operation at most once for each index in it.\n",
    "min_score = min_score_after_operations(nums, k)\n",
    "\n",
    "# Print the minimum score of nums after applying the mentioned operation at most once for each index in it.\n",
    "print(min_score)\n"
   ]
  },
  {
   "cell_type": "code",
   "execution_count": 9,
   "id": "825be254",
   "metadata": {},
   "outputs": [
    {
     "data": {
      "text/plain": [
       "0"
      ]
     },
     "execution_count": 9,
     "metadata": {},
     "output_type": "execute_result"
    }
   ],
   "source": [
    "def minScore(nums, k):\n",
    "    \"\"\"\n",
    "    Given an integer array nums and an integer k, returns the minimum score of nums after applying\n",
    "    the mentioned operation at most once for each index in it.\n",
    "\n",
    "    Args:\n",
    "      nums: An integer array.\n",
    "      k: An integer representing the range for the operation.\n",
    "\n",
    "    Returns:\n",
    "      The minimum score of nums.\n",
    "    \"\"\"\n",
    "    nums.sort()  # Sort the array in ascending order\n",
    "    \n",
    "    min_score = nums[-1] - nums[0]  # Initialize the minimum score with the difference between the maximum and minimum elements\n",
    "    \n",
    "    for i in range(1, len(nums) - 1):\n",
    "        # Iterate through the array except for the first and last elements\n",
    "        \n",
    "        # Calculate the minimum and maximum possible values after applying the operation at index i\n",
    "        min_val = min(nums[0] + k, nums[i] - k)\n",
    "        max_val = max(nums[-1] - k, nums[i] + k)\n",
    "        \n",
    "        # Update the minimum score if the difference between the new maximum and minimum values is smaller\n",
    "        min_score = min(min_score, max_val - min_val)\n",
    "    \n",
    "    return min_score\n",
    "\n",
    "\n",
    "\n",
    "nums = [1]\n",
    "k = 0\n",
    "\n",
    "minScore(nums, k)"
   ]
  }
 ],
 "metadata": {
  "kernelspec": {
   "display_name": "Python 3 (ipykernel)",
   "language": "python",
   "name": "python3"
  },
  "language_info": {
   "codemirror_mode": {
    "name": "ipython",
    "version": 3
   },
   "file_extension": ".py",
   "mimetype": "text/x-python",
   "name": "python",
   "nbconvert_exporter": "python",
   "pygments_lexer": "ipython3",
   "version": "3.10.9"
  }
 },
 "nbformat": 4,
 "nbformat_minor": 5
}
