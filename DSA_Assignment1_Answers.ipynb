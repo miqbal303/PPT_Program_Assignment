{
 "cells": [
  {
   "cell_type": "markdown",
   "id": "802620b1",
   "metadata": {},
   "source": [
    " **Q1.** Given an array of integers nums and an integer target, return indices of the two numbers such that they add up to target.\n",
    "\n",
    "You may assume that each input would have exactly one solution, and you may not use the same element twice.\n",
    "\n",
    "You can return the answer in any order.\n",
    "\n",
    "**Example:**\n",
    "Input: nums = [2,7,11,15], target = 9\n",
    "Output0 [0,1]\n",
    "\n",
    "**Explanation:** Because nums[0] + nums[1] == 9, we return [0, 1]"
   ]
  },
  {
   "cell_type": "markdown",
   "id": "8c329080",
   "metadata": {},
   "source": [
    "# Ans1"
   ]
  },
  {
   "cell_type": "code",
   "execution_count": 9,
   "id": "e460e1cd",
   "metadata": {},
   "outputs": [
    {
     "data": {
      "text/plain": [
       "[0, 1]"
      ]
     },
     "execution_count": 9,
     "metadata": {},
     "output_type": "execute_result"
    }
   ],
   "source": [
    "nums = [2,7,11,15]\n",
    "target = 9\n",
    "def twoSum(nums, target):\n",
    "    \"\"\"\n",
    "    find two number in list and add them\n",
    "    Args:\n",
    "    nums: find two number\n",
    "    target: give target\n",
    "    \n",
    "    Returns:\n",
    "    return indices of the two number,add upto target\"\"\"\n",
    "    result = {}\n",
    "    for i, num in enumerate(nums):\n",
    "        difference = target - num\n",
    "        if difference in result:\n",
    "            return [result[difference], i]\n",
    "        result[num] = i\n",
    "    return []\n",
    "\n",
    "twoSum(nums, target)\n"
   ]
  },
  {
   "cell_type": "markdown",
   "id": "7539bcad",
   "metadata": {},
   "source": [
    "**Q2.** Given an integer array nums and an integer val, remove all occurrences of val in nums in-place. The order of the elements may be changed. Then return the number of elements in nums which are not equal to val.\n",
    "\n",
    "Consider the number of elements in nums which are not equal to val be k, to get accepted, you need to do the following things:\n",
    "\n",
    "- Change the array nums such that the first k elements of nums contain the elements which are not equal to val. The remaining elements of nums are not important as well as the size of nums.\n",
    "- Return k.\n",
    "\n",
    "**Example :**\n",
    "Input: nums = [3,2,2,3], val = 3\n",
    "Output: 2, nums = [2,2,_*,_*]\n",
    "\n",
    "**Explanation:** Your function should return k = 2, with the first two elements of nums being 2. It does not matter what you leave beyond the returned k (hence they are underscores)"
   ]
  },
  {
   "cell_type": "markdown",
   "id": "2404b412",
   "metadata": {},
   "source": [
    "# Ans2"
   ]
  },
  {
   "cell_type": "code",
   "execution_count": 10,
   "id": "6a69a5c1",
   "metadata": {},
   "outputs": [
    {
     "name": "stdout",
     "output_type": "stream",
     "text": [
      "[2, 2, 2, 3]\n",
      "2\n"
     ]
    }
   ],
   "source": [
    "def remove_element(nums, val):\n",
    "  \"\"\"Removes all occurrences of val from nums in-place.\n",
    "\n",
    "  Args:\n",
    "    nums: The array to remove elements from.\n",
    "    val: The value to remove.\n",
    "\n",
    "  Returns:\n",
    "    The number of elements in nums which are not equal to val.\n",
    "  \"\"\"\n",
    "\n",
    "  i = 0\n",
    "  j = 0\n",
    "  while i < len(nums):\n",
    "    if nums[i] != val:\n",
    "      nums[j] = nums[i]\n",
    "      j += 1\n",
    "    i += 1\n",
    "\n",
    "  return j\n",
    "\n",
    "nums = [3, 2, 2, 3]\n",
    "val = 3\n",
    "\n",
    "k = remove_element(nums, val)\n",
    "\n",
    "print(nums)\n",
    "print(k)\n"
   ]
  },
  {
   "cell_type": "markdown",
   "id": "48de55c1",
   "metadata": {},
   "source": [
    "**Q3.** Given a sorted array of distinct integers and a target value, return the index if the target is found. If not, return the index where it would be if it were inserted in order.\n",
    "\n",
    "You must write an algorithm with O(log n) runtime complexity.\n",
    "\n",
    "**Example 1:**\n",
    "Input: nums = [1,3,5,6], target = 5"
   ]
  },
  {
   "cell_type": "markdown",
   "id": "3719803c",
   "metadata": {},
   "source": [
    "# Ans3"
   ]
  },
  {
   "cell_type": "code",
   "execution_count": 12,
   "id": "806c378b",
   "metadata": {},
   "outputs": [
    {
     "name": "stdout",
     "output_type": "stream",
     "text": [
      "2\n"
     ]
    }
   ],
   "source": [
    "def search_insert_position(nums, target):\n",
    "  \"\"\"Searches for the index of the target value in nums. If the target value is not found, returns the index where it would be inserted in order.\n",
    "\n",
    "  Args:\n",
    "    nums: The sorted array to search.\n",
    "    target: The value to search for.\n",
    "\n",
    "  Returns:\n",
    "    The index of the target value in nums, or the index where it would be inserted in order if it is not found.\n",
    "  \"\"\"\n",
    "\n",
    "  low = 0\n",
    "  high = len(nums) - 1\n",
    "\n",
    "  while low <= high:\n",
    "    mid = (low + high) // 2\n",
    "\n",
    "    if nums[mid] == target:\n",
    "      return mid\n",
    "    elif nums[mid] < target:\n",
    "      low = mid + 1\n",
    "    else:\n",
    "      high = mid - 1\n",
    "\n",
    "  return low\n",
    "\n",
    "\n",
    "nums = [1, 3, 5, 6]\n",
    "target = 5\n",
    "\n",
    "index = search_insert_position(nums, target)\n",
    "\n",
    "print(index)\n"
   ]
  },
  {
   "cell_type": "markdown",
   "id": "44fb3d84",
   "metadata": {},
   "source": [
    "**Q4.** You are given a large integer represented as an integer array digits, where each digits[i] is the ith digit of the integer. The digits are ordered from most significant to least significant in left-to-right order. The large integer does not contain any leading 0's.\n",
    "\n",
    "Increment the large integer by one and return the resulting array of digits.\n",
    "\n",
    "**Example 1:**\n",
    "Input: digits = [1,2,3]\n",
    "Output: [1,2,4]\n",
    "\n",
    "**Explanation:** The array represents the integer 123.\n",
    "\n",
    "Incrementing by one gives 123 + 1 = 124.\n",
    "Thus, the result should be [1,2,4]."
   ]
  },
  {
   "cell_type": "markdown",
   "id": "9c533432",
   "metadata": {},
   "source": [
    "# Ans4"
   ]
  },
  {
   "cell_type": "code",
   "execution_count": 15,
   "id": "45f56069",
   "metadata": {},
   "outputs": [
    {
     "name": "stdout",
     "output_type": "stream",
     "text": [
      "[1, 2, 4]\n"
     ]
    }
   ],
   "source": [
    "def plus_one(digits):\n",
    "  \"\"\"Increments the large integer represented by digits by one.\n",
    "\n",
    "  Args:\n",
    "    digits: The array of digits representing the integer.\n",
    "\n",
    "  Returns:\n",
    "    The array of digits representing the incremented integer.\n",
    "  \"\"\"\n",
    "\n",
    "  carry = 1\n",
    "  result = []\n",
    "\n",
    "  for digit in digits[::-1]:\n",
    "    digit = digit + carry\n",
    "    carry = digit // 10\n",
    "    result.append(digit % 10)\n",
    "\n",
    "  if carry > 0:\n",
    "    result.append(carry)\n",
    "\n",
    "  result.reverse()\n",
    "\n",
    "  return result\n",
    "\n",
    "\n",
    "digits = [1, 2, 3]\n",
    "\n",
    "result = plus_one(digits)\n",
    "\n",
    "print(result)\n"
   ]
  },
  {
   "cell_type": "markdown",
   "id": "2e8d5b73",
   "metadata": {},
   "source": [
    " **Q5.** You are given two integer arrays nums1 and nums2, sorted in non-decreasing order, and two integers m and n, representing the number of elements in nums1 and nums2 respectively.\n",
    "\n",
    "Merge nums1 and nums2 into a single array sorted in non-decreasing order.\n",
    "\n",
    "The final sorted array should not be returned by the function, but instead be stored inside the array nums1. To accommodate this, nums1 has a length of m + n, where the first m elements denote the elements that should be merged, and the last n elements are set to 0 and should be ignored. nums2 has a length of n.\n",
    "\n",
    "**Example 1:**\n",
    "Input: nums1 = [1,2,3,0,0,0], m = 3, nums2 = [2,5,6], n = 3\n",
    "Output: [1,2,2,3,5,6]\n",
    "\n",
    "**Explanation:** The arrays we are merging are [1,2,3] and [2,5,6].\n",
    "The result of the merge is [1,2,2,3,5,6] with the underlined elements coming from nums1."
   ]
  },
  {
   "cell_type": "markdown",
   "id": "f55e44f7",
   "metadata": {},
   "source": [
    "# Ans5"
   ]
  },
  {
   "cell_type": "code",
   "execution_count": 35,
   "id": "d4fe79b6",
   "metadata": {},
   "outputs": [
    {
     "name": "stdout",
     "output_type": "stream",
     "text": [
      "[1, 2, 2, 3, 5, 6]\n"
     ]
    }
   ],
   "source": [
    "def merge_sorted_arrays(nums1, m, nums2, n):\n",
    "    \"\"\"Merges the two sorted arrays nums1 and nums2 into a single sorted array.\n",
    "\n",
    "  Args:\n",
    "    nums1: The first sorted array.\n",
    "    m: The number of elements in nums1.\n",
    "    nums2: The second sorted array.\n",
    "    n: The number of elements in nums2.\n",
    "\n",
    "  Returns:\n",
    "    None. The merged array is stored in nums1.\n",
    "  \"\"\"\n",
    "    i = m - 1\n",
    "    j = n - 1\n",
    "    k = m + n - 1\n",
    "\n",
    "    while i >= 0 and j >= 0:\n",
    "        if nums1[i] > nums2[j]:\n",
    "            nums1[k] = nums1[i]\n",
    "            i -= 1\n",
    "        else:\n",
    "            nums1[k] = nums2[j]\n",
    "            j -= 1\n",
    "        k -= 1\n",
    "\n",
    "    # Copy the remaining elements of nums2 if any.\n",
    "    while j >= 0:\n",
    "        nums1[k] = nums2[j]\n",
    "        j -= 1\n",
    "        k -= 1\n",
    "\n",
    "nums1 = [1, 2, 3, 0, 0, 0]\n",
    "m = 3\n",
    "nums2 = [2, 5, 6]\n",
    "n = 3\n",
    "\n",
    "merge_sorted_arrays(nums1, m, nums2, n)\n",
    "print(nums1)\n"
   ]
  },
  {
   "cell_type": "markdown",
   "id": "c973c566",
   "metadata": {},
   "source": [
    "**Q6.** Given an integer array nums, return true if any value appears at least twice in the array, and return false if every element is distinct.\n",
    "\n",
    "**Example 1:**\n",
    "Input: nums = [1,2,3,1]\n",
    "\n",
    "Output: true"
   ]
  },
  {
   "cell_type": "markdown",
   "id": "12061400",
   "metadata": {},
   "source": [
    "# Ans6"
   ]
  },
  {
   "cell_type": "code",
   "execution_count": 37,
   "id": "195ef954",
   "metadata": {},
   "outputs": [
    {
     "name": "stdout",
     "output_type": "stream",
     "text": [
      "False\n"
     ]
    }
   ],
   "source": [
    "def contains_duplicate(nums):\n",
    "  \"\"\"\n",
    "  Given an integer array nums, return true if any value appears at least twice in the array, and return false if every element is distinct.\n",
    "\n",
    "  Args:\n",
    "    nums: An array of integers.\n",
    "\n",
    "  Returns:\n",
    "    True if the array contains any duplicates, False otherwise.\n",
    "  \"\"\"\n",
    "\n",
    "  # Create a set to store the elements of the array.\n",
    "  seen = set()\n",
    "\n",
    "  # Iterate over the array and check if each element is in the set.\n",
    "  for num in nums:\n",
    "    if num in seen:\n",
    "      return True\n",
    "    else:\n",
    "      seen.add(num)\n",
    "\n",
    "  # If we reach the end of the array and haven't found any duplicates, return False.\n",
    "  return False\n",
    "\n",
    "nums = [1, 2, 3, 4]\n",
    "\n",
    "print(contains_duplicate(nums))\n",
    "\n"
   ]
  },
  {
   "cell_type": "markdown",
   "id": "82150e3c",
   "metadata": {},
   "source": [
    "**Q7.** Given an integer array nums, move all 0's to the end of it while maintaining the relative order of the nonzero elements.\n",
    "\n",
    "Note that you must do this in-place without making a copy of the array.\n",
    "\n",
    "**Example 1:**\n",
    "Input: nums = [0,1,0,3,12]\n",
    "Output: [1,3,12,0,0]"
   ]
  },
  {
   "cell_type": "markdown",
   "id": "0c71bcd2",
   "metadata": {},
   "source": [
    "# Ans7"
   ]
  },
  {
   "cell_type": "code",
   "execution_count": 40,
   "id": "d996ff55",
   "metadata": {},
   "outputs": [
    {
     "name": "stdout",
     "output_type": "stream",
     "text": [
      "[1, 3, 12, 0, 0]\n"
     ]
    }
   ],
   "source": [
    "def move_zeros(nums):\n",
    "  \"\"\"\n",
    "  Moves all zeros to the end of the array while maintaining the relative order of the nonzero elements.\n",
    "\n",
    "  Args:\n",
    "    nums: The array to be modified.\n",
    "\n",
    "  Returns:\n",
    "    The modified array.\n",
    "  \"\"\"\n",
    "\n",
    "  # Initialize the pointers.\n",
    "  i = 0\n",
    "  j = 0\n",
    "\n",
    "  # Iterate over the array.\n",
    "  while i < len(nums):\n",
    "    # If the current element is not zero, swap it with the element at the current pointer.\n",
    "    if nums[i] != 0:\n",
    "      nums[i], nums[j] = nums[j], nums[i]\n",
    "      j += 1\n",
    "\n",
    "    # Increment the iterator.\n",
    "    i += 1\n",
    "\n",
    "  # Fill the remaining elements with zeros.\n",
    "  for k in range(j, len(nums)):\n",
    "    nums[k] = 0\n",
    "\n",
    "  return nums\n",
    "\n",
    "\n",
    "nums = [0, 1, 0, 3, 12]\n",
    "\n",
    "print(move_zeros(nums))\n"
   ]
  },
  {
   "cell_type": "markdown",
   "id": "ae7dbaa6",
   "metadata": {},
   "source": [
    "**Q8.** You have a set of integers s, which originally contains all the numbers from 1 to n. Unfortunately, due to some error, one of the numbers in s got duplicated to another number in the set, which results in repetition of one number and loss of another number.\n",
    "\n",
    "You are given an integer array nums representing the data status of this set after the error.\n",
    "\n",
    "Find the number that occurs twice and the number that is missing and return them in the form of an array.\n",
    "\n",
    "**Example 1:**\n",
    "Input: nums = [1,2,2,4]\n",
    "Output: [2,3]"
   ]
  },
  {
   "cell_type": "markdown",
   "id": "127fb446",
   "metadata": {},
   "source": [
    "# Ans8"
   ]
  },
  {
   "cell_type": "code",
   "execution_count": 48,
   "id": "e7c07e0d",
   "metadata": {},
   "outputs": [
    {
     "name": "stdout",
     "output_type": "stream",
     "text": [
      "2 3\n"
     ]
    }
   ],
   "source": [
    "def find_duplicate_and_missing(nums):\n",
    "  \"\"\"\n",
    "  Finds the duplicate and missing numbers in an array.\n",
    "\n",
    "  Args:\n",
    "    nums: The array of numbers.\n",
    "\n",
    "  Returns:\n",
    "    A tuple of the duplicate and missing numbers.\n",
    "  \"\"\"\n",
    "\n",
    "  # Create a set of all the numbers in the array.\n",
    "  num_set = set()\n",
    "\n",
    "  # Iterate over the numbers in the array.\n",
    "  for num in nums:\n",
    "\n",
    "    # If the number is already in the set, it is a duplicate.\n",
    "    if num in num_set:\n",
    "      duplicate_num = num\n",
    "\n",
    "    # Otherwise, add the number to the set.\n",
    "    else:\n",
    "      num_set.add(num)\n",
    "\n",
    "  # Iterate over the numbers from 1 to the length of the array.\n",
    "  for i in range(1, len(nums) + 1):\n",
    "\n",
    "    # If the number is not in the set, it is missing.\n",
    "    if i not in num_set:\n",
    "      missing_num = i\n",
    "      break\n",
    "\n",
    "  # Return the duplicate and missing numbers.\n",
    "  return duplicate_num, missing_num\n",
    "\n",
    "\n",
    "nums = [1, 2, 2, 4]\n",
    "\n",
    "duplicate_num, missing_num = find_duplicate_and_missing(nums)\n",
    "\n",
    "print(duplicate_num, missing_num)\n"
   ]
  }
 ],
 "metadata": {
  "kernelspec": {
   "display_name": "Python 3 (ipykernel)",
   "language": "python",
   "name": "python3"
  },
  "language_info": {
   "codemirror_mode": {
    "name": "ipython",
    "version": 3
   },
   "file_extension": ".py",
   "mimetype": "text/x-python",
   "name": "python",
   "nbconvert_exporter": "python",
   "pygments_lexer": "ipython3",
   "version": "3.10.9"
  }
 },
 "nbformat": 4,
 "nbformat_minor": 5
}
